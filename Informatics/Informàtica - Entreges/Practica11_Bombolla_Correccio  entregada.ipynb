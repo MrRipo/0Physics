{
 "metadata": {
  "name": "",
  "signature": "sha256:5dc02efa652c504c6b03c790d41acf52dc1dbfb2c63c8c4c626d7e47a9d5d231"
 },
 "nbformat": 3,
 "nbformat_minor": 0,
 "worksheets": [
  {
   "cells": [
    {
     "cell_type": "markdown",
     "metadata": {},
     "source": [
      "# Examen de la bombolla\n",
      "\n",
      "Autor de la pr\u00e0ctica: <span style=\"color:red; font-family:Georgia; font-size:2em;\">Albert Ripoll</span>\n",
      "\n",
      "Objectiu de la pr\u00e0ctica:\n",
      "\n",
      "* Un cop entregada l'examen de la bombolla, se'm demana corregir els errors que s'han fet, indicant quins s\u00f3n, motivant per qu\u00e8 s\u00f3n erronis, i modificant el programa per aconseguir que funcioni. A partir d'aix\u00f2 haur\u00e9 d'indicar la nota que crec que hauria de treure al test, tenint en compte el barem indicat als enunciats."
     ]
    },
    {
     "cell_type": "markdown",
     "metadata": {},
     "source": [
      "## Tasca 1\n",
      "\n",
      "La primera tasca va ser realitzada correctament. Es va comentar en markdown com s'havia creat el codi i es va crear el codi. El problema que es va tenir va ser oblidar d'importar random al codi final, encara que s'havia explicat en el markdown que era necessari. I tampoc es va fer cap comentari en el codi, potser perqu\u00e8 el markdown era ja prou explicatiu."
     ]
    },
    {
     "cell_type": "code",
     "collapsed": false,
     "input": [
      "import random\n",
      "def crea_llista(L):\n",
      "    ll = []\n",
      "    for x in range(L):\n",
      "        x = random.randint(0,1000)\n",
      "        ll.append(x)\n",
      "    return (ll)\n",
      "llista = crea_llista(100)\n",
      "print (llista)"
     ],
     "language": "python",
     "metadata": {},
     "outputs": [
      {
       "output_type": "stream",
       "stream": "stdout",
       "text": [
        "[241, 492, 88, 970, 325, 54, 791, 562, 385, 636, 753, 821, 347, 367, 433, 574, 594, 0, 52, 691, 168, 641, 649, 708, 873, 699, 818, 86, 161, 822, 302, 882, 780, 189, 539, 85, 426, 788, 322, 76, 53, 782, 269, 582, 341, 357, 273, 520, 23, 782, 374, 442, 66, 195, 118, 715, 884, 395, 287, 680, 998, 567, 234, 750, 416, 668, 378, 253, 7, 478, 775, 155, 948, 386, 755, 612, 669, 483, 772, 544, 704, 748, 44, 464, 324, 598, 788, 193, 836, 875, 555, 3, 224, 629, 276, 280, 987, 520, 384, 501]\n"
       ]
      }
     ],
     "prompt_number": 12
    },
    {
     "cell_type": "markdown",
     "metadata": {},
     "source": [
      "## Tasca 2\n",
      "\n",
      "En la tasca 2 vaig comen\u00e7ar a buscar eines que em servissin per fer girar els elements. Jo sabia com trobar, amb el bucle for, si l'element primer era m\u00e9s gran o no que el seg\u00fcent i aix\u00ed amb tots els elements per\u00f2 despr\u00e9s no vaig saber com fer-los girar. Vaig trobar m\u00e8todes per esborrar i m\u00e8todes per insertar per\u00f2 el codi se'm complicava. Havia de pensar en, al detectar un n\u00famero que s'havia de girar, guardar el n\u00famero i localitzar els mateixos n\u00fameros en la llista per guardar la seva posici\u00f3. Despr\u00e9s esborrar aquest n\u00famero (num) de la llista `.remove(num)` i insertar els n\u00fameros trobats iguals que el que s'havia de girar en el seu lloc original (excepte el propi n\u00famero a girar, i tenint en compte que s'havien eliminat i l'atribuci\u00f3 de les posicions en la llista havia variat per aquesta ra\u00f3) despr\u00e9s insertar (`.insert(num)`) el n\u00famero a la posici\u00f3 seg\u00fcent. Aix\u00f2 era el que havia de fer perqu\u00e8 funcion\u00e9s el meu codi. Com que tot aix\u00f2 \u00e9s molt li\u00f3s perqu\u00e8 hi ha moltes variables a tenir en compte cosa que ho fa molt dif\u00edcil codificar, vaig estar pensant altres maneres de poder girar el s n\u00fameros. Vaig pensar en fer un doble bucle on el primer recorregu\u00e9s els valors de la llista (`for valor in llista`) i el segon reocrregu\u00e9s els index de la llista (`for index in range(len(llista))`) i llavors que d'alguna manera el valor en la llista de la posici\u00f3 que es volgu\u00e9s girar (`llista[index]`) pass\u00e9s a ser el valor de la llista seg\u00fcent (`llista[index + 1]`) i que despr\u00e9s el valor seg\u00fcent fos l'anterior. Per\u00f2 aquesta \u00faltima proposici\u00f3 no sabia com fer-la ja que el n\u00famero situat a la posici\u00f3 'index' no havia estat guardat i, per contra havia estat substitu\u00eft per el valor seg\u00fcent. A sobre tamb\u00e9 vaig tenir problemes quan _Python_ em deia que no sabia iterar sobre enters de la manera que jo estava buscant crear el programa tal i com comento en l'examen. Aix\u00ed doncs no vaig aconseguir poder girar els n\u00fameros que necessitava girar tot i destinari molt de temps a l'examen.\n",
      "\n",
      "Fins aqu\u00ed qu\u00e8 ha motivat els errors. A continuaci\u00f3 dir\u00e9 quin ha estat l'error que he tingut o millor dit qu\u00e8 \u00e9s el que no dominava que ha causat que no pogu\u00e9s realitzar la tasca 2. Jo sabia fer servir bucles for i sabia el seu funcionament. Per\u00f2 no cal saber-los com funciona per fer correctament la tasca. Cal codificar-los correctament. Durant l'examen jo he intentat girar els n\u00fameros amb m\u00e8todes que actuessin dins del bucle per\u00f2 no ha estat gens satisfactori. Per tant, ara amb calma i a a casa penso en altres maneres d'intercanviar-los m\u00e9s relacionada amb la \u00faltima idea del par\u00e0graf anterior. \u00c9s a dir, usant `llista[index]` = `llista[index + 1]` tot guardant el n\u00famero a girar per despr\u00e9s fer `llista[index + 1]` = `num`. Pensant i m\u00e9s que pensar, consultant el meu amic _Google_, trobo una manera molt maca d'anar enumerant la llista de manera que es pot aconseguir el n\u00famero sobre el que s'est\u00e0 treballant i la seva posici\u00f3 en qualsevol moment. Aquesta manera que la he trobada comparada amb la seva forma redu\u00efda `enumerate` \u00e9s: ![enumerate](http://puu.sh/duuWK.png)\n",
      "\n",
      "Sabia que aquesta era la clau del meu enigma que em faltava. Era evident que era aquesta (Aclaraci\u00f3: \u00e9s evident que aquesta \u00e9s la clau per\u00f2 no seria per mi evident trobar-la). \"A common idiom to change every element of a list looks like this\" aquesta frase \u00e9s justament l'inici de la resposta de la meva pregunta!\n",
      "\n",
      "I despr\u00e9s m'ho escriu en una forma simple usant `enumerate()`. Ens havien parlat d'_enumerate_ per\u00f2 mai l'havia necessitat utilitzar-lo i menys d'aquesta manera. A mi m'havien dit que l'enumerate ordenava la llista per elements atribuint-los un \u00edndex enter a cada un. Per\u00f2 despr\u00e9s de veure aix\u00f2 en la web i entendre que la iteraci\u00f3 funciona de tal manera que `item` va adquirint els valors de la llista i `i` va adquirint l'enter pertanyent a la posici\u00f3 de l'`item` em quedo sorp\u00e8s. No sabia de l'exist\u00e8ncia d'aquesta manera d'iterar i jo estava buscant altres m\u00e8todes molt m\u00e9s erredats per programar aquest apartat...\n",
      "\n",
      "Aix\u00ed doncs, el que he fet en aquest codi ha estat el seg\u00fcent. Iterar sobre cada element de la llista i comparar-lo amb tots els altres elements de la llista. \u00c9s a dir fer un bucle dins d'un altre. Llavors per cada element iterat en el segon bucle, comparar si el primer element era m\u00e9s gran o no que el que est\u00e0 analitzant el segon. En cas afirmatiu, canvio les files atribuint un index de la llista a canviar amb el seg\u00fcent i el seg\u00fcent canviar-lo amb el que est\u00e0 analitzant que \u00e9s m\u00e9s gran. \u00c9s dif\u00edcil d'explicar i segurament d'entendre el que explico. Potser amb el codi es veu millor el que vull explicar. El codi que estic explicant \u00e9s:\n",
      "\n",
      "    for valor in llista:\n",
      "        for i in range(len(llista)):\n",
      "            num = llista[i]\n",
      "            if num > llista[i + 1]:\n",
      "                llista[i] = llista[i + 1]\n",
      "                llista[i + 1] = num\n",
      "                \n",
      "I com he trobat puc escriure equivalentment amb enumerate:\n",
      "\n",
      "    for valor in llista:\n",
      "        for index,num in enumerate(llista):\n",
      "            if num > llista[index + 1]:\n",
      "                llista[index] = llista[index + 1]\n",
      "                llista[index + 1] = num\n",
      "                \n",
      "Un cop arribats a aquest punt, ja tinc l'estructura definida. Ara em cal determinar una altra cosa. Aquesta cosa \u00e9s que si es compleix que l'`index` \u00e9s igual a la longitud de la llista - tants cops com s'hagi iniciat el primer bucle, llavors el segon bucle ha de parar. Per qu\u00e8 he d'establir aquesta condici\u00f3? Doncs perqu\u00e8 sin\u00f3 index arribaria a ser 99 i la sent\u00e8ncia if del codi anterior buscaria comparar si l'\u00faltim n\u00famero (`num`) \u00e9s m\u00e9s gran que el n\u00famero despr\u00e9s de l'\u00faltim n\u00famero (`llista[index + 1]`) i es trobaria que no existeix cap n\u00famero a la posici\u00f3 `llista[index + 1]` i ens sortiria l'error de \"list index out of range\" com \u00e9s el cas que ens trobem amb els dos codis escrits just a dalt. Per tant, el codi amb la nova condici\u00f3 \u00e9s:\n",
      "\n",
      "    item = 0\n",
      "    for valor in llista:\n",
      "        item += 1\n",
      "        for index,num in enumerate(llista):\n",
      "            if index == len(llista) - item:\n",
      "                break\n",
      "            elif num > llista[index + 1]:\n",
      "                llista[index] = llista[index + 1]\n",
      "                llista[index + 1] = num\n",
      "                \n",
      "I si l'aplico dins d'una funci\u00f3 amb entrada `llista` i amb sortida de la `llista` que s'ha modificat i ordenat, ja tinc la funci\u00f3 de la tasca 2."
     ]
    },
    {
     "cell_type": "code",
     "collapsed": false,
     "input": [
      "def ordena(llista):\n",
      "    item = 0\n",
      "    for valor in llista:\n",
      "        item+=1\n",
      "        for index,num in enumerate(llista):\n",
      "            if index == len(llista) - item:\n",
      "                break\n",
      "            elif num > llista[index + 1]:\n",
      "                llista[index] = llista[index + 1]\n",
      "                llista[index + 1] = num\n",
      "    return llista"
     ],
     "language": "python",
     "metadata": {},
     "outputs": []
    },
    {
     "cell_type": "markdown",
     "metadata": {},
     "source": [
      "## Tasca 3\n",
      "\n",
      "Despr\u00e9s d'haver-me trencat el cap en intentar girar dos nombres en una llista, em quedava poc temps i vaig anar a fer l'exercici 4 directament per veure si estructurant el codi se m'aclaraven les idees. Quan vaig acabar la tasca 4, ja era l'hora. Aix\u00ed que no vaig ni tenir temps en escriure ni piu en aquesta tasca.\n",
      "\n",
      "Despr\u00e9s d'acabar l'examen i tenir temps a casa per pensar-me la tasca 3, no m'ha resultat gens f\u00e0cil treure-la. No l'he tret ni estant una hora a casa pensant i provant. Per\u00f2 al final he trobat un mecanisme que em troba el n\u00famero que es repeteix m\u00e9s vegades i el nombre de cops que es repeteix.\n",
      "\n",
      "Busco rec\u00f3rrer la llista per elements i cada cop que el programa rec\u00f3rre un n\u00famero de la llista per una variable (del primer bucle), el programa rec\u00f3rre tots els altres n\u00fameros un cop per una altra variable (del segon bucle); aix\u00f2 \u00e9s el que fa l'estructura del doble bucle un dins l'altre. Aix\u00ed doncs, per cada cop que `x` \u00e9s un n\u00famero diferent de la llista, `y` ho va sent tots (s'ent\u00e9n que per ser-ho tots vull dir ser un despr\u00e9s de l'altre, la variable nom\u00e9s \u00e9s un element de la llista per cada instant de temps).\n",
      "\n",
      "Llavors, quan el valor de `x` \u00e9s igual a un altre valor de la llista, aix\u00f2 \u00e9s un dels valors que ha estat `y`, llavors els cops que es repeteix aquell valor `x` que est\u00e0 analitzant \u00e9s un cop m\u00e9s. Per poder escriure que \u00e9s un cop m\u00e9s anteriorment a la realitzaci\u00f3 del segon bucle he hagut de dir: `repeticions_x = 0` i a dins del bucle `repeticions_x = repeticions_x + 1` (que en curt \u00e9s `repeticions_x += 1`).\n",
      "\n",
      "Un cop ha comparat una `x` de la llista amb totes les `y` de la llista, `repeticions_x` t\u00e9 el valor enter de quants cops s'ha repetit aquesta `x`. Despr\u00e9s s'executa l'if (en la primera passada del bucle de `x` sempre s'executa perqu\u00e8 repeticions_x sempre \u00e9s major que repeticions_major (ja que repeticions_major li dic que \u00e9s 0 inicialment i no he canviat el seu valor fins ara). I al executar l'if es guarda el nombre analitzat (`x`) a la variable `valor_major` i es guarden les repeticions a `repeticions_major`.\n",
      "\n",
      "Despr\u00e9s d'haver fet la primera passada, a les passades seg\u00fcents el que passa \u00e9s que, a part de contar amb l'if de dins del segon bucle el nombre de cops que es van repetint els successius nombres `x` en tota la llista, va comprovant si les repeticions d'aquests nombres que va calculant van sent majors que la que tenia guardada en la primera passada. Si s\u00f3n majors, ho guarda, sin\u00f3 deixa el valor inicial. I aix\u00ed ho va fent per tots els nombres de la llista (justament per aix\u00f2 dic 'per nombre en llista' en el codi o el que sint\u00e0xicament s'escriu \"for x in llista\") de tal manera que al final `repeticions_major` no \u00e9s altra cosa que el nombre de repeticions del nombre que es repeteix m\u00e9s vegades i `valor_major` \u00e9s aquest nombre.\n",
      "\n",
      "Acabo la funci\u00f3 retornant aquestes dues variables justament per despr\u00e9s, en la tasca 4, usar-los per mostrar-los en un print final."
     ]
    },
    {
     "cell_type": "code",
     "collapsed": false,
     "input": [
      "import random\n",
      "def crea_llista(L): # Funci\u00f3 de la tasca 1\n",
      "    ll = []\n",
      "    for x in range(L):\n",
      "        x = random.randint(0,1000)\n",
      "        ll.append(x)\n",
      "    return (ll)\n",
      "\n",
      "def repetit(llista):\n",
      "    repeticions_major = 0\n",
      "    valor_major = 0\n",
      "    for x in llista:\n",
      "        repeticions_x = 0\n",
      "        for y in llista:\n",
      "            if y == x:\n",
      "                repeticions_x += 1\n",
      "        if repeticions_x > repeticions_major:\n",
      "            repeticions_major = repeticions_x\n",
      "            valor_major = x\n",
      "    return (valor_major, repeticions_major)\n",
      "\n",
      "llist = crea_llista(100)\n",
      "num,repe =repetit(llist)\n",
      "print(\"El nombre\", num, \"\u00e9s el que es repeteix m\u00e9s vegades en la llista seg\u00fcent:\\n\\n\", llist, \"\\n\\nConcretament es repeteix \",repe,\"vegades\")"
     ],
     "language": "python",
     "metadata": {},
     "outputs": [
      {
       "output_type": "stream",
       "stream": "stdout",
       "text": [
        "El nombre 724 \u00e9s el que es repeteix m\u00e9s vegades en la llista seg\u00fcent:\n",
        "\n",
        " [187, 896, 815, 554, 841, 386, 250, 193, 617, 905, 518, 46, 575, 148, 130, 532, 185, 227, 173, 355, 957, 264, 40, 855, 724, 759, 802, 486, 277, 894, 84, 89, 766, 724, 211, 744, 458, 340, 851, 501, 403, 809, 958, 35, 310, 254, 87, 744, 475, 946, 842, 280, 568, 795, 922, 22, 351, 204, 20, 563, 572, 24, 224, 631, 636, 453, 448, 67, 70, 906, 604, 87, 558, 937, 923, 652, 453, 715, 966, 218, 135, 907, 68, 443, 965, 996, 161, 723, 525, 511, 209, 857, 212, 909, 672, 880, 947, 255, 380, 605] \n",
        "\n",
        "Concretament es repeteix  2 vegades\n"
       ]
      }
     ],
     "prompt_number": 3
    },
    {
     "cell_type": "markdown",
     "metadata": {},
     "source": [
      "## Tasca 4\n",
      "\n",
      "L'estructuraci\u00f3 de la tasca era correcta malgrat no tenir la funci\u00f3 de la tasca 2 feta. Vaig intentar pensar que tenia aquesta funci\u00f3 i llavors fer l'estructuraci\u00f3 del codi segons aquesta consideraci\u00f3. Vaig intentar usar comentaris en el codi per aclarar l'estructura per\u00f2 aquests, al igual que el markdown no van ser molt explicatius ja que sabia que encara havia de fer la tasca 3 i no em podia extendre. Vaig intentar, per\u00f2 que s'entengu\u00e9s i suposo que ho he aconseguit perqu\u00e8 quan l'he llegit ara, setmanes despr\u00e9s de fer l'examen, l'he pogut entendre i retocar-lo per fer l'acabat final despr\u00e9s de resoldre la tasca 2 i a m\u00e9s a m\u00e9s afegir la 3.\n",
      "\n",
      "Respecte el codi de l'examen he afegit m\u00e9s comentaris al codi que jo entenc per\u00f2 que els realitzo per si algun programador diferent al autor del programa llegeix el meu codi que l'entengui. Despr\u00e9s tamb\u00e9 he, \u00f2bviament, afegit les funcions del codi 2 i 3 correctament creades i a continuaci\u00f3 he fet algun petit canvi com attribuir la llista retornada per la funci\u00f3 que crea la llista com `llista_creada` en comptes de simplement `llista` perqu\u00e8 sigui el m\u00e9s entenador possible. Finalement he modificat el print perqu\u00e8 fos m\u00e9s entenedor i que mostr\u00e9s tamb\u00e9 el valor m\u00e9s repetit i les vegades repetit."
     ]
    },
    {
     "cell_type": "code",
     "collapsed": false,
     "input": [
      "import random\n",
      "def crea_llista(L): #Codi de la tasca 1\n",
      "    ll = []\n",
      "    for x in range(L):\n",
      "        x = random.randint(0,1000)\n",
      "        ll.append(x)\n",
      "    return (ll)\n",
      "\n",
      "def ordena(llista): #Codi de la tasca 2\n",
      "    item = 0\n",
      "    for valor in llista:\n",
      "        item = item + 1\n",
      "        for index,num in enumerate(llista):\n",
      "            if index == len(llista) - item:\n",
      "                break\n",
      "            elif num > llista[index + 1]:\n",
      "                llista[index] = llista[index + 1]\n",
      "                llista[index + 1] = num\n",
      "    return llista\n",
      "\n",
      "def repetit(llista): #Codi de la tasca 3\n",
      "    repeticions_major = 0\n",
      "    valor_major = 0\n",
      "    for x in llista:\n",
      "        repeticions_x = 0\n",
      "        for y in llista:\n",
      "            if y == x:\n",
      "                repeticions_x += 1\n",
      "        if repeticions_x > repeticions_major:\n",
      "            repeticions_major = repeticions_x\n",
      "            valor_major = x\n",
      "    return (valor_major, repeticions_major)\n",
      "\n",
      "while True: #Per demanar si es vol continuar o no\n",
      "    try:\n",
      "        resposta = int(input(\"Vol continuar? (1=S\u00ed, 2=No): \"))\n",
      "        if resposta == 1 or resposta == 2: #Si es fa una resposta l\u00f2gica, trenca el bucle de demanar.\n",
      "            break\n",
      "        else:\n",
      "            continue\n",
      "    except ValueError:\n",
      "        print(\"Responeu correctament a la pregunta, siusplau.\")\n",
      "if resposta == 2: #Si no es vol continuar es compleix que la resposta \u00e9s 2, llavors s'escriu el print i el programa acaba.\n",
      "    print (\"D'acord, si no vol continuar sortim del programa.\")\n",
      "else: #Si es vol continuar l'else es compleix i llavors s'executa el programa.\n",
      "    while True:\n",
      "        try:\n",
      "            Dimensio = int(input(\"Quina longitud vol que tingui la llista?: \")) #Es demana la dimensi\u00f3 de la llista\n",
      "            if Dimensio >0:\n",
      "                break #Es trenca el bucle quan es d\u00f3na un enter positiu\n",
      "            else:\n",
      "                print(\"Escriu un valor positiu!\") #Si s'escriu un enter que no \u00e9s positiu surt aquest missatge\n",
      "                continue\n",
      "        except ValueError:\n",
      "            print(\"Responeu correctament a la pregunta, siusplau.\")#Si s'escriu qualsevol cosa diferenta a un enter surt aquest missatge\n",
      "    llista_creada = crea_llista(Dimensio)\n",
      "    llista_ordenada = ordena(llista_creada)\n",
      "    print(\"\\nLa llista creada aleat\u00f2riament de dimensi\u00f3\", Dimensio, \"\u00e9s la seg\u00fcent:\\n\\n\", llista_creada, \"\\n\\nI la llista ordenada \u00e9s:\\n\\n\", llista_ordenada)\n",
      "    num,repe =repetit(llista_ordenada)\n",
      "    print(\"\\nEl nombre\", num, \"\u00e9s el que es repeteix m\u00e9s vegades en la llista.\\nConcretament es repeteix \",repe,\"vegades.\")"
     ],
     "language": "python",
     "metadata": {},
     "outputs": [
      {
       "name": "stdout",
       "output_type": "stream",
       "stream": "stdout",
       "text": [
        "Vol continuar? (1=S\u00ed, 2=No): 1\n"
       ]
      },
      {
       "name": "stdout",
       "output_type": "stream",
       "stream": "stdout",
       "text": [
        "Quina longitud vol que tingui la llista?: 1\n"
       ]
      },
      {
       "output_type": "stream",
       "stream": "stdout",
       "text": [
        "\n",
        "La llista creada aleat\u00f2riament de dimensi\u00f3 1 \u00e9s la seg\u00fcent:\n",
        "\n",
        " [715] \n",
        "\n",
        "I la llista ordenada \u00e9s:\n",
        "\n",
        " [715]\n",
        "\n",
        "El nombre 715 \u00e9s el que es repeteix m\u00e9s vegades en la llista.\n",
        "Concretament es repeteix  1 vegades.\n"
       ]
      }
     ],
     "prompt_number": 1
    }
   ],
   "metadata": {}
  }
 ]
}