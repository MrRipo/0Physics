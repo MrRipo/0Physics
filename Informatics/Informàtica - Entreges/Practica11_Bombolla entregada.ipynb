{
 "metadata": {
  "name": "",
  "signature": "sha256:b5ca7b93fa4153eef41243d919900e5de1d04e8ceeaeca47ec798ecf72b2cb47"
 },
 "nbformat": 3,
 "nbformat_minor": 0,
 "worksheets": [
  {
   "cells": [
    {
     "cell_type": "markdown",
     "metadata": {},
     "source": [
      "## 1\n",
      "\n",
      "Per comen\u00e7ar a plantejar la tasca 1, he fet un codi que em gener\u00e9s n\u00fameros aleatoris del 0 al 1000 tants cops com el valor de L:\n",
      "\n",
      "    import random\n",
      "\n",
      "    L=100\n",
      "    for x in range(L):\n",
      "        x = random.randint(0,1000)\n",
      "        print (x)\n",
      "\n",
      "Al veure que anava b\u00e9, he canviat el print per l'append perqu\u00e8 el que vull \u00e9s obtenir una llista amb aquests valors, no els valors en si, per tant:\n",
      "\n",
      "    import random\n",
      "\n",
      "    L=100\n",
      "    ll = []\n",
      "    for x in range(L):\n",
      "        x = random.randint(0,1000)\n",
      "        ll.append(x)\n",
      "    print (ll)\n",
      "\n",
      "Despr\u00e9s ho he posat tot en una funci\u00f3 tal com mostro sota amb el seu return guardat:"
     ]
    },
    {
     "cell_type": "code",
     "collapsed": false,
     "input": [
      "def crea_llista(L):\n",
      "    ll = []\n",
      "    for x in range(L):\n",
      "        x = random.randint(0,1000)\n",
      "        ll.append(x)\n",
      "    return (ll)\n",
      "llista = crea_llista(100)\n",
      "print (llista)"
     ],
     "language": "python",
     "metadata": {},
     "outputs": [
      {
       "output_type": "stream",
       "stream": "stdout",
       "text": [
        "[544, 455, 256, 4, 335, 84, 370, 272, 202, 762, 138, 93, 983, 589, 144, 524, 105, 53, 421, 116, 912, 569, 632, 966, 405, 450, 814, 391, 431, 66, 37, 662, 884, 38, 997, 639, 189, 222, 916, 69, 577, 755, 0, 49, 304, 994, 349, 27, 197, 321, 607, 657, 707, 885, 177, 42, 98, 955, 436, 870, 863, 151, 222, 475, 199, 831, 668, 683, 160, 572, 821, 805, 783, 830, 287, 701, 346, 577, 484, 645, 866, 975, 330, 198, 667, 368, 285, 208, 157, 603, 657, 401, 332, 816, 767, 676, 919, 405, 133, 53]\n"
       ]
      }
     ],
     "prompt_number": 61
    },
    {
     "cell_type": "markdown",
     "metadata": {},
     "source": [
      "## 2"
     ]
    },
    {
     "cell_type": "markdown",
     "metadata": {},
     "source": [
      "La l\u00f2gica que ha de tenir el programa usant els bucles for i les llistes \u00e9s la seg\u00fcent:\n",
      "\n",
      "    ll = [5, 0]\n",
      "    for x in ll:\n",
      "        print(\"tenim x =\", x)\n",
      "        for y in ll:\n",
      "            print(\"tenim y =\", y)\n",
      "            if y>x:\n",
      "                print (\"y > x:\", y,\">\",x)\n",
      "                print(\"\u00e9s m\u00e9s gran, ha de canviar l'ordre\")\n",
      "            else:\n",
      "                print (\"y <= x:\", y,\"<=\",x)\n",
      "                \n",
      "Aquest programa que he creat demostra que s\u00e9 el que est\u00e0 fent el bucle for i que he d'aplicar la mateixa estructura que aquesta en la meva funci\u00f3 per ordenar la llista. La difer\u00e8ncia \u00e9s que he de canviar els prints que expliquen qu\u00e8 s'est\u00e0 fent en cada punt. En particular he de canviar el print: `print(\"\u00e9s m\u00e9s gran, ha de canviar l'ordre\")` per un codi que em canvii l'ordre dels dos elements de la matriu. L'\u00fanic problema del codi exposat \u00e9s que es realitza la comprovaci\u00f3 de tots els elements amb tots i no de un amb el seu seg\u00fcent.\n",
      "\n",
      "Per fer aquest canvi veig que existeixen els m\u00e8todes _insert_ i _remove_ per les llistes. El primer necessita dos arguments. En el primer li diem en quina posici\u00f3 ha d'anar l'element a introduir i el segon diem quin \u00e9s l'element que s'ha d'introduir. Per exemple el seg\u00fcent codi el que fa \u00e9s introduir l'element enter \"2\" a la posici\u00f3 1 (\u00e9s a dir en segon terme, despr\u00e9s del 5. \n",
      "\n",
      "    ll = [5, 0]\n",
      "\n",
      "    ll.insert(1,2)\n",
      "    \n",
      "El _remove_ el que fa es esborrar el n\u00famero escrit en l'agument. Aix\u00ed si escrivim se seg\u00fcent ens esborrar\u00e0 el zero de la llista i tindrem una llista formada per un \u00fanic element que \u00e9s el 5.\n",
      "\n",
      "    ll = [5, 0]\n",
      "\n",
      "    ll.remove(0)    \n",
      "    \n",
      "Despr\u00e9s he descobert el m\u00e8tode _sort()_ que el que fa \u00e9s ordenar la llista. Aix\u00ed que si fem `llista.sort()`, tindrem qualsevol llista que volguem ordenada i compliriem l'objectiu que se'ns demana sense necessitat de crear una funci\u00f3. Tot i aix\u00ed se'm demana fer-ho amb la funci\u00f3. Per tant, nom\u00e9s usar\u00e9 el m\u00e8tode sort per comprovaci\u00f3.\n",
      "\n",
      "He intentar millorar la base del programa anterior per\u00f2 m'he trobat amb diversos problemes.\n",
      "1) El _remove_ esborra TOTS els n\u00fameros del mateix valor, aix\u00ed si jo he trobat en un lloc de la llista els seg\u00fcents elements [... 5,0 ...] i els vull intercanviar de costat i escric `ll.remove(0)` m'estar\u00e9 carregant tots els possibles 0 que hi hagi en els punts suspensius.\n",
      "2)Per dir a quina posici\u00f3 ha d'insertar el n\u00famero nou li he d'establir un contador que varia en funci\u00f3 de quin element est\u00e0 analitzant (\u00e9s a dir, si analitza el primer el contador ha de ser 0, si fa el segon ha de ser 1 i aix\u00ed successivament). No \u00e9s f\u00e0cil estabblir-los i encara menys d\u00f3na ganes de fer-ho quan s\u00e9 que el remove no fa el funcionament que jo vull que faci.\n",
      "\n",
      "El programa que he volgut escriure tenia la seg\u00fcent aparen\u00e7a:\n",
      "\n",
      "    ll = [5, 0]\n",
      "    i=0\n",
      "    j=0\n",
      "    for x in ll:\n",
      "        print(\"tenim x =\", x)\n",
      "        for y in ll:\n",
      "            print(\"tenim y =\", y)\n",
      "            if y>x:\n",
      "                print (\"y > x:\", y,\">\",x)\n",
      "                numnoux=x\n",
      "                numnouy=y\n",
      "                ll.remove(x)\n",
      "                ll.remove(y)\n",
      "                ll.insert(i, numnoux)\n",
      "                ll.insert(j, numnouy)\n",
      "            else:\n",
      "                print (\"y <= x:\", y,\"<=\",x)\n",
      "\n",
      "Tamb\u00e9 he intentat deixar de banda el meu plantejament inicial i buscar altres coses com les seg\u00fcents per\u00f2 no m'han funcionat perqu\u00e8 _Python_ em diu que no sap iterar sobre enters de la manera que jo busco per crear el programa."
     ]
    },
    {
     "cell_type": "code",
     "collapsed": false,
     "input": [
      "ll = [3,1]\n",
      "i=-1\n",
      "for element in ll:\n",
      "    i+=1\n",
      "    index = ll[i+1]\n",
      "    print (element)\n",
      "    print (index)\n",
      "    if element<index:\n",
      "        print(\"elemenet<index\")\n",
      "        continue\n",
      "    else:\n",
      "        print(\"es compleix l'else\")\n",
      "        element[i]=element[i+1]\n",
      "        element[i+1]=element[i]\n",
      "print (i)"
     ],
     "language": "python",
     "metadata": {},
     "outputs": [
      {
       "output_type": "stream",
       "stream": "stdout",
       "text": [
        "3\n",
        "1\n",
        "ele\n"
       ]
      },
      {
       "ename": "TypeError",
       "evalue": "'int' object is not subscriptable",
       "output_type": "pyerr",
       "traceback": [
        "\u001b[1;31m---------------------------------------------------------------------------\u001b[0m\n\u001b[1;31mTypeError\u001b[0m                                 Traceback (most recent call last)",
        "\u001b[1;32m<ipython-input-51-02c3f4c0e1c0>\u001b[0m in \u001b[0;36m<module>\u001b[1;34m()\u001b[0m\n\u001b[0;32m     11\u001b[0m     \u001b[1;32melse\u001b[0m\u001b[1;33m:\u001b[0m\u001b[1;33m\u001b[0m\u001b[0m\n\u001b[0;32m     12\u001b[0m         \u001b[0mprint\u001b[0m\u001b[1;33m(\u001b[0m\u001b[1;34m\"ele\"\u001b[0m\u001b[1;33m)\u001b[0m\u001b[1;33m\u001b[0m\u001b[0m\n\u001b[1;32m---> 13\u001b[1;33m         \u001b[0melement\u001b[0m\u001b[1;33m[\u001b[0m\u001b[0mi\u001b[0m\u001b[1;33m]\u001b[0m\u001b[1;33m=\u001b[0m\u001b[0melement\u001b[0m\u001b[1;33m[\u001b[0m\u001b[0mi\u001b[0m\u001b[1;33m+\u001b[0m\u001b[1;36m1\u001b[0m\u001b[1;33m]\u001b[0m\u001b[1;33m\u001b[0m\u001b[0m\n\u001b[0m\u001b[0;32m     14\u001b[0m         \u001b[0melement\u001b[0m\u001b[1;33m[\u001b[0m\u001b[0mi\u001b[0m\u001b[1;33m+\u001b[0m\u001b[1;36m1\u001b[0m\u001b[1;33m]\u001b[0m\u001b[1;33m=\u001b[0m\u001b[0melement\u001b[0m\u001b[1;33m[\u001b[0m\u001b[0mi\u001b[0m\u001b[1;33m]\u001b[0m\u001b[1;33m\u001b[0m\u001b[0m\n\u001b[0;32m     15\u001b[0m \u001b[0mprint\u001b[0m \u001b[1;33m(\u001b[0m\u001b[0mi\u001b[0m\u001b[1;33m)\u001b[0m\u001b[1;33m\u001b[0m\u001b[0m\n",
        "\u001b[1;31mTypeError\u001b[0m: 'int' object is not subscriptable"
       ]
      }
     ],
     "prompt_number": 51
    },
    {
     "cell_type": "code",
     "collapsed": false,
     "input": [
      "ll = [3,1]\n",
      "for i in range(len(ll)):\n",
      "    for element in ll:\n",
      "        index = ll[i+1]\n",
      "        print (element)\n",
      "        print (index)\n",
      "        if element<index:\n",
      "            print(\"elemenet<index\")\n",
      "            continue\n",
      "        else:\n",
      "            print(\"es compleix l'else\")\n",
      "            del(element[i])\n",
      "    print (i)"
     ],
     "language": "python",
     "metadata": {},
     "outputs": [
      {
       "output_type": "stream",
       "stream": "stdout",
       "text": [
        "3\n",
        "1\n",
        "es compleix l'else\n"
       ]
      },
      {
       "ename": "TypeError",
       "evalue": "'int' object does not support item deletion",
       "output_type": "pyerr",
       "traceback": [
        "\u001b[1;31m---------------------------------------------------------------------------\u001b[0m\n\u001b[1;31mTypeError\u001b[0m                                 Traceback (most recent call last)",
        "\u001b[1;32m<ipython-input-104-1233db9422e2>\u001b[0m in \u001b[0;36m<module>\u001b[1;34m()\u001b[0m\n\u001b[0;32m     10\u001b[0m         \u001b[1;32melse\u001b[0m\u001b[1;33m:\u001b[0m\u001b[1;33m\u001b[0m\u001b[0m\n\u001b[0;32m     11\u001b[0m             \u001b[0mprint\u001b[0m\u001b[1;33m(\u001b[0m\u001b[1;34m\"es compleix l'else\"\u001b[0m\u001b[1;33m)\u001b[0m\u001b[1;33m\u001b[0m\u001b[0m\n\u001b[1;32m---> 12\u001b[1;33m             \u001b[1;32mdel\u001b[0m\u001b[1;33m(\u001b[0m\u001b[0melement\u001b[0m\u001b[1;33m[\u001b[0m\u001b[0mi\u001b[0m\u001b[1;33m]\u001b[0m\u001b[1;33m)\u001b[0m\u001b[1;33m\u001b[0m\u001b[0m\n\u001b[0m\u001b[0;32m     13\u001b[0m     \u001b[0mprint\u001b[0m \u001b[1;33m(\u001b[0m\u001b[0mi\u001b[0m\u001b[1;33m)\u001b[0m\u001b[1;33m\u001b[0m\u001b[0m\n",
        "\u001b[1;31mTypeError\u001b[0m: 'int' object does not support item deletion"
       ]
      }
     ],
     "prompt_number": 104
    },
    {
     "cell_type": "markdown",
     "metadata": {},
     "source": [
      "## 4\n",
      "\n",
      "He plantejat diferent el if i el else de per demanar si es vol continuar que com se'm planteja, simplement per tenir el else i l'if junts i no separats per tota una parrafada d'accions dins del if que fan funcionar el programa.\n",
      "\n",
      "Tot i que no he estat capa\u00e7 d'esmenar-me-les amb la tasca 2, escric com es faria el programa sencer si hi hagu\u00e9s definda en el codi una funci\u00f3 amb el nom `funcio_tasca2`, amb un argument d'entrada que \u00e9s la llista a ordenar i un retorn que \u00e9s la llista ordenada.\n",
      "\n",
      "Per arreglar que no surti error faig malabarismes. Suposo que tinc la funci\u00f3 ben definida i la creo de manera que no surti errors encara que no funcioni perqu\u00e8 sempre retorna una llista buida i no la llista ordenada que realment hauria de retornar, el que nom\u00e9s li falta en el meu programa \u00e9s el funcionament correcte de la funci\u00f3 perqu\u00e8 la variable `llista_endressada` sigui la llista `llista` amb els seus nombres ordenats."
     ]
    },
    {
     "cell_type": "code",
     "collapsed": false,
     "input": [
      "def funcio_tasca2 (llista_desendressada):\n",
      "    #Aqu\u00ed se situaria el cos de la funci\u00f3 que desendressa la llista_desendressada.\n",
      "    llista_endressada=[]\n",
      "    return(llista_endressada)#I returnaria la llista endressada\n",
      "\n",
      "def crea_llista(L): # \u00c9s la mateixa que l'exercici 1\n",
      "    ll = []\n",
      "    for x in range(L):\n",
      "        x = random.randint(0,1000)\n",
      "        ll.append(x)\n",
      "    return (ll)\n",
      "\n",
      "while True: #Per demanar si es vol continuar o no\n",
      "    try:\n",
      "        resposta = int(input(\"Vol continuar? (1=S\u00ed, 2=No): \"))\n",
      "        if resposta == 1 or resposta == 2:\n",
      "            break\n",
      "        else:\n",
      "            continue\n",
      "    except ValueError:\n",
      "        print(\"Responeu correctament a la pregunta, siusplau.\")\n",
      "if resposta == 2:\n",
      "    print (\"D'acord, si no vol continuar sortim del programa\")\n",
      "else: #Si es vol continuar l'else es compleix i llavors s'executa el programa.\n",
      "    while True: #Per demanar la dimensi\u00f3 de la llista\n",
      "        try:\n",
      "            Dimensio = int(input(\"Quina longitud vol que tingui la llista?: \"))\n",
      "            if Dimensio >0:\n",
      "                break\n",
      "            else:\n",
      "                print(\"Escriu un valor positiu!\")\n",
      "                continue\n",
      "        except ValueError:\n",
      "            print(\"Responeu correctament a la pregunta, siusplau.\")\n",
      "    llista = crea_llista(Dimensio)\n",
      "    llista_ordenada = funcio_tasca2(llista)\n",
      "    print(\"La llista creada aleatoriament de dimensi\u00f3\", Dimensio, \"\u00e9s la seg\u00fcent:\\n\\n\", llista, \"\\n\\nI la llista ordenada \u00e9s:\\n\\n\", llista_ordenada)"
     ],
     "language": "python",
     "metadata": {},
     "outputs": [
      {
       "name": "stdout",
       "output_type": "stream",
       "stream": "stdout",
       "text": [
        "Vol continuar? (1=S\u00ed, 2=No): 1\n"
       ]
      },
      {
       "name": "stdout",
       "output_type": "stream",
       "stream": "stdout",
       "text": [
        "Quina longitud vol que tingui la llista?: 2\n"
       ]
      },
      {
       "output_type": "stream",
       "stream": "stdout",
       "text": [
        "La llista creada aleatoriament de dimensi\u00f3 2 \u00e9s la seg\u00fcent:\n",
        "\n",
        " [938, 866] \n",
        "\n",
        "I la llista ordenada \u00e9s:\n",
        "\n",
        " []\n"
       ]
      }
     ],
     "prompt_number": 111
    }
   ],
   "metadata": {}
  }
 ]
}