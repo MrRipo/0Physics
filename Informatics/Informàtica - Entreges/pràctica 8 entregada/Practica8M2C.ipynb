{
 "metadata": {
  "name": "",
  "signature": "sha256:ce7071a1b5fbb5f7c3c4c32bede0479ec815d8135bec4292aeae285bc4f271ed"
 },
 "nbformat": 3,
 "nbformat_minor": 0,
 "worksheets": [
  {
   "cells": [
    {
     "cell_type": "markdown",
     "metadata": {},
     "source": [
      "Autor de la pr\u00e0ctica: <span style=\"color:red; font-family:Georgia; font-size:2em;\">Albert Ripoll</span>\n",
      "\n",
      "Llegenda de la pr\u00e0ctica:\n",
      "\n",
      "* En negre escric el que se'm demana fer en aquell exercici.\n",
      "\n",
      "* En <span style=\"color:blue\">blau</span> escric les explicacions i els comentaris adequats de cada exercici.\n",
      "\n",
      "#Exercici 1: fitxers de text b\u00e0sics\n",
      "\n",
      "En aquest exercici he de fer un programa que compti les paraules d'un fitxer de text.\n",
      "\n",
      "* La funci\u00f3 ha de rebre una variable de tipus str i comptar les paraules que cont\u00e9. Se'm indica que: \"una paraula es\n",
      "defineix com una serie de car\u00e0cters delimitats per: espais, signes de puntuaci\u00f3, un principi de l\u00ednia o\n",
      "un final de l\u00ednia\" i tamb\u00e9 que \"per comptar les paraules d'una l\u00ednia he de comptar les vegades que es troba un car\u00e0cter normal\n",
      "seguit d'un car\u00e0cter de separaci\u00f3 (signe de puntuaci\u00f3, blanc o final de linia)\"\n",
      "\n",
      "* El programa ha de:\n",
      "\n",
      "1) Demanar un nom de fitxer de text.\n",
      "\n",
      "2) Llegir el fitxer l\u00ednia a l\u00ednia.\n",
      "\n",
      "3) Per cada l\u00ednia usar la funci\u00f3 anterior per comptar les paraules de la l\u00ednia.\n",
      "\n",
      "4) Acumular el n\u00famero total de paraules i acabar el programa indicant-ne el total.\n",
      "\n",
      "He d'acabar comprovant que el programa funciona amb el fitxer Labs p8 E1.txt donat. El resultat hauria de ser 450\n",
      "paraules."
     ]
    },
    {
     "cell_type": "markdown",
     "metadata": {},
     "source": [
      "<span style=\"color:blue\">La manera com se'm demana que realitzi l'exercici la trobo una mica enrebassada. Per qu\u00e8 em diu que una paraula es defineix com una s\u00e8rie de car\u00e0cters delimitats per: espais, signes de puntuaci\u00f3, un principi de l\u00ednia o un final de l\u00ednia?, si \u00e9s m\u00e9s f\u00e0cil pensar-ho com s\u00e8rie de paraules delimitades per un espai o un salt de l\u00ednia? Despr\u00e9s de cada signe de puntuaci\u00f3 hi ha un espai, abans de cada principi de l\u00ednia hi ha un salt de l\u00ednia i despr\u00e9s d'un final de l\u00ednia tamb\u00e9 hi ha un salt de l\u00ednia. Per aix\u00f2 he pensat en separar les paraules cada cop que em trobi amb un espai i despr\u00e9s ja pensar\u00e9 com separar-ho per salts de l\u00ednia. A m\u00e9s a m\u00e9s, un cop tingui les paraules separades tamb\u00e9 he de contar els signes (de puntuaci\u00f3, d'exclamaci\u00f3, d'interrogaci\u00f3...) com a car\u00e0cters, \u00bfno?</span>\n",
      "\n",
      "<span style=\"color:blue\">Havia de pensar com podia ordenar-li a la funci\u00f3 que separ\u00e9s un string introduit per un input amb una llista en que cada element correspongu\u00e9s a una paraula. Llavors he pensat: segur que hi deu haver un m\u00e8tode capa\u00e7 de detectar espais, llavors he buscat en el manual de Python per aquesta opci\u00f3 i he trobat el seg\u00fcent m\u00e8tode a l'apartat de [Built-inTypes](https://docs.python.org/2/library/stdtypes.html): </span> ![split](http://puu.sh/cTnl7.png) \n",
      "\n",
      "<span style=\"color:blue\">Amb molta tra\u00e7a els anglesos han atribu\u00eft el nom _split_ al m\u00e8tode usat per separar strings. Se'ns explica que aquest m\u00e8tode es fa servir amb dos arguments opcionals `sep`  i `maxsplit`. El primer ens permet ordenar quin \u00e9s el car\u00e0cter que ha de trobar per realitzar una separaci\u00f3 i el segon ens permet determinar quantes separacions m\u00e0ximes pot fer. Si no atribuim cap argument, per defecte separa els strings per espais i ho fa sense l\u00edmits (fins que acaba).</span>\n",
      "\n",
      "<span style=\"color:blue\">En la meva primera construcci\u00f3 del programa, definexo la funci\u00f3 `funcio_conta_paraules` amb l'argument `entrada`. A dins de la funci\u00f3 uso el m\u00e8tode _split_ sense cap argument sobre la variable entrada per a separar la cadena de car\u00e0cters que sigui introdu\u00efda en l'argument de la funci\u00f3. Despr\u00e9s ordeno que imprimeixi la llargada de la llista creada pel m\u00e8tode _split_ que l'havia guardada en la variable `paraules`. Per fer refer\u00e8ncia a la llargada de la llista uso el m\u00e8tode `len` que el que fa \u00e9s dir quants elements t\u00e9  la llista `paraules` a la qual \u00e9s aplicat. `paraules` \u00e9s una llista on cada element \u00e9s una paraula de l' `entrada`.</span>\n",
      "\n",
      "<span style=\"color:blue\">A fora de la funci\u00f3 he creat un input convertit a string `str(input(\"\"))` perqu\u00e8 pugui introduir car\u00e0cters i provar la funci\u00f3. Llavors he fet que es guardi d'input a la variable `string` i que cridi la funci\u00f3 `funcio_conta_paraules` amb l'argument `string`, \u00e9s a dir, que la funci\u00f3 `funcio_conta_paraules` funcioni amb els car\u00e0cters de l'input.</span>\n"
     ]
    },
    {
     "cell_type": "code",
     "collapsed": false,
     "input": [
      "def funcio_conta_paraules (entrada):\n",
      "    paraules = entrada.split()\n",
      "    print (len(paraules))\n",
      "         \n",
      "string = str(input(\"Escriu quasevol variable de tipus string: \"))          \n",
      "funcio_conta_paraules(string)"
     ],
     "language": "python",
     "metadata": {},
     "outputs": [
      {
       "name": "stdout",
       "output_type": "stream",
       "stream": "stdout",
       "text": [
        "Escriu quasevol variable de tipus string: ijf fqwk kf\n"
       ]
      },
      {
       "output_type": "stream",
       "stream": "stdout",
       "text": [
        "3\n"
       ]
      }
     ],
     "prompt_number": 1
    },
    {
     "cell_type": "markdown",
     "metadata": {},
     "source": [
      "<span style=\"color:blue\">En el segon pas de la construcci\u00f3 del programa he volgut que es lleg\u00eds l'input l\u00ednia a l\u00ednia. Per fer-ho he usat el m\u00e8tode _split_ per separar l\u00ednies indicant que el primer argument \u00e9s una l\u00ednia nova, \u00e9s a dir que el separador fos \\n: `entrada.split(\"\\n\")`. He guardat la llista creada per la separaci\u00f3 de les l\u00ednies a la variable `linies`. Seguidament li he dit que per cada l\u00ednia que hi hagu\u00e9s a la variable l\u00ednies (\u00e9s a dir, per cada element en la llista `linies`) separ\u00e9s la `linia` (l'element de la llista `linies`) en paraules i que despr\u00e9s imprim\u00eds el nombre de paraules de cada l\u00ednia analitzada.</span>"
     ]
    },
    {
     "cell_type": "code",
     "collapsed": false,
     "input": [
      "def funcio_conta_paraules (entrada):\n",
      "    linies = entrada.split(\"\\n\")\n",
      "    for linia in linies:\n",
      "        llista_paraules = linia.split()\n",
      "        print (len(llista_paraules))\n",
      "         \n",
      "string = str(input(\"Escriu quasevol variable de tipus string: \"))          \n",
      "funcio_conta_paraules(string)"
     ],
     "language": "python",
     "metadata": {},
     "outputs": [
      {
       "name": "stdout",
       "output_type": "stream",
       "stream": "stdout",
       "text": [
        "Escriu quasevol variable de tipus string: hola\n"
       ]
      },
      {
       "output_type": "stream",
       "stream": "stdout",
       "text": [
        "1\n"
       ]
      }
     ],
     "prompt_number": 2
    },
    {
     "cell_type": "markdown",
     "metadata": {},
     "source": [
      "<span style=\"color:blue\">Com que a l'input no podem introduir salts de l\u00ednia m'he vist obligat a crear un fitxer perqu\u00e8 el llegeixi, ja que sin\u00f3 aquest programa no aportaria res de nou a l'anterior.</span>\n",
      "\n",
      "<span style=\"color:blue\">He volgut que lleg\u00eds el fitxer `Labs_p8_E1.txt` penjat al campus perqu\u00e8 cont\u00e9s les paraules d'all\u00e0. Per fer-ho m'he descarregat el fitxer i l'he introdu\u00eft a la carpeta \"IPython Notebooks\" dels meus documents perqu\u00e8 pugui utilitzar-la. Llavors la idea ha estat fer que l'input sigui el nom del fitxer a demanar i que la variable a contar paraules fos el fitxer en s\u00ed. Fent aix\u00f2 compliria la primera expecifiaci\u00f3:</span>\n",
      "\n",
      ">> 1) Demanar un nom de fitxer de text.\n",
      "\n",
      "<span style=\"color:blue\">Despr\u00e9s he volgt complir amb la segona especificaci\u00f3 del programa, que llegeixi el fitxer l\u00ednia a l\u00ednia. Per fer-ho he obert el fitxer, he guardat el seu contingut en una variable i seguidament l'he tancat per evitar tenir-lo obert durant tota la seva utilitzaci\u00f3.</span>\n",
      "\n",
      ">>2) Llegir el fitxer l\u00ednia a l\u00ednia.\n",
      "\n",
      "\n",
      "*  <span style=\"color:blue\">Per obrir-lo he escrit `document = open(fitxer_a_obrir, 'r')` on el `fitxer_a_obrir` \u00e9s l'input introdu\u00eft, `'r'` \u00e9s l'obertura per la seva lectura i `document` \u00e9s la variable amb la que l'obro.</span>\n",
      "\n",
      "*  <span style=\"color:blue\">Per guardar el seu contingut en una variable he fet servir l'explicaci\u00f3 del pdf penjat al campus _11_Files.pdf_ m\u00e9s concretament l'apartat en que feia llegir el document que havia creat de la seg\u00fcent manera:</span>![readlines](http://puu.sh/cTv9v.png)<span style=\"color:blue\">Per aquest motiu he dit que les l\u00ednies de text eren les _readlines_ del document de la seg\u00fcent manera: `linies_text = document.readlines()`</span>\n",
      "\n",
      "<span style=\"color:blue\">Aix\u00ed aconseguia complir la condici\u00f3 de llegir el fitxer l\u00ednia a l\u00ednia.</span>\n",
      "\n",
      "*  <span style=\"color:blue\">Finalment he tancat el document amb la comanda `.close()`</span>\n",
      "\n",
      "\n",
      "<span style=\"color:blue\">Un cops arribats en aquest punt, he constru\u00eft la tercera part del programa; o potser millor dit, he buscat complir la tercera especifiaci\u00f3:</span>\n",
      "\n",
      ">>3) Per cada l\u00ednia usar la funci\u00f3 anterior per comptar les paraules de la l\u00ednia.\n",
      "\n",
      "<span style=\"color:blue\">Li he dit que per cada element (l\u00ednia) que hi hagi en la llista (de l\u00ednies de text) us\u00e9s la funci\u00f3 de comptar paraules tants cops com elements hi ha en la llista (com l\u00ednies en l\u00ednies de text). Al cridar la funci\u00f3 he fet que em guard\u00e9s el `return` en la variable `paraules`, o sigui, que em guard\u00e9s el n\u00famero de paraules en cada l\u00ednia en aquesta variable.\n",
      "\n",
      "<span style=\"color:blue\">Aix\u00ed doncs, immediatament despr\u00e9s he dit que el total de paraules s\u00f3n la suma de les paraules de la l\u00ednia (variable paraules). Per fer-ho he escrit: `total_paraules = total_paraules + paraules` el qual es pot simplificar si s'escriu: `total_paraules += paraules`. D'aquesta manera acumulo el n\u00famero total de paraules complint aix\u00ed la quarta condici\u00f3:</span>\n",
      "\n",
      ">>4) Acumular el n\u00famero total de paraules i acabar el programa indicant-ne el total."
     ]
    },
    {
     "cell_type": "code",
     "collapsed": false,
     "input": [
      "#Compliment de les especifiacions comentades en el lloc on es compleixen.\n",
      "def funcio_conta_paraules (entrada):\n",
      "    paraules = entrada.split()\n",
      "    return (len(paraules))\n",
      "\n",
      "#Demani un nom de fitxer de text\n",
      "fitxer_a_obrir = str(input(\"Escriu el nom del fitxer (Recomanaci\u00f3:Labs_p8_E1.txt) \"))\n",
      "\n",
      "#Llegeixi el fitxer l\u00ednia a l\u00ednia\n",
      "document = open(fitxer_a_obrir, 'r')\n",
      "linies_text = document.readlines()\n",
      "document.close()\n",
      "\n",
      "total_paraules = 0\n",
      "\n",
      "#Per cada l\u00ednia usi la funci\u00f3 anterior per comptar les paraules de la l\u00ednia\n",
      "for linia in linies_text:\n",
      "    paraules = funcio_conta_paraules(linia)\n",
      "    total_paraules += paraules #Acumuli el n\u00famero total de paraules\n",
      "\n",
      "print(total_paraules) #i acabi el programa indicant el total"
     ],
     "language": "python",
     "metadata": {},
     "outputs": [
      {
       "name": "stdout",
       "output_type": "stream",
       "stream": "stdout",
       "text": [
        "Escriu el nom del fitxer (Recomanaci\u00f3:Labs_p8_E1.txt) Labs_p8_E1.txt\n"
       ]
      },
      {
       "output_type": "stream",
       "stream": "stdout",
       "text": [
        "450\n"
       ]
      }
     ],
     "prompt_number": 43
    },
    {
     "cell_type": "markdown",
     "metadata": {},
     "source": [
      "### Opcional:\n",
      "\n",
      "Opcionalment puc completar el programa per tal que compti el n\u00famero de l\u00ednes, de paraules i de car\u00e0cters. El\n",
      "resultat pel fitxer Labs_p8_E1.txt hauria de de ser:\n",
      "\n",
      "Total car\u00e0cters: 2954\n",
      "\n",
      "Total paraules: 450\n",
      "\n",
      "Total l\u00ednies: 9\n",
      "\n",
      "<span style=\"color:blue\">Partint del programa anterior, afageixo el recompte de total de l\u00ednies de la seg\u00fcent manera:</span>\n",
      "\n",
      "<span style=\"color:blue\">He escrit `total_linies = total_linies + 1` o, el que \u00e9s el mateix de forma redu\u00efda: `total_linies += 1` dins del bucle for perqu\u00e8 s\u00e9 que es realitzar\u00e0 el bucle tants cops com `linia in linies_text` o sigui cada cop que hi hagi una l\u00ednia en el conjunt de l\u00ednies del document. Just abans del bucle li he hagut d'indicar que el total de l\u00ednies inicial \u00e9s 0: `total_linies = 0`. I posteriorment de l'impressi\u00f3 de paraules he afegit l'impressi\u00f3 de l\u00ednies.</span>\n",
      "\n",
      "<span style=\"color:blue\">A continuaci\u00f3 el recompte de car\u00e0cters totals:</span>\n",
      "\n",
      "<span style=\"color:blue\">He fet que sumi la longitud de la l\u00ednia (\u00e9s a dir, la quantitat de car\u00e0cters de la l\u00ednia) cada cop que analitza una l\u00ednia del text a la variable `total_caracters`. Dit d'una altra manera, dins del bucle he escrit `total_caracters += len(linia)`. De la mateixa manera que les l\u00ednies, li he hagut d'indicar que el total de car\u00e0cters inicial \u00e9s 0: `total_caracters = 0` abans del bucle i posteriorment imprimir el nombre de car\u00e0cters.</span>\n",
      "\n",
      "<span style=\"color:blue\"><u>Nota:</u> Comprovant el resultat de car\u00e0cters que em calcula el meu programa i el que se m'indica a l'enunciat que ha de donar veig que el meu programa conta 9 car\u00e0cters m\u00e9s que el que hauria de contar. He sospitat que \u00e9s perqu\u00e8 considera el salt de l\u00ednia com a car\u00e0cter. He investigat sobre l'assumpte i he descobert que si trio un fitxer on he apretat 5 cops el bot\u00f3 'intro' em conta 0 paraules, 5 l\u00ednies i 5 car\u00e0cters, \u00e9s per aix\u00f2 que dedueixo que el meu programa est\u00e0 contant els salts de l\u00ednia com a car\u00e0cters i ja fa b\u00e9 perqu\u00e8 un salt de l\u00ednia no deixa de ser un car\u00e0cter. Al OppenOffice mateix hi ha un bot\u00f3 anomenat \"Car\u00e0cters no imprimibles\" que en apretar-lo es mostren els espais, les tabulacions i els salts de l\u00ednia com a car\u00e0cters; igual que les consideracions del meu programa. Perqu\u00e8 don\u00e9s el mateix resultat hauria d'escriure `total_caracters -= total_linies` al final i fora del bucle per restar-li el nombre de salts de l\u00ednia (nombre de salts de l\u00ednia = nombre de linies).</span>\n",
      "\n",
      " ![](http://puu.sh/cTybL.png)\n",
      "Bot\u00f3 de car\u00e0cters no imprimibles de l'OppenOffice:"
     ]
    },
    {
     "cell_type": "code",
     "collapsed": false,
     "input": [
      "def funcio_conta_paraules (entrada):\n",
      "    paraules = entrada.split()\n",
      "    return (len(paraules))\n",
      "         \n",
      "fitxer_a_obrir = str(input(\"Escriu el nom del fitxer (Recomanaci\u00f3:Labs_p8_E1.txt) \"))          \n",
      "\n",
      "inputFile = open(fitxer_a_obrir, 'r')\n",
      "linies_text = inputFile.readlines()\n",
      "inputFile.close()\n",
      "total_paraules = 0\n",
      "total_linies = 0\n",
      "total_caracters = 0\n",
      "for linia in linies_text:\n",
      "    paraules = funcio_conta_paraules(linia)\n",
      "    total_paraules += paraules\n",
      "    total_linies += 1\n",
      "    total_caracters += len(linia)\n",
      "#total_caracters -= total_linies #\u2192 Esborreu el primer coixinet si no es vol que contin els salts de l\u00ednia com a car\u00e0cters.\n",
      "print(total_paraules)\n",
      "print(total_linies)\n",
      "print(total_caracters)"
     ],
     "language": "python",
     "metadata": {},
     "outputs": [
      {
       "name": "stdout",
       "output_type": "stream",
       "stream": "stdout",
       "text": [
        "Escriu el nom del fitxer (Recomanaci\u00f3:Labs_p8_E1.txt) Labs_p8_E1.txt\n"
       ]
      },
      {
       "output_type": "stream",
       "stream": "stdout",
       "text": [
        "450\n",
        "9\n",
        "2963\n"
       ]
      }
     ],
     "prompt_number": 5
    },
    {
     "cell_type": "markdown",
     "metadata": {},
     "source": [
      "<span style=\"color:blue\">Com que aix\u00f2 d'escriure entremig del codi \"Esborreu el primer coixinet si no es vol que contin els salts de l\u00ednia com a car\u00e0cters\" no \u00e9s molt agradable he escrit la opci\u00f3 que causa que l'individu pugui escollir si vol que es contabilitzin o no els salts de l\u00ednia com a car\u00e0cters.</span>\n",
      "\n",
      "<span style=\"color:blue\">Per fer-ho he introduit un input amb _cast_ a enter que en cas que falli el _cast_: (`except ValueError:`) indico que la resposta donada no \u00e9s coherent amb la pregunta. Si el que s'introdueix \u00e9s un enter, el programa prova si \u00e9s 1 o 0. Si \u00e9s 0 resto el nombre de salts de l\u00ednia al nombre total de car\u00e0cters. Si \u00e9s 1 no toco el valor. Si no \u00e9s ni 0 ni 1 llavors repeteixo a l'individu que esculli una de les dues opcions. Tot aix\u00f2 est\u00e0 dins d'un bucle infinit (`while True:`) que nom\u00e9s es trenca si l'introdu\u00efm un 0 (No) o un 1 (S\u00ed). Un cop el bucle es trenca, imprimeix el nombre de car\u00e0cters havent o no contat els salts de l\u00ednia segons la resposta donada.</span>\n",
      "\n",
      "<span style=\"color:blue\">Per arreglar la manera com es mostra les respostes he afegit en el print strings a l'inici entre la impressi\u00f3 del nombre de paraules, l\u00ednies i car\u00e0cters i aix\u00ed sigui m\u00e9s visual la resposta que se'ns d\u00f3na.</span>"
     ]
    },
    {
     "cell_type": "code",
     "collapsed": false,
     "input": [
      "def funcio_conta_paraules (entrada):\n",
      "    paraules = entrada.split()\n",
      "    return (len(paraules))\n",
      "         \n",
      "fitxer_a_obrir = str(input(\"Escriu el nom del fitxer (Recomanaci\u00f3:Labs_p8_E1.txt) \"))\n",
      "\n",
      "inputFile = open(fitxer_a_obrir, 'r')\n",
      "linies_text = inputFile.readlines()\n",
      "inputFile.close()\n",
      "total_paraules = 0\n",
      "total_linies = 0\n",
      "total_caracters = 0\n",
      "for linia in linies_text:\n",
      "    paraules = funcio_conta_paraules(linia)\n",
      "    total_paraules += paraules\n",
      "    total_linies += 1\n",
      "    total_caracters += len(linia)\n",
      "\n",
      "while True:\n",
      "    try:\n",
      "        salts_linia = int(input(\"Voleu que el programa conti els salts de l\u00ednia com a car\u00e0cters? (0=No 1=S\u00ed) \"))\n",
      "        if salts_linia == 0:\n",
      "            total_caracters -= total_linies\n",
      "            break\n",
      "        elif salts_linia == 1:\n",
      "            break\n",
      "        else:\n",
      "            print(\"Escull una de les dues opcions pel recompte de car\u00e0cters; 0 o 1.\")\n",
      "    except ValueError:\n",
      "        print (\"La vostra resposta no \u00e9s coherent a la pregunta.\")\n",
      "\n",
      "print(\"\\nEl vostre fitxer t\u00e9\", total_paraules, \"paraules.\")\n",
      "print(\"El vostre fitxer t\u00e9\", total_linies, \"l\u00ednies.\")\n",
      "print(\"El vostre fitxer t\u00e9\", total_caracters, \"car\u00e0cters.\")"
     ],
     "language": "python",
     "metadata": {},
     "outputs": [
      {
       "name": "stdout",
       "output_type": "stream",
       "stream": "stdout",
       "text": [
        "Escriu el nom del fitxer (Recomanaci\u00f3:Labs_p8_E1.txt) Labs_p8_E1.txt\n"
       ]
      },
      {
       "name": "stdout",
       "output_type": "stream",
       "stream": "stdout",
       "text": [
        "Voleu que el programa conti els salts de l\u00ednia com a car\u00e0cters? (0=No 1=S\u00ed) 1\n"
       ]
      },
      {
       "output_type": "stream",
       "stream": "stdout",
       "text": [
        "\n",
        "El vostre fitxer t\u00e9 450 paraules.\n",
        "El vostre fitxer t\u00e9 9 l\u00ednies.\n",
        "El vostre fitxer t\u00e9 2963 car\u00e0cters.\n"
       ]
      }
     ],
     "prompt_number": 6
    },
    {
     "cell_type": "markdown",
     "metadata": {},
     "source": [
      "# Exercici 2: json\n",
      "En aquest exercici se'm demana que faci un programa que escrigui un fitxer en format json i que un altre el llegeixi.\n",
      "\n",
      "## Primer programa\n",
      "\n",
      "<span style=\"color:blue\"><u>Comentari previ que afecta a tot el primer programa:</u> A difer\u00e8ncia de totes les altres pr\u00e0ctiques que he realitzat on el codi a executar era tot contingut en una cel\u00b7la i al executar tot el codi d'una cel\u00b7la el programa realitzava el que se suposava que havia de realitzar, en aquest apartat s'han d'executar totes les cel\u00b7les de l'apartat perqu\u00e8 funcionin correctament. Ho faig aix\u00ed per recomanaci\u00f3 del professor de pr\u00e0ctiques que em va corregir el buscamines. Quan m'ho va recomanar vaig veure-hi una certa utilitat encara que no una utilitat total. Aqu\u00ed crec que \u00e9s m\u00e9s \u00fatil d'aquesta manera ja que per exemple estalvia de definir un altre cop el vector 1 en el programa del vector 2 per usar-ho.</span>\n",
      "\n",
      "El primer programa ha de generar tres vectors:\n",
      "\n",
      "1) Un vector amb valors de tipus `int` amb la seq\u007f\u00fc\u00e8ncia 0, 10, 20 , ..., 350\n",
      "\n",
      "2) Un vector de tipus `string` on per a cada angle s'indiqui el quadrant que li correspon:\n",
      "\n",
      "* (0,90) \"primer\"\n",
      "\n",
      "* (100,180) \"segon\"\n",
      "\n",
      "* (190,270) \"tercer\"\n",
      "\n",
      "* (280,350) \"quart\"\n",
      "\n",
      "3) Un vector amb valors `float` on cada element contingui el cosinus dels angles de la seq\u007fu\u00e8ncia anterior.\n",
      "\n",
      "El programa ha de guardar els vectors en un fitxer json.\n",
      "\n",
      "### Primer vector\n",
      "\n",
      "<span style=\"color:blue\">Un cop he ent\u00e8s que el que he de fer per escriure el primer vector \u00e9s generar una llista de valors de 0 a 350 de deu en deu, el primer que em b\u00e9 a la ment \u00e9s escriure el seg\u00fcent:</span>\n",
      "\n",
      "    llista=[0, 10, 20, 30, 40, 50, 60, 70, 80, 90, 100, 110, 120, 130, 140, 150, 160, 170, 180, 190, 200, 210, 220, 230, 240, 250, 260, 270, 280, 290, 300, 310, 320, 330, 340, 350]\n",
      "    \n",
      "<span style=\"color:blue\">F\u00e0cil crear-la aix\u00ed? No, segur que hi ha una manera m\u00e9s f\u00e0cil de crear aquesta seq\u00fc\u00e8ncia que simplement escriure tots els valors de tots els angles entre 0 i 350 de deu en deu. S\u00e9 que aquesta manera m\u00e9s f\u00e0cil t\u00e9 la paraula \"bucle\" (o altrament dit repetici\u00f3 d'accions) com a paraula clau. Penso en quantes vegades he de repetir l'acci\u00f3 d'escriure un nombre diferent i de seguida veig que ho haur\u00e9 de fer tantes vegades com elements hagi d'esciure a la llista. Podria contar quants elements t\u00e9 la llista anterior per\u00f2 seria darrerament feixuc i em podria equivocar f\u00e0cilment. Per contar-los escric: `print(len(llista))`. 36 elements he de crear. Per tant, ja tinc bastant cam\u00ed fet; s\u00e9 que el meu bucle comen\u00e7ar\u00e0 aix\u00ed: `for n in range(36):`. A continuaci\u00f3 i a dins haur\u00e9 d'escriure el proc\u00e9s que es repetir\u00e0 pels successius valors de `n`. Arribats a aquest punt observo a primer cop d'ull una directa correlaci\u00f3 entre els valors que va obtenint `n` i els valors que vull anar obtenint (0, 10, 20, ... , 350). Escric la relaci\u00f3 abans que se me'n vagi del cap i la comprovo aix\u00ed:</span>\n",
      "\n",
      "    for n in range(36):\n",
      "        total=n\n",
      "        print (total*10)\n",
      "        \n",
      "<span style=\"color:blue\">Quina sort que la correlaci\u00f3 entre els valors que va sent \"n\" i els que busco siguin tant semblants i no hagi de fer meravelles per relacionar-los; potser el pr\u00f2xim cop no sigui tant trivial la relaci\u00f3!</span>\n",
      "\n",
      "<span style=\"color:blue\">Un cop tinc aix\u00f2, canvio el _\"imprimir total*10\"_ per afegir a una llista buida cada cop l'element total que ser\u00e0 0, despr\u00e9s 10, seguidament 20 i aix\u00ed fins 350. I el total ser\u00e0 aix\u00f2 perqu\u00e8 ara dic que total \u00e9s igual a deu cops n (encomptes de dir-ho en el print). Per tant, la cosa queda:</span>\n",
      "\n",
      "<span style=\"color:blue\">Una \u00faltima cosa a dir sobre aquest codi \u00e9s que cada un dels elements de la llista s\u00f3n del tipus int ja que no tenen comes decimals ni tenen cap ra\u00f3 per ser una altra cosa. Per assegurar-me'n al 100% he fet la prova de `print(type(x))` despr\u00e9s d'haver definit x com: `x=llista1[5]` on 5 \u00e9s un n\u00famero de prova. Se que si es compleix per un es complir\u00e0 per tots ja que tots han estat formats de la mateixa manera.</span>"
     ]
    },
    {
     "cell_type": "code",
     "collapsed": false,
     "input": [
      "#Primer vector\n",
      "llista1=[]\n",
      "for n in range(36):\n",
      "    total=n*10\n",
      "    llista1.append(total)\n",
      "print (llista1)"
     ],
     "language": "python",
     "metadata": {},
     "outputs": [
      {
       "output_type": "stream",
       "stream": "stdout",
       "text": [
        "[0, 10, 20, 30, 40, 50, 60, 70, 80, 90, 100, 110, 120, 130, 140, 150, 160, 170, 180, 190, 200, 210, 220, 230, 240, 250, 260, 270, 280, 290, 300, 310, 320, 330, 340, 350]\n"
       ]
      }
     ],
     "prompt_number": 6
    },
    {
     "cell_type": "markdown",
     "metadata": {},
     "source": [
      "### Segon vector\n",
      "\n",
      "<span style=\"color:blue\">El primer pensament que faig sobre el problema plantejat \u00e9s el seg\u00fcent, despr\u00e9s ja veur\u00e9 si ho puc simplificar o si em trobo en un lloc sense sortida:</span>\n",
      "\n",
      "<span style=\"color:blue\">El segon vector a crear ha de ser una llista amb 36 elements, com el primer vector. Els elements s\u00f3n strings. O b\u00e9 \u00e9s l'string \"primer\" o b\u00e9 \"segon\" o \"tercer\" o sin\u00f3 \"quart\", nom\u00e9s hi ha aquestes possibilitats. Ser\u00e0 \"primer\" si l'element de la `llista1` situat en la mateixa posici\u00f3 \u00e9s un enter entre els nombres 0 i 90, ser\u00e0 \"segon\" si l'element de la `llista1` situat en la mateixa posici\u00f3 est\u00e0 entre els nombres 100 i 180, ser\u00e0 \"tercer\" si l'element de la `llista1` situat en la mateixa posici\u00f3 est\u00e0 entre els nombres 190 i 270 i \"quart\" si ho est\u00e0 entre 280 i 350. Veig que aquestes condicions descrites ara mateix donades per l'enuciat s\u00f3n les que jo he d'imposar en el codi perqu\u00e8 es compleixi. Despr\u00e9s pot sortir m\u00e9s f\u00e0cil o enrebassada la cosa per\u00f2 ja haur\u00e9 fet un primer intent. Aquest intent, en codi, \u00e9s:</span>\n",
      "\n",
      "    llista2=[]\n",
      "\n",
      "    for element in llista1:\n",
      "        if 0<=element<=90:\n",
      "            llista2.append(\"primer\")\n",
      "        elif 100<=element<=180:\n",
      "            llista2.append(\"segon\")\n",
      "        elif 190<=element<=270:\n",
      "            llista2.append(\"tercer\")\n",
      "        else: \n",
      "            llista2.append(\"quart\")\n",
      "\n",
      "    print(llista2)\n",
      "    \n",
      "<span style=\"color:blue\">L'intent ha funcionat i mirant el que ens imprimeix veig que corresponen correctament el strings en el lloc on han d'anar. Fins aqu\u00ed tot funciona correcte. Ara, es pot simplificar l'expressi\u00f3? Doncs pensant el funcionament en tots els passos del bucle en veig una.</span>\n",
      "\n",
      "<span style=\"color:blue\">El primer que mira _Python_ al encetar el bucle \u00e9s la condici\u00f3 de si 0 (primer element de la llista1) \u00e9s major o igual que 0 menor o igual que 90 i despr\u00e9s ho mira per 10, 20, ..., 80, 90, 100. Aquesta condici\u00f3 sempre \u00e9s certa quan 'element' \u00e9s menor o igual que 100 ja que no es torna a complir passat 100; per tant puc escrire `if element<=90:` en comptes de `if 0<=element<=90:`. Ho puc fer per la ra\u00f3 que he exposat (no se si he estat del tot clar en l'explicaci\u00f3) i perqu\u00e8 s\u00e9, ja que conec com \u00e9s la `llista1`, que `element` mai ser\u00e0 menor que 0; sempre \u00e9s major o igual que 0. El mateix puc fer per les altres condicions d'`elif`. D'aquesta manera simplifico una mica m\u00e9s el codi:</span>"
     ]
    },
    {
     "cell_type": "code",
     "collapsed": false,
     "input": [
      "#Segon vector\n",
      "llista2=[]\n",
      "\n",
      "for element in llista1:\n",
      "    if element<=90:\n",
      "        llista2.append(\"primer\")\n",
      "    elif element<=180:\n",
      "        llista2.append(\"segon\")\n",
      "    elif element<=270:\n",
      "        llista2.append(\"tercer\")\n",
      "    else: \n",
      "        llista2.append(\"quart\")\n",
      "        \n",
      "print(llista2)"
     ],
     "language": "python",
     "metadata": {},
     "outputs": [
      {
       "output_type": "stream",
       "stream": "stdout",
       "text": [
        "['primer', 'primer', 'primer', 'primer', 'primer', 'primer', 'primer', 'primer', 'primer', 'primer', 'segon', 'segon', 'segon', 'segon', 'segon', 'segon', 'segon', 'segon', 'segon', 'tercer', 'tercer', 'tercer', 'tercer', 'tercer', 'tercer', 'tercer', 'tercer', 'tercer', 'quart', 'quart', 'quart', 'quart', 'quart', 'quart', 'quart', 'quart']\n"
       ]
      }
     ],
     "prompt_number": 7
    },
    {
     "cell_type": "markdown",
     "metadata": {},
     "source": [
      "### Tercer vector\n",
      "\n",
      "<span style=\"color:blue\">Arribats a crear el tercer vector i amb l'embranzida dels altres dos vecors, r\u00e0pidament veig que per crear el tercer vector he de fer el seg\u00fcent: Crear un bucle de 36 cops (ja que la llista del tercer vector ha de tenir els mateixos elements que la llista del primer vector) per tant: `for x in llista1:`; he d'assignar a cada 'x' el valor del seu cosinus i afegir-la a la llista del tercer vector (ja que 'x' \u00e9s cada element de la llista 1 o sigui 0,10,20,...,350). Amb aquestes idees al cap escric:</span>\n",
      "\n",
      "    llista3 = []\n",
      "    for x in llista1:\n",
      "        llista3.append(cos(x))\n",
      "    print(llista3)\n",
      "\n",
      "<span style=\"color:blue\">Quan li dono a executar salten els errors. Qu\u00e8 ha passat? _Python_ em diu: \"name 'cos' is not defined\". Aqu\u00ed me n'adono que _Python_ no sap fer el cosinus. I \u00e9s que no li havia importat cosinus de la llibreria math. Ara s\u00ed, escric:</span>\n",
      "\n",
      "    from math import cos\n",
      "    llista3 = []\n",
      "    for x in llista1:\n",
      "        llista3.append(cos(x))\n",
      "    print(llista3)\n",
      "    \n",
      "<span style=\"color:blue\">Ja no em salta error per\u00f2 al mirar el resultat veig que no em quadra. Em surt que el primer valor \u00e9s 1.0, el segon \u00e9s -0.8390715290764524, el tercer 0.408082061813392... El primer resultat em quadra, el cosinus de 0 \u00e9s 1, el segon no em quadra, el cosinus de 10 no \u00e9s negatiu m\u00e9s aviat \u00e9s positiu i m\u00e9s proper a 0.0 que a 1.0. Si miro m\u00e9s enll\u00e0 veig resultats que canvien de manera aleat\u00f2ria de valors negatius a positius. Quina cosa m\u00e9s extranya. Reviso el meu programa i no li trobo cap pega. El torno a mirar i tampoc, segueix all\u00e0. Decideixo deixar-ho.</span>\n",
      "\n",
      "<span style=\"color:blue\">L'endem\u00e0 amb uns ulls nous veig el perqu\u00e8. I \u00e9s que els resultats me'ls estava calculant amb radiants quan jo introduia graus. En el segon element per exemple, jo li volia dir que em calcul\u00e9s el cosinus de 10\u00ba i ell m'estava calculant el cosinus de 10radiants. Per fer el canvi a radiants utilitzo el m\u00f2dul `radians` de la llibreria math desrp\u00e9s d'haver-lo importat. ![radians](http://puu.sh/dbR85.png)</span>\n",
      "\n",
      "    from math import cos, radians\n",
      "    llista3 = []\n",
      "    for x in llista1:\n",
      "        angle = radians(x)\n",
      "        llista3.append(cos(x))\n",
      "    print(llista3)\n",
      "    \n",
      "<span style=\"color:blue\">Executo el programa i torno a veure una cosa que no m'agrada, i \u00e9s que em diu que el cosinus de 90 \u00e9s 6.123233995736766e-17 i no em diu que \u00e9s 0, aix\u00f2 segur que \u00e9s perqu\u00e8 el nombre pi que agafa per passar a radiants \u00e9s limitat. Com que jo vull que em doni un n\u00famero m\u00e9s comprensible, busco com es fa per rodendejar el resultat. Ho faig amb el m\u00e8tode `round()`:</span>\n",
      "\n",
      "![round](http://puu.sh/dbRz6.png)\n",
      "\n",
      "<span style=\"color:blue\">Com que vull que m'arrodoneixi el valor del cosinus i no l'angle, l'aplico sobre el cosinus i li determino que em doni com a m\u00e0xim 6 d\u00edgits. D'aquesta manera el programa em retorna 0.5 pel cosinus de 60, 0.0 pel cosinus de 90, etc.</span>\n",
      "\n",
      "    from math import cos, radians\n",
      "    llista3 = []\n",
      "    for x in llista1:\n",
      "        angle = radians(x)\n",
      "        llista3.append(round(cos(angle),6))\n",
      "    print(llista3)\n",
      "    \n",
      "<span style=\"color:blue\">Per acabar de simplificar el codi veig que puc eliminar una l\u00ednia i una variable si substitueixo `angle` per `radians(x)` i aix\u00ed em queda el codi final.</span>"
     ]
    },
    {
     "cell_type": "code",
     "collapsed": false,
     "input": [
      "from math import cos, radians\n",
      "llista3 = []\n",
      "for x in llista1:\n",
      "    llista3.append(round(cos(radians(x)),6))\n",
      "print(llista3)"
     ],
     "language": "python",
     "metadata": {},
     "outputs": [
      {
       "output_type": "stream",
       "stream": "stdout",
       "text": [
        "[1.0, 0.984808, 0.939693, 0.866025, 0.766044, 0.642788, 0.5, 0.34202, 0.173648, 0.0, -0.173648, -0.34202, -0.5, -0.642788, -0.766044, -0.866025, -0.939693, -0.984808, -1.0, -0.984808, -0.939693, -0.866025, -0.766044, -0.642788, -0.5, -0.34202, -0.173648, -0.0, 0.173648, 0.34202, 0.5, 0.642788, 0.766044, 0.866025, 0.939693, 0.984808]\n"
       ]
      }
     ],
     "prompt_number": 8
    },
    {
     "cell_type": "markdown",
     "metadata": {},
     "source": [
      "##Opcional primer programa\n",
      "\n",
      "<span style=\"color:blue\">Aquest apartat fa refer\u00e8ncia a les explicacions d'en Manel L\u00f3pez de Miguel, el meu professor de teoria. Quan vaig anar al seu despatx per una consulta d'aquest primer programa de l'exercici 2, em va escriure en el paper el seg\u00fcent fent refer\u00e8ncia a com es feia la creaci\u00f3 del codi del tercer vector: \"llista3 = [cos (x) for x in llista1]\" on \"llista3\" \u00e9s la llista del tercer vector i \"llista1\" \u00e9s la llista que composa el tercer vector. En acabar d'escriure-ho em va preguntar si havia ent\u00e8s el que acabava d'escriure. Jo vaig contestar que no. Llavors em va dir que prengu\u00e9s el meu temps a casa per intentar entendre-ho. I aqu\u00ed estic.</span>\n",
      "\n",
      "<span style=\"color:blue\">Comparo el meu programa amb el seu. Per fer la comparaci\u00f3 he modificat el seu programa per raons de comparaci\u00f3 amb el meu, afegint l'import i el print i canviant `llista3` per `ll3` (perqu\u00e8 no es confonguin). Veig que el resultat \u00e9s exactament mateix, l'\u00fanic que canvia \u00e9s la manera de definir la llista, la seva molt m\u00e9s compacte i simplificada i la meva m\u00e9s entendible al meu entendre (valgui la redund\u00e0ncia).</span>\n",
      "\n",
      "| <span style=\"color:green\">El meu programa</span> | <span style=\"color:green\">El seu programa</span> | \n",
      "|:-------:|:-------:|\n",
      "| `from math import cos` | `from math import cos` |\n",
      "| `llista3 = []`\n",
      "| `for x in llista1:` | --- | `ll3 = [cos (x) for x in llista1]` |\n",
      "| `llista3.append(cos(x))` |\n",
      "| `print(llista3)` | `print(ll3)` |\n",
      "\n",
      "<span style=\"color:blue\">D'aquesta manera identifico com ha creat ell el programa compacte. El que jo he escrit en 3 l\u00ednies per definir la llista i he necessitat un bucle per fer-ho ell ho ha definit en una l\u00ednia i molt m\u00e9s simple de pensar. Per qu\u00e8 m\u00e9s simple de pensar? M'explico: Ell defineix la llista 3 com: \" La variable llista 3 \u00e9s una llista (aix\u00f2 ho determina quan escriu `ll3 = []`), aquesta llista \u00e9s el cosinus de cada element de la llista 1 (i aix\u00f2 que \u00e9s tant f\u00e0cil de dir ho escriu tant semblant aix\u00ed: `cos (x) for x in llista1`\").</span>\n",
      "\n",
      "<span style=\"color:blue\">Jo en canvi havia fet una manera molt m\u00e9s enrebassada (ara dic enrebassada perqu\u00e8 vist quan un ent\u00e9n l'altre forma de fer-ho, per comparaci\u00f3 ho \u00e9s). Dir que la llista 3 \u00e9s una llista buida, que per cada element de la llista 1 calculem el seu cosinus i afegim el valor a la llista tres tants cops com elements hi hagi a la llista 1, \u00e9s una manera molt m\u00e9s dif\u00edcil de pensar que no simplement dir: La llista 3 \u00e9s el cosinus de cada element de la llista 1.</span>\n",
      "\n",
      "<span style=\"color:blue\">Un cop entesa aquesta part i donada aquesta explicaci\u00f3, escric a continuaci\u00f3 les formes compactes dels tres vectors que he aconseguit fer. La primera (vector tres) gr\u00e0cies a en Manel L\u00f3pez, la segona (vector u) feta per mi un cop ent\u00e8s el proc\u00e9s per compactar-ho i darrer (vector dos) una idea que tenia en ment que he intentat compactar en codi i s'ha aproximat al que es pret\u00e9n que sigui el segon vector.</span>\n",
      "\n",
      "<span style=\"color:blue\">Com que el tercer vector ja resta explicat i el primer vector s'autoexplica per analogia al tercer vector, ara vaig a explicar el concepte al voltant del segon vector. Amb similituts als dos darrers, el segon vector tamb\u00e9 es pot formar com els altres si no fos per les condicions que comprova cada cop que es realitza el bucle `for` per fer el m\u00e8tode `.append()`. Pensar la frase: \"la llista 2 s\u00f3n els elements de cada element de la llista 1\" no t\u00e9 molt de sentit perqu\u00e8 en codi escriuria: `ll2=[i for i in llista1]` i la llista 2 seria exactament la mateixa que la llista 1. La cosa \u00e9s que \"els elements de la llista 2 s\u00f3n l'string 'primer' per cada element de la llista 1 que compleix ser menor que 100\" i la frase continuaria per la resta d'elements. D'aquesta manera amb codi puc intu\u00efr que la cosa ser\u00e0: `ll2=[i for i in llista1 if i<100]` que es tradueix a `ll2=['primer' for i in llista1 if i<100]` quan escrivim l'string. Aquesta idea intuitiva resulta interpretable per _Python_ i s'assembla al que busco per\u00f2 no acaba de correspondre amb tota la seva completesa al vector2. Tampoc trobo cap altre manera de fer complir totes les condicions en una mateixa l\u00ednia. Aix\u00ed que deixo l'intent com una aproximaci\u00f3 que he pogut fer.</span>\n",
      "\n",
      "<span style=\"color:blue\">L'\u00fanic que em falta per explicar \u00e9s que he canviat `cos(x)` del tercer vector per `round(cos (radians(x)),6)` per tal que em calul\u00e9s els angles en radiants i els cosinus correctament i arrodonits al sis\u00e8 decimal.</span>"
     ]
    },
    {
     "cell_type": "code",
     "collapsed": false,
     "input": [
      "#Tercer vector\n",
      "from math import cos, radians\n",
      "ll3 = [round(cos (radians(x)),6) for x in llista1]\n",
      "print(ll3)"
     ],
     "language": "python",
     "metadata": {},
     "outputs": [
      {
       "output_type": "stream",
       "stream": "stdout",
       "text": [
        "[1.0, 0.984808, 0.939693, 0.866025, 0.766044, 0.642788, 0.5, 0.34202, 0.173648, 0.0, -0.173648, -0.34202, -0.5, -0.642788, -0.766044, -0.866025, -0.939693, -0.984808, -1.0, -0.984808, -0.939693, -0.866025, -0.766044, -0.642788, -0.5, -0.34202, -0.173648, -0.0, 0.173648, 0.34202, 0.5, 0.642788, 0.766044, 0.866025, 0.939693, 0.984808]\n"
       ]
      }
     ],
     "prompt_number": 9
    },
    {
     "cell_type": "code",
     "collapsed": false,
     "input": [
      "#Primer vector\n",
      "ll1=[n*10 for n in range(36)]\n",
      "print (ll1)"
     ],
     "language": "python",
     "metadata": {},
     "outputs": [
      {
       "output_type": "stream",
       "stream": "stdout",
       "text": [
        "[0, 10, 20, 30, 40, 50, 60, 70, 80, 90, 100, 110, 120, 130, 140, 150, 160, 170, 180, 190, 200, 210, 220, 230, 240, 250, 260, 270, 280, 290, 300, 310, 320, 330, 340, 350]\n"
       ]
      }
     ],
     "prompt_number": 10
    },
    {
     "cell_type": "code",
     "collapsed": false,
     "input": [
      "#Aproximaci\u00f3 al segon vector\n",
      "ll2=[i for i in llista1 if i<100]\n",
      "ll_2=['primer' for i in llista1 if i<100]\n",
      "print (ll2,\"\\n\",ll_2)"
     ],
     "language": "python",
     "metadata": {},
     "outputs": [
      {
       "output_type": "stream",
       "stream": "stdout",
       "text": [
        "[0, 10, 20, 30, 40, 50, 60, 70, 80, 90] \n",
        " ['primer', 'primer', 'primer', 'primer', 'primer', 'primer', 'primer', 'primer', 'primer', 'primer']\n"
       ]
      }
     ],
     "prompt_number": 11
    },
    {
     "cell_type": "markdown",
     "metadata": {},
     "source": [
      "## Guardar vectors en un fitxer json\n",
      "\n",
      "<span style=\"color:blue\">En aquest apartat recupero (\u00e9s a dir copio d'apartats anteriors) els codis dels vectors que he definit i els uso per introduir-los en un fitxer json com em mana l'enunciat.</span>\n",
      "\n",
      "<span style=\"color:blue\">El primer pas que faig \u00e9s importar json. El segon pas \u00e9s crear el fitxer i posar les dades de la seg\u00fcent manera:</span>\n",
      "\n",
      "    with open(\"Exercici2.json\", \"w\") as fitxer2:\n",
      "        json.dump({'x': eix_x, 'y': eix_y}, fitxer2, sort_keys = True)\n",
      "        \n",
      "<span style=\"color:blue\">Detallant el que he fet, dir que he obert un fitxer amb la sent\u00e8ncia with open pel nom de fitxer 'Exercici2'. Com que _Python_ no trobar\u00e0 cap fitxer amb aquest com a la carpeta \"IPython Notebooks\", el creear\u00e0. Despr\u00e9s he dit que l'havia d'obrir per escriure-hi \"w\" i que li associ\u00e9s la variable 'fitxer2'. Despr\u00e9s he fet servir el m\u00e8tode `.dump()` de la lliberia json `json.dump()` perqu\u00e8 introdu\u00eds les dades. Aquest m\u00e8tode \u00e9s molt complex i t\u00e9 molts arguments a poder definir. Al manual de _Python_ ([apartat 18.2.1](https://docs.python.org/2/library/json.html)) ens els enumera aix\u00ed:</span> ![dump](http://puu.sh/dbIvW.png)\n",
      "\n",
      "<span style=\"color:blue\">Per\u00f2 pel que jo necessito fer nom\u00e9s he d'usar l'argument _obj_ , l'argument _fp_ i vull de canviar el _sort_keys_ que per defecte ve com a *False*. Per qu\u00e8 el vull canviar? Doncs perqu\u00e8 aix\u00ed m'ordena autom\u00e0ticament el diccionari que li introdueixo com a objecte segons les claus. Aix\u00ed mateix ho explica el manual:</span> ![sortkeys](http://puu.sh/dbIwF.png)"
     ]
    },
    {
     "cell_type": "code",
     "collapsed": false,
     "input": [
      "from math import cos, radians\n",
      "import json\n",
      "\n",
      "ll1=[n*10 for n in range(36)]  #Primer vector\n",
      "ll2=[]                         #Segon vector\n",
      "for element in ll1:\n",
      "    if element<=90:\n",
      "        ll2.append(\"primer\")\n",
      "    elif element<=180:\n",
      "        ll2.append(\"segon\")\n",
      "    elif element<=270:\n",
      "        ll2.append(\"tercer\")\n",
      "    else: \n",
      "        ll2.append(\"quart\")\n",
      "ll3 = [round(cos (radians(x)),6) for x in llista1] #Tercer vector\n",
      "\n",
      "with open(\"Exercici2.json\", \"w\") as fitxer2:\n",
      "    json.dump({'vector1': ll1, 'vector2': ll2, 'vector3': ll3}, fitxer2, sort_keys = True)"
     ],
     "language": "python",
     "metadata": {},
     "outputs": [],
     "prompt_number": 12
    },
    {
     "cell_type": "markdown",
     "metadata": {},
     "source": [
      "## Segon programa\n",
      "\n",
      "El segon programa que he de crear ha de llegir el fitxer generat pel primer i recuperar els tres vectors del primer programa (amb el mateix contingut i del mateix tipus).\n",
      "\n",
      "<span style=\"color:blue\">Ara obro el fitxer generat pel primer programa perqu\u00e8 el llegeixi. Faig servir la mateixa sent\u00e8ncia _with open_ pel fitxer 'Exercici2' i per llegir-lo \"r\". Carrego el fitxer a una variable `fitxer2_lectura` i despr\u00e9s carrego les dades del fitxer a una variable anomenada `dades` amb el m\u00e8tode `json.load()`. Llavors imprimeixo el tipus de les dades que tinc `print (type(dades))` i observo que \u00e9s del tipus _dict_. Quina casualitat que sigui del mateix tipus que com les he guardades!</span>\n",
      "\n",
      "<span style=\"color:blue\">Per extreure els vectors del diccionari que havia guardat atribueixo a tres variables diferents (x, y i z) el contingut que estigui dins de dades amb la clau corresponent:</span>\n",
      "\n",
      "    x = dades['vector1']\n",
      "    y = dades['vector2']\n",
      "    z = dades ['vector3']\n",
      "    \n",
      "<span style=\"color:blue\">Despr\u00e9s ja nom\u00e9s em cal demostar el tipus de dades dins de la llista del vector `type(x[0])` i imprimir la llista per veure que realment la llista correspon al que ha de correspondre. Ho faig pels tres vectors.</span>"
     ]
    },
    {
     "cell_type": "code",
     "collapsed": false,
     "input": [
      "from math import cos, radians\n",
      "import json\n",
      "\n",
      "with open(\"Exercici2.json\", \"r\") as fitxer2_lectura:\n",
      "    dades = json.load(fitxer2_lectura)\n",
      "    print (\"Tipus en com s'han guardat totes les dades:\", type(dades),\"\\n\")\n",
      "    x = dades['vector1']\n",
      "    y = dades['vector2']\n",
      "    z = dades ['vector3']\n",
      "    print(\"Tipus de dades del vector1: \", type(x[0]))\n",
      "    print(x, \"\\n\")\n",
      "    print(\"Tipus de dades del vector2: \", type(y[0]))\n",
      "    print(y, \"\\n\")\n",
      "    print(\"Tipus de dades del vector3: \", type(z[0]))\n",
      "    print(z)"
     ],
     "language": "python",
     "metadata": {},
     "outputs": [
      {
       "output_type": "stream",
       "stream": "stdout",
       "text": [
        "Tipus en com s'han guardat totes les dades: <class 'dict'> \n",
        "\n",
        "Tipus de dades del vector1:  <class 'int'>\n",
        "[0, 10, 20, 30, 40, 50, 60, 70, 80, 90, 100, 110, 120, 130, 140, 150, 160, 170, 180, 190, 200, 210, 220, 230, 240, 250, 260, 270, 280, 290, 300, 310, 320, 330, 340, 350] \n",
        "\n",
        "Tipus de dades del vector2:  <class 'str'>\n",
        "['primer', 'primer', 'primer', 'primer', 'primer', 'primer', 'primer', 'primer', 'primer', 'primer', 'segon', 'segon', 'segon', 'segon', 'segon', 'segon', 'segon', 'segon', 'segon', 'tercer', 'tercer', 'tercer', 'tercer', 'tercer', 'tercer', 'tercer', 'tercer', 'tercer', 'quart', 'quart', 'quart', 'quart', 'quart', 'quart', 'quart', 'quart'] \n",
        "\n",
        "Tipus de dades del vector3:  <class 'float'>\n",
        "[1.0, 0.984808, 0.939693, 0.866025, 0.766044, 0.642788, 0.5, 0.34202, 0.173648, 0.0, -0.173648, -0.34202, -0.5, -0.642788, -0.766044, -0.866025, -0.939693, -0.984808, -1.0, -0.984808, -0.939693, -0.866025, -0.766044, -0.642788, -0.5, -0.34202, -0.173648, -0.0, 0.173648, 0.34202, 0.5, 0.642788, 0.766044, 0.866025, 0.939693, 0.984808]\n"
       ]
      }
     ],
     "prompt_number": 13
    },
    {
     "cell_type": "markdown",
     "metadata": {},
     "source": [
      "#Exercici 3: text estructurat\n",
      "En aquest exercici he de fer un programa que escrigui un fitxer amb dades estructurades en format tabular i un\n",
      "altre que el llegeixi.\n",
      "##Primer programa\n",
      "El programa ha de guardar els vectors del primer exercici en un fitxer de text en format tabular, separant\n",
      "els valors mitjan\u00e7ant tabuladors. De manera similar a aquesta:\n",
      "\n",
      "![fitxer_tabular](http://puu.sh/dbL6P.png)\n",
      "\n",
      "<span style=\"color:blue\">Obro el fitxer de l'exercici anterior per llegir de la mateixa manera que el programa 2 de l'exercici anterior i aquest cop el guardo en la variable `fitxer3_lectura`:</span>\n",
      "\n",
      "    with open(\"Exercici2.json\", \"r\") as fitxer3_lectura:\n",
      "\n",
      "<span style=\"color:blue\">Despr\u00e9s carrego les dades com havia fet anteriorment. Primer carrego el diccionari que cont\u00e9 totes les dades a la variable `dades` i despr\u00e9s separo per les claus els continguts de cada vector que els guardo en les variables `x`, `y` i `z`. En codi aix\u00f2 \u00e9s:</span>\n",
      "\n",
      "    dades = json.load(fitxer3_lectura)\n",
      "    x = dades['vector1']\n",
      "    y = dades['vector2']\n",
      "    z = dades ['vector3']\n",
      "\n",
      "<span style=\"color:blue\">Seguidament el que faig \u00e9s escriure element per element el vector1, el vector 2 i el vector 3 separats per un tabulador. Per fer-ho primer em plantejo si em funciona pel primer element de la seg\u00fcent manera: `print(x[0],y[0],z[0], sep='\\t')` i obervo que em funciona com desitjo, m'imprimeix `0\tprimer\t1.0`. Perqu\u00e8 ho faci per tots els elements creo un bucle for que es repeteix tants cops com elements tingui la llista de angles (vector1) encara que sigui el mateix nombre que els elements de les altres dos llistes. A cada repetici\u00f3, la variable `angles` va obtenint un n\u00famero natural major. 0, 1, 2, 3... fins a 35 que s\u00f3n els elements que tenen les llistes (en concret la llista `x`), cada cop que obt\u00e9 un n\u00famero diferent, imprimeix els elements consecutius de les llistes separats per un tabulador. Aix\u00ed doncs, el que escric en codi per estructurar el text en format tabular \u00e9s:</span>\n",
      "\n",
      "    for angles in range(len(x)):\n",
      "        print(x[angles],y[angles],z[angles], sep='\\t')\n",
      "\n",
      "<span style=\"color:blue\">A continuaci\u00f3 ja tinc la seq\u00fc\u00e8ncia estructurada com vull. Ara he de guardar aquesta seq\u00fc\u00e8ncia en un fitxer. Primer el que busco \u00e9s guardar en llistes de tres elements les seq\u00fc\u00e8ncies de la seg\u00fcent manera: `[0, primer, 1.0]`. Per fer-ho substitueixo el `print` pel m\u00e8tode `append` per tal que en comptes d'imprimir-me les seq\u00fc\u00e8ncies, me les afegeixi en una llista i despr\u00e9s afegir aquesta llista a una altra llista que contind\u00e0 totes les seq\u00fc\u00e8ncies. M\u00e9s tard, guardar\u00e9 la llista de llistes en un fitxer.</span>\n",
      "\n",
      "<span style=\"color:blue\">Per crear la llista de llistes que vull, he substitu\u00eft el `print(x[angles],y[angles],z[angles], sep='\\t')` per un _append_ que m'afageix aquests tres elements a una llista anomenada `sequencia` en forma de llista. \u00c9s a dir, he fet aquest canvi en el codi precedent: </span>\n",
      "\n",
      "    sequencia = []\n",
      "    for angles in range(len(x)):\n",
      "        conjunt_vectors = [x[angles],y[angles],z[angles]]\n",
      "        sequencia.append(conjunt_vectors)\n",
      "    print (sequencia)\n",
      "            \n",
      "<span style=\"color:blue\">D'aquesta manera, la llista `sequencia` es va omplint de llistes de tres elements (\u00e9s a dir de la variable `conjunt_vectors`) que consecutivament s\u00f3n llistes que tenen emparellats el primer element del vector1 amb el primer element del vector2 i amb el primer element del vector3, segon element del vector1 amb el segon element del vector2 i amb el segon element del vector3, ... i aix\u00ed amb tots els elements de les llistes x, y i z.</span>\n",
      "\n",
      "<span style=\"color:blue\">Per guardar la llista `sequencia` en un fitxer nou, he usat els mateixos conceptes de `with open` i `.dump()` que he descrit a l'\u00faltim apartat del programa 1 de l'exercici 2 que he anomenat \"Guardar vectors en un fitxer json\". Les coses que he modificat respecte el programa 1 de l'exercici 2 s\u00f3n les seg\u00fcents. He dit que escriv\u00eds en un arxiu anomenat \"Exercici3\" perqu\u00e8 era un nom que no existeix en la carpeta on es desen els fitxers. Per tant, l'ha creat i hi ha escrit una llista aquest cop en comptes d'un diccionari com passava en l'exercici 2. La llista que he fet que escrigui ha estat la llista `sequencia`.</span>\n",
      "\n",
      "    with open(\"Exercici3.json\", \"w\") as fitxer3:\n",
      "        json.dump(sequencia, fitxer3, sort_keys = True)"
     ]
    },
    {
     "cell_type": "code",
     "collapsed": false,
     "input": [
      "#Programa que imprimeix els fitxers en la disposici\u00f3 que es vol.\n",
      "with open(\"Exercici2.json\", \"r\") as fitxer3_lectura:\n",
      "    dades = json.load(fitxer3_lectura)\n",
      "    x = dades['vector1']\n",
      "    y = dades['vector2']\n",
      "    z = dades['vector3']\n",
      "\n",
      "for angles in range(len(x)):\n",
      "    print(x[angles],y[angles],z[angles], sep='\\t')"
     ],
     "language": "python",
     "metadata": {},
     "outputs": [
      {
       "output_type": "stream",
       "stream": "stdout",
       "text": [
        "0\tprimer\t1.0\n",
        "10\tprimer\t0.984808\n",
        "20\tprimer\t0.939693\n",
        "30\tprimer\t0.866025\n",
        "40\tprimer\t0.766044\n",
        "50\tprimer\t0.642788\n",
        "60\tprimer\t0.5\n",
        "70\tprimer\t0.34202\n",
        "80\tprimer\t0.173648\n",
        "90\tprimer\t0.0\n",
        "100\tsegon\t-0.173648\n",
        "110\tsegon\t-0.34202\n",
        "120\tsegon\t-0.5\n",
        "130\tsegon\t-0.642788\n",
        "140\tsegon\t-0.766044\n",
        "150\tsegon\t-0.866025\n",
        "160\tsegon\t-0.939693\n",
        "170\tsegon\t-0.984808\n",
        "180\tsegon\t-1.0\n",
        "190\ttercer\t-0.984808\n",
        "200\ttercer\t-0.939693\n",
        "210\ttercer\t-0.866025\n",
        "220\ttercer\t-0.766044\n",
        "230\ttercer\t-0.642788\n",
        "240\ttercer\t-0.5\n",
        "250\ttercer\t-0.34202\n",
        "260\ttercer\t-0.173648\n",
        "270\ttercer\t-0.0\n",
        "280\tquart\t0.173648\n",
        "290\tquart\t0.34202\n",
        "300\tquart\t0.5\n",
        "310\tquart\t0.642788\n",
        "320\tquart\t0.766044\n",
        "330\tquart\t0.866025\n",
        "340\tquart\t0.939693\n",
        "350\tquart\t0.984808\n"
       ]
      }
     ],
     "prompt_number": 14
    },
    {
     "cell_type": "code",
     "collapsed": false,
     "input": [
      "#Programa que llegeix de manera estrucutrada els elements del exercici 2.\n",
      "with open(\"Exercici2.json\", \"r\") as fitxer3_lectura:\n",
      "    dades = json.load(fitxer3_lectura)\n",
      "    x = dades['vector1']\n",
      "    y = dades['vector2']\n",
      "    z = dades['vector3']\n",
      "    sequencia = []\n",
      "    for angles in range(len(x)):\n",
      "        conjunt_vectors = [x[angles],y[angles],z[angles]]\n",
      "        sequencia.append(conjunt_vectors)\n",
      "    print (sequencia)"
     ],
     "language": "python",
     "metadata": {},
     "outputs": [
      {
       "output_type": "stream",
       "stream": "stdout",
       "text": [
        "[[0, 'primer', 1.0], [10, 'primer', 0.984808], [20, 'primer', 0.939693], [30, 'primer', 0.866025], [40, 'primer', 0.766044], [50, 'primer', 0.642788], [60, 'primer', 0.5], [70, 'primer', 0.34202], [80, 'primer', 0.173648], [90, 'primer', 0.0], [100, 'segon', -0.173648], [110, 'segon', -0.34202], [120, 'segon', -0.5], [130, 'segon', -0.642788], [140, 'segon', -0.766044], [150, 'segon', -0.866025], [160, 'segon', -0.939693], [170, 'segon', -0.984808], [180, 'segon', -1.0], [190, 'tercer', -0.984808], [200, 'tercer', -0.939693], [210, 'tercer', -0.866025], [220, 'tercer', -0.766044], [230, 'tercer', -0.642788], [240, 'tercer', -0.5], [250, 'tercer', -0.34202], [260, 'tercer', -0.173648], [270, 'tercer', -0.0], [280, 'quart', 0.173648], [290, 'quart', 0.34202], [300, 'quart', 0.5], [310, 'quart', 0.642788], [320, 'quart', 0.766044], [330, 'quart', 0.866025], [340, 'quart', 0.939693], [350, 'quart', 0.984808]]\n"
       ]
      }
     ],
     "prompt_number": 15
    },
    {
     "cell_type": "code",
     "collapsed": false,
     "input": [
      "#Programa que guarda la llista estructurada\n",
      "with open(\"Exercici3.json\", \"w\") as fitxer3:\n",
      "    json.dump(sequencia, fitxer3, sort_keys = True)"
     ],
     "language": "python",
     "metadata": {},
     "outputs": [],
     "prompt_number": 16
    },
    {
     "cell_type": "markdown",
     "metadata": {},
     "source": [
      "##Segon programa\n",
      "Com al primer exercici, se'm demana fer un programa que llegeixi el fitxer generat pel primer i recuperi tres vectors\n",
      "id\u00e8ntics als anterior (amb el mateix contingut i del mateix tipus).\n",
      "\n",
      "<span style=\"color:blue\">Com ja \u00e9s de costum, utilizo la sent\u00e8ncia `with open` amb la funci\u00f3 que em permet llegir el fitxer \"r\" per obrir l'Exercici3.json en la variable `fitxer3_lectura`. Carrego totes les dades a la variable dades i de moment les imprimeixo.</span>\n",
      "\n",
      "    with open(\"Exercici3.json\", \"r\") as fitxer3_lectura:\n",
      "        dades = json.load(fitxer3_lectura)\n",
      "        print (dades)\n",
      "        \n",
      "<span style=\"color:blue\">En el seg\u00fcent pas busco ordenar les dades de manera tabulada, com se'm demanava en el programa anterior. Per tant el que he de fer \u00e9s separar les dades per llistes i imprimir els elements d'aquestes llistes separades per un tabulador. Primer comen\u00e7o per separar les dades que tinc en les llistes que cont\u00e9 la variable `dades`. Per fer-ho:</span>\n",
      "\n",
      "    with open(\"Exercici3.json\", \"r\") as fitxer3_lectura:\n",
      "        dades = json.load(fitxer3_lectura)\n",
      "        for llistes in dades:\n",
      "            print(llistes)\n",
      "            \n",
      "<span style=\"color:blue\">Seguidament separo els tres elements de cada llista '`llistes`' i els imprimeixo separats per in tabulador. Per fer-ho faig refer\u00e8ncia a cadasc\u00fan dels elements de les llistes per l'ordre amb el que estan, aix\u00ed escric `llistes[0]` , `llistes[1]` i `llistes[2]` separades per un tabulador: `sep=\"\\t\"` </span>"
     ]
    },
    {
     "cell_type": "code",
     "collapsed": false,
     "input": [
      "with open(\"Exercici3.json\", \"r\") as fitxer3_lectura:\n",
      "    dades = json.load(fitxer3_lectura)\n",
      "    \n",
      "for llistes in dades:\n",
      "    print(llistes[0],llistes[1],llistes[2],sep=\"\\t\")"
     ],
     "language": "python",
     "metadata": {},
     "outputs": [
      {
       "output_type": "stream",
       "stream": "stdout",
       "text": [
        "0\tprimer\t1.0\n",
        "10\tprimer\t0.984808\n",
        "20\tprimer\t0.939693\n",
        "30\tprimer\t0.866025\n",
        "40\tprimer\t0.766044\n",
        "50\tprimer\t0.642788\n",
        "60\tprimer\t0.5\n",
        "70\tprimer\t0.34202\n",
        "80\tprimer\t0.173648\n",
        "90\tprimer\t0.0\n",
        "100\tsegon\t-0.173648\n",
        "110\tsegon\t-0.34202\n",
        "120\tsegon\t-0.5\n",
        "130\tsegon\t-0.642788\n",
        "140\tsegon\t-0.766044\n",
        "150\tsegon\t-0.866025\n",
        "160\tsegon\t-0.939693\n",
        "170\tsegon\t-0.984808\n",
        "180\tsegon\t-1.0\n",
        "190\ttercer\t-0.984808\n",
        "200\ttercer\t-0.939693\n",
        "210\ttercer\t-0.866025\n",
        "220\ttercer\t-0.766044\n",
        "230\ttercer\t-0.642788\n",
        "240\ttercer\t-0.5\n",
        "250\ttercer\t-0.34202\n",
        "260\ttercer\t-0.173648\n",
        "270\ttercer\t-0.0\n",
        "280\tquart\t0.173648\n",
        "290\tquart\t0.34202\n",
        "300\tquart\t0.5\n",
        "310\tquart\t0.642788\n",
        "320\tquart\t0.766044\n",
        "330\tquart\t0.866025\n",
        "340\tquart\t0.939693\n",
        "350\tquart\t0.984808\n"
       ]
      }
     ],
     "prompt_number": 17
    },
    {
     "cell_type": "markdown",
     "metadata": {},
     "source": [
      "#Exercici 4: CSV\n",
      "En aquest exercici se'm demana usar la llibreria CSV per guardar les dades de l'exercici 3 en fitxers i llegir-les.\n",
      "\n",
      "Despr\u00e9s he de comprovar que puc llegir el fitxer amb el OpenOffice Calc o el Microsoft Excel. \n",
      "\n",
      "<span style=\"color:blue\">Per usar la llibreria CVS la importo. Despr\u00e9s defineixo l'escriptor de la seg\u00fcent manera:</span>\n",
      "\n",
      "    escriptor = csv.writer(fitxer4)\n",
      "    \n",
      "<span style=\"color:blue\">I despr\u00e9s escric la llista que havia definit abans: `sequencia` en files gr\u00e0cies al m\u00e8tode `.writerows()` que em va escrivint fila rere fila. El codi escrit, per tant, \u00e9s:</span>\n",
      "\n",
      "    import csv\n",
      "    with open(\"Exercici4.csv\", \"w\", newline=\"\") as fitxer4:\n",
      "        escriptor = csv.writer(fitxer4)\n",
      "        escriptor.writerows(sequencia)\n",
      "\n",
      "<span style=\"color:blue\">Per obrir el fitxer creat, defineixo un lector: `lector = csv.reader(fitxer4_lectura)` que em permet omplir llistes buides amb cada element de la llista del `lector` de tal manera que una llista t\u00e9 els angles com a elements (`v1`) l'altre t\u00e9 els quadrants (`v2`) i la darrera t\u00e9 els valors dels cosinus (`v3`). Despr\u00e9s consulto els elements d'aquestes llistes per imprimir-los ordenats amb un separador.</span>\n",
      "\n",
      "\n",
      "<span style=\"color:blue\">Si vaig als documents que estic guardant i poso obrir amb OppenOffice Calc m'apareix el seg\u00fcent:</span>\n",
      "\n",
      "![OpenOffice Calc1](http://puu.sh/dcTAT.png)\n",
      "\n",
      "<span style=\"color:blue\">Llavors poso que em separi els elements per coma ja que el fitxer creat funciona per separaci\u00f3 de valors en coma.</span>\n",
      "\n",
      "![OpenOffice Calc2](http://puu.sh/dcTBl.png)\n",
      "\n",
      "<span style=\"color:blue\">Clico a \"D'acord\" i observo com, definitivament se'm mostra l'OppenOffice Calc amb les dades estructurades:</span>\n",
      "\n",
      "![OpenOffice Calc3](http://puu.sh/dcTGw.png)\n",
      "\n",
      "<span style=\"color:blue\">Per poder escriure el meu fitxer usant el locale puc escriure el seg\u00fcent codi:</span>\n",
      "\n",
      "    import csv\n",
      "    import locale\n",
      "    locale.setlocale(locale.LC_ALL, '')\n",
      "\n",
      "    with open(\"E.csv\", \"w\", newline=\"\") as fitxer4:\n",
      "        escriptor = csv.writer(fitxer4)\n",
      "        escriptor.writerows(sequencia)\n",
      "        for element in sequencia:\n",
      "            element1 = element[0]\n",
      "            element2 = element[1]\n",
      "            element3 = str(element[2])\n",
      "            tot = [locale.atof(element3)]"
     ]
    },
    {
     "cell_type": "code",
     "collapsed": false,
     "input": [
      "import csv\n",
      "with open(\"Exercici4.csv\", \"w\", newline=\"\") as fitxer4:\n",
      "    escriptor = csv.writer(fitxer4)\n",
      "    escriptor.writerows(sequencia)"
     ],
     "language": "python",
     "metadata": {},
     "outputs": [],
     "prompt_number": 20
    },
    {
     "cell_type": "code",
     "collapsed": false,
     "input": [
      "with open(\"Exercici4.csv\", \"r\") as fitxer4_lectura:\n",
      "    lector = csv.reader(fitxer4_lectura)\n",
      "    v1=[]\n",
      "    v2=[]\n",
      "    v3=[]\n",
      "    \n",
      "    for fila in lector:\n",
      "        v1.append(fila[0])\n",
      "        v2.append(fila[1])\n",
      "        v3.append(fila[2])\n",
      "    for dada1, dada2, dada3 in zip (v1,v2,v3):\n",
      "        print(dada1,dada2,dada3, sep=\"\\t\")"
     ],
     "language": "python",
     "metadata": {},
     "outputs": [
      {
       "output_type": "stream",
       "stream": "stdout",
       "text": [
        "0\tprimer\t1.0\n",
        "10\tprimer\t0.984808\n",
        "20\tprimer\t0.939693\n",
        "30\tprimer\t0.866025\n",
        "40\tprimer\t0.766044\n",
        "50\tprimer\t0.642788\n",
        "60\tprimer\t0.5\n",
        "70\tprimer\t0.34202\n",
        "80\tprimer\t0.173648\n",
        "90\tprimer\t0.0\n",
        "100\tsegon\t-0.173648\n",
        "110\tsegon\t-0.34202\n",
        "120\tsegon\t-0.5\n",
        "130\tsegon\t-0.642788\n",
        "140\tsegon\t-0.766044\n",
        "150\tsegon\t-0.866025\n",
        "160\tsegon\t-0.939693\n",
        "170\tsegon\t-0.984808\n",
        "180\tsegon\t-1.0\n",
        "190\ttercer\t-0.984808\n",
        "200\ttercer\t-0.939693\n",
        "210\ttercer\t-0.866025\n",
        "220\ttercer\t-0.766044\n",
        "230\ttercer\t-0.642788\n",
        "240\ttercer\t-0.5\n",
        "250\ttercer\t-0.34202\n",
        "260\ttercer\t-0.173648\n",
        "270\ttercer\t-0.0\n",
        "280\tquart\t0.173648\n",
        "290\tquart\t0.34202\n",
        "300\tquart\t0.5\n",
        "310\tquart\t0.642788\n",
        "320\tquart\t0.766044\n",
        "330\tquart\t0.866025\n",
        "340\tquart\t0.939693\n",
        "350\tquart\t0.984808\n"
       ]
      }
     ],
     "prompt_number": 38
    },
    {
     "cell_type": "markdown",
     "metadata": {},
     "source": [
      "# Pregunta\n",
      "\n",
      "Em pregunten si puc fer servir el segon programa dels exercicis 2, 3 i 4 per llegir fitxers d\u2019altres exercicis.\n",
      "\n",
      "<span style=\"color:blue\">La resposta \u00e9s que no; que no puc. I la ra\u00f3 \u00e9s perqu\u00e8 els formats amb que llegeix un programa i amb els que els guarda l'altre s\u00f3n diferents i incompatibles. Un funciona separant car\u00e0cters (`.json`) i l'altre separant les cadenes de car\u00e0cters entre comes (`.csv`)</span>\n"
     ]
    }
   ],
   "metadata": {}
  }
 ]
}