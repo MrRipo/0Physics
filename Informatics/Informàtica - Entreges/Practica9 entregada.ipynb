{
 "metadata": {
  "name": "",
  "signature": "sha256:68a8dd8e768888283766b5273be0495b960d0cc9b68cd99bb0575decbe11d8e6"
 },
 "nbformat": 3,
 "nbformat_minor": 0,
 "worksheets": [
  {
   "cells": [
    {
     "cell_type": "markdown",
     "metadata": {},
     "source": [
      "Autor de la pr\u00e0ctica: <span style=\"color:red; font-family:Georgia; font-size:2em;\">Albert Ripoll</span>\n",
      "\n",
      "Llegenda de la pr\u00e0ctica:\n",
      "\n",
      "* En negre escric el que se'm demana fer en aquell exercici \n",
      "\n",
      "* En <span style=\"color:blue\">blau</span> escric les explicacions i els comentaris adequats de cada exercici.\n",
      "\n",
      "Objectiu de la pr\u00e0ctica:\n",
      "\n",
      "* Aquesta pr\u00e0ctica \u00e9s una sessi\u00f3 introduct\u00f2ria a numpy i a matplotlib. El seu objectiu \u00e9s familiaritzar-se amb l'\u00fas d'aquestes llibreria a trav\u00e9s de diversos exercicis que usen aquestes llibreries en combinaci\u00f3.\n",
      "\n",
      "# Exercici 1: \u00fas de ndarray\n",
      "\n",
      "He de resoldre els seg\u007fuents exercicis senzills usant eines de numpy. Se'm diu que intenti no usar altres eines que no siguin de numpy (com ara bucles) ja que tots els exercicis estan pensats per usar aquesta llibreria.\n",
      "\n",
      "## Exercici 1.1 - Plantejament 'cutre'\n",
      "He de crear una matriu 10 x 10 amb valors aleatoris i trobar el valor m\u00ednim i m\u00e0xim de la matriu.\n",
      "\n",
      "<span style=\"color:blue\">S\u00e9 que he de crear una matriu amb numpy i que aquesta ha de ser aleat\u00f2ria. Per tant, penso que he d'usar la llibreria numpy i la llibreria random a la vegada. Per\u00f2 usar la llibreria random sobre la de numpy per modificar una matriu creada per numpy a trav\u00e9s de variables aleat\u00f2ries seria dif\u00edcil ja que hauria d'iterar sobre els elements per fer-los aleat\u00f2ris. Per tant, busco una llibreria random aplicada a numpy i trobo una opci\u00f3 que em crea una matriu amb les dimensions que vulgui i amb tots els seus elements aleatoris. El problema \u00e9s que els nombres aleat\u00f2ris generats van de 0 fins a 1 exclosos i passant per molts decimals com es pot veure a continuaci\u00f3:</span> ![Randommatrix](http://puu.sh/djdKZ.png)\n",
      "\n",
      "<span style=\"color:blue\">No \u00e9s c\u00f2mode visualitzar una matriu com l'anterior. Aix\u00ed que em proposo arreglar-la perqu\u00e8 sigui m\u00e9s visual. Per fer-ho multiplico els valors per 10 i despr\u00e9s els arrodoneixo amb el m\u00e8tode *round* de numpy:</span> ![matriu_arrodonida](http://puu.sh/dje4A.png)\n",
      "\n",
      "<span style=\"color:blue\">D'aquesta manera obtinc una matriu de valors aleat\u00f2ris de coma flotant entre 0 i 10 inclosos. Ara vaig a trobar els valors m\u00e0xims i els m\u00ednims de la matriu. Per fer-ho he volgut escriure una cosa com aquesta:</span>\n",
      "\n",
      "    maxims=[]\n",
      "    minims=[]\n",
      "    for i in matriu_arrodonida:\n",
      "        maxim=max(i)\n",
      "        maxims.append(maxim)\n",
      "        minim=min(i)\n",
      "        minims.append(minim)\n",
      "    for M in maxims:\n",
      "        Maxim=max(M)\n",
      "    for m in minims:\n",
      "        Minim=min(m)\n",
      "    print(\"El valor m\u00e9s petit de la matriu \u00e9s {} i el m\u00e9s gran {}\").format(Minim, Maxim)\n",
      "    \n",
      "<span style=\"color:blue\">Per\u00f2 resulta que en el codi anterior salta un error i aquest \u00e9s perqu\u00e8 la segona i tercera iteraci\u00f3 no les pot fer, ja que no pot iterar sobre un element que \u00e9s del tipus numpy, com es pot comprovar que \u00e9s:</span> ![tipusnumpy](http://puu.sh/djeYW.png)\n",
      "\n",
      "<span style=\"color:blue\">Llavors he buscat una altra manera de fer-ho i se m'ha acudit usar el m\u00e8tode `.sort()` per ordenar les llistes  `maxims` i `minims` per despr\u00e9s busar en elles l'element realment m\u00e9s gran i el m\u00e9s petit de tota la matriu. Aix\u00f2 en codi \u00e9s:</span>\n",
      "\n",
      "    maxims.sort()\n",
      "    minims.sort()\n",
      "    print(minims[0], maxims[9])\n",
      "    \n",
      "<span style=\"color:blue\">D'aquesta manera aconseguia codificar un programa que creava una matriu 10 x 10 amb valors aleatoris i trobava el valor m\u00ednim i el m\u00e0xim de la matriu. Per\u00f2 incomplia una condici\u00f3 de l'enunciat, que necessitava realitzar un bucle for per fer funcionar el meu programa. Aix\u00ed que me les havia d'enginyar per refer el programa sense aquest bucle for. El programa fet del que parlo \u00e9s:</span>"
     ]
    },
    {
     "cell_type": "code",
     "collapsed": false,
     "input": [
      "#Programa del que parlo\n",
      "import numpy as np\n",
      "matriu = np.random.rand(10,10)*10\n",
      "matriu_arrodonida = np.round(matriu,0)\n",
      "print(matriu_arrodonida)\n",
      "\n",
      "maxims=[]\n",
      "minims=[]\n",
      "for i in matriu_arrodonida:\n",
      "    maxim=max(i)\n",
      "    maxims.append(maxim)\n",
      "    minim=min(i)\n",
      "    minims.append(minim)\n",
      "maxims.sort()\n",
      "minims.sort()\n",
      "print(\"\\nEl valor m\u00e9s petit de la matriu \u00e9s\", minims[0], \"i el m\u00e9s gran \u00e9s\", maxims[9])"
     ],
     "language": "python",
     "metadata": {},
     "outputs": [
      {
       "output_type": "stream",
       "stream": "stdout",
       "text": [
        "[[  5.  10.   9.   9.   7.  10.   9.   0.   0.   2.]\n",
        " [  1.   8.   9.   0.   9.   1.   4.   8.   5.   3.]\n",
        " [  5.   9.   8.   4.   9.   6.   5.   0.   6.   5.]\n",
        " [ 10.   5.   4.   7.   9.   6.   1.   7.   2.   1.]\n",
        " [  3.   5.   9.   3.   9.   6.   8.   1.   1.   4.]\n",
        " [  5.  10.   7.   2.   8.   7.   9.   8.   9.   0.]\n",
        " [  2.   2.   2.   8.   6.   2.   2.  10.   7.   3.]\n",
        " [  9.   7.   7.   1.   8.   9.   1.   7.   9.   9.]\n",
        " [  3.   4.   4.   2.   4.   8.   4.   5.   5.   5.]\n",
        " [  7.   5.   7.   5.   6.   5.   0.   5.   9.   8.]]\n",
        "\n",
        "El valor m\u00e9s petit de la matriu \u00e9s 0.0 i el m\u00e9s gran \u00e9s 10.0\n"
       ]
      }
     ],
     "prompt_number": 154
    },
    {
     "cell_type": "markdown",
     "metadata": {},
     "source": [
      "<span style=\"color:blue\">Per tal de treure el bucle for havia de ser capa\u00e7 d'aplicar un m\u00e8tode que em permet\u00e9s saber el m\u00e0xim i el m\u00ednim de la matriu directament; sense haver d'iterar en els seus elements. Vaig consultar el meu professor de teoria (en Manel L\u00f3pez) i em va informar que els m\u00e8todes que m'he permetrien serien els seg\u00fcents:</span>\n",
      "\n",
      "    val_petit = matriu_arrodonida.min() \n",
      "    val_gran = matriu_arrodonida.max()\n",
      "    \n",
      "<span style=\"color:blue\">Aix\u00ed que aplico aquests m\u00e8todes en el programa anterior per substituir el bucle:</span>"
     ]
    },
    {
     "cell_type": "code",
     "collapsed": false,
     "input": [
      "import numpy as np\n",
      "matriu = np.random.rand(10,10)*10\n",
      "matriu_arrodonida = np.round(matriu,0)\n",
      "print(matriu_arrodonida)\n",
      "\n",
      "val_petit = matriu_arrodonida.min() \n",
      "val_gran = matriu_arrodonida.max()\n",
      "print(\"\\nEl valor m\u00e9s petit de la matriu \u00e9s\", val_petit, \"i el m\u00e9s gran \u00e9s\", val_gran)"
     ],
     "language": "python",
     "metadata": {},
     "outputs": [
      {
       "output_type": "stream",
       "stream": "stdout",
       "text": [
        "[[  7.   7.   1.   2.   1.   3.   3.   4.   9.   7.]\n",
        " [ 10.   8.   9.   1.   3.   4.   3.   5.   0.  10.]\n",
        " [  1.   1.   3.   9.   1.   1.   6.   9.   8.   7.]\n",
        " [  1.   8.   3.   9.   4.   4.   3.   8.   6.   4.]\n",
        " [  8.   9.   7.   5.   5.   9.   9.   8.   9.   4.]\n",
        " [  2.   2.   6.   1.   5.   5.   9.   8.   2.   4.]\n",
        " [  6.   6.   1.   4.   7.   3.   6.   5.   1.   8.]\n",
        " [  1.   1.   8.   3.   4.   6.   4.   5.   4.   9.]\n",
        " [  5.   7.   4.   6.   6.   8.   4.  10.   1.   2.]\n",
        " [  4.   2.   7.   0.   5.   2.   1.   8.   6.   9.]]\n",
        "\n",
        "El valor m\u00e9s petit de la matriu \u00e9s 0.0 i el m\u00e9s gran \u00e9s 10.0\n"
       ]
      }
     ],
     "prompt_number": 53
    },
    {
     "cell_type": "markdown",
     "metadata": {},
     "source": [
      "## Exercici 1.1 - Plantejament 'correcte'\n",
      "\n",
      "He de crear una matriu 10 x 10 amb valors aleatoris i trobar el valor m\u00ednim i m\u00e0xim de la matriu.\n",
      "\n",
      "<span style=\"color:blue\">Despr\u00e9s de fer l'exercici 1.1 i l'exercici 1.2 he arribat a l'exercici 1.3 on se m'ha plantejat trobar la norma. Ho he intentat fer de la seg\u00fcent manera. Per\u00f2 m'he trobat en que no se'm formaven zeros:</span>\n",
      "\n",
      "    import numpy as np\n",
      "    matriu = np.random.rand(5,5)*10\n",
      "    matriu_arrodonida= np.round(matriu,0)\n",
      "\n",
      "    Norma=np.linalg.norm(matriu_arrodonida)\n",
      "    Normalitzada=matriu_arrodonida/Norma\n",
      "    print(\"Matriu:\\n\", matriu_arrodonida, \"\\n\\n\",Norma,\"\\n\\nMatriu Normalitzada:\\n\",Normalitzada)\n",
      "    \n",
      "<span style=\"color:blue\">He comen\u00e7at a pensar qu\u00e8 podia fallar, qu\u00e8 podia fallar perqu\u00e8 no se'm formessin zeros. Al final, al cap de diversos dies de pensar, m'he adonat que el fet que la `matriu_arrodonida` estigu\u00e9s formada per n\u00fameros de 0 a 10 sense cap decimal no significava que no els port\u00e9s impl\u00edcits i al aplicar `Norma=np.linalg.norm(matriu_arrodonida)`, la variable `Norma` estigu\u00e9s calculada amb aquests decimals impl\u00edcits cosa que causava que al dividir la matriu per la norma, aquesta no fos exacatament la matriu que buscava.</span>\n",
      "\n",
      "<span style=\"color:blue\">Al adonar-me'n d'aix\u00f2, els meus ulls han anat a l'exercici 1.1 i llavors m'he vist obligat a refer-lo per definit la matriu amb enters positius; tant expl\u00edcits com impl\u00edcits. Aquest cop els he definit de 0 a 100 donat que aix\u00ed existeixen m\u00e9s possibilitats de trobar un m\u00e0xim diferent de 10 i un m\u00ednim diferent de 0 cosa que en el programa del exercici 1.1 quasi sempre passava. </span>\n",
      "\n",
      "<span style=\"color:blue\">Per crear la matriu llavors el que he fet servir \u00e9s la sintaxi seg\u00fcent: `matriu = numpy.random.randint(n\u00fam, size = (f,c)` on puc modificar els car\u00e0cters `n\u00fam`, `f` i `c`. `n\u00fam` correspon al n\u00famero m\u00e0xim enter aleatori que generar\u00e0; generar\u00e0 enters des de 0 fins al `n\u00fam` introdu\u00eft. `f` \u00e9s el nombre de files que vull que tingui la matriu generada. `c`  \u00e9s el nombre de columnes que vull que tingui la matriu generada. Pel cas desitjat: `n\u00fam` = 100, `f` = 10 i `c` = 10. Despr\u00e9s he introdu\u00eft el codi del programa del plantejament anterior per buscar el m\u00e0xim i el m\u00ednim.</span>"
     ]
    },
    {
     "cell_type": "code",
     "collapsed": false,
     "input": [
      "import numpy as np\n",
      "matriu = np.random.randint(100, size = (10,10))\n",
      "print(matriu)\n",
      "\n",
      "val_petit = matriu.min() \n",
      "val_gran = matriu.max()\n",
      "print(\"\\nEl valor m\u00e9s petit de la matriu \u00e9s\", val_petit, \"i el m\u00e9s gran \u00e9s\", val_gran)"
     ],
     "language": "python",
     "metadata": {},
     "outputs": [
      {
       "output_type": "stream",
       "stream": "stdout",
       "text": [
        "[[39 26 33 27 98 30 19 29  8 43]\n",
        " [27 85 11 38 74 63 75  9 61 55]\n",
        " [67 26 41 20  4 40 16 95 51 40]\n",
        " [39 99 71 36 25 14  9 24 19 55]\n",
        " [68 49 85 21 92 58 74 76 58 77]\n",
        " [79 72 19 35 57 31 49 53 11 96]\n",
        " [47 16 57 45 17 11 93 87 44 46]\n",
        " [14 81 36 88 10 41 19 47  0 94]\n",
        " [31 83 25 77 47 91 74 56 27 80]\n",
        " [36 41 33 84 23 68 99 40 46 23]]\n",
        "\n",
        "El valor m\u00e9s petit de la matriu \u00e9s 0 i el m\u00e9s gran \u00e9s 99\n"
       ]
      }
     ],
     "prompt_number": 48
    },
    {
     "cell_type": "markdown",
     "metadata": {},
     "source": [
      "## Exercici 1.2\n",
      "He de crear una matriu 5 x 5 de valors aleatoris i normalitzar-la, \u00e9s a dir, escalar tots els valors de manera que\n",
      "quedi una matriu triagonal amb zeros sota la diagonal.\n",
      "\n",
      "<span style=\"color:blue\">Primer creo la matriu 5x5. Ho faig de la mateixa manera que l'exercici 1.1 (correcte) canviant la dimensi\u00f3 de la matriu:</span>\n",
      "\n",
      "    matriu = np.random.randint(100, size = (5,5))\n",
      "\n",
      "<span style=\"color:blue\">Per realitzar el que se'm demana he d'usar la funci\u00f3 `norm()` situada a `numpy.linalg` per trobar la norma de la matriu. A partir de trobar la norma, per definici\u00f3 de qu\u00e8 \u00e9s una matriu normalitzada, he de dividir la matriu que tinc per la norma i aix\u00ed trobo la matriu normalitzada. Aix\u00ed doncs, codifico aquestes operacions per trobar la matriu normaltizada a partir de la matriu aleat\u00f2ria anomenada `matriu`:</span> "
     ]
    },
    {
     "cell_type": "code",
     "collapsed": false,
     "input": [
      "import numpy as np\n",
      "matriu = np.random.randint(100, size = (5,5))\n",
      "\n",
      "Norma=np.linalg.norm(matriu)\n",
      "matriu_normalitzada=matriu/Norma\n",
      "print(\"Matriu:\\n\", matriu, \"\\n\\n\",Norma,\"\\n\\nMatriu_normalitzada:\\n\",matriu_normalitzada)"
     ],
     "language": "python",
     "metadata": {},
     "outputs": [
      {
       "output_type": "stream",
       "stream": "stdout",
       "text": [
        "Matriu A:\n",
        " [[64 90 55 81 43]\n",
        " [45 80 66 27 90]\n",
        " [54 22 23 92 20]\n",
        " [ 1 25 57 31 44]\n",
        " [11  0 67 93 90]] \n",
        "\n",
        " 293.53875383 \n",
        "\n",
        "Matriu A_normalitzada:\n",
        " [[ 0.21802913  0.30660347  0.18736879  0.27594312  0.14648832]\n",
        " [ 0.15330173  0.27253642  0.22484254  0.09198104  0.30660347]\n",
        " [ 0.18396208  0.07494751  0.07835422  0.31341688  0.0681341 ]\n",
        " [ 0.00340671  0.08516763  0.1941822   0.10560786  0.14989503]\n",
        " [ 0.03747376  0.          0.22824925  0.31682358  0.30660347]]\n"
       ]
      }
     ],
     "prompt_number": 64
    },
    {
     "cell_type": "markdown",
     "metadata": {},
     "source": [
      "## Exercici 1.3\n",
      "En aquest exercici se'm demana generar una matriu 5 x 5 de manera que si $x$ \u00e9s el n\u00famero de fila i $y$ el n\u00famero de columna, el valor de la component (x, y) sigui $3x + y^2$\n",
      "\n",
      "<span style=\"color:blue\">El primer que m'ha vingut al cap ha estat fer el programa de la seg\u00fcent manera; creant la matriu a trav\u00e9s de dos fors i que els elements introdu\u00efts tinguessin corresponend\u00e8ncia entre la seva posici\u00f3 i la f\u00f3rmula $3x + y^2$:</span>"
     ]
    },
    {
     "cell_type": "code",
     "collapsed": false,
     "input": [
      "import numpy as np\n",
      "\n",
      "M=[]\n",
      "columnes=5\n",
      "files=5\n",
      "for x in range(columnes):\n",
      "    m = []\n",
      "    for y in range(files):\n",
      "        m.append(3*x+y**2)\n",
      "    M.append(m)\n",
      "\n",
      "matrix = np.array(M)\n",
      "print(matrix)"
     ],
     "language": "python",
     "metadata": {},
     "outputs": [
      {
       "output_type": "stream",
       "stream": "stdout",
       "text": [
        "[[ 0  1  4  9 16]\n",
        " [ 3  4  7 12 19]\n",
        " [ 6  7 10 15 22]\n",
        " [ 9 10 13 18 25]\n",
        " [12 13 16 21 28]]\n"
       ]
      }
     ],
     "prompt_number": 12
    },
    {
     "cell_type": "markdown",
     "metadata": {},
     "source": [
      "<span style=\"color:blue\">Per\u00f2 m\u00e9s tard m'he enrecordat que no podia utilitzar bucles per cap subexercici de l'exercici 1. Aix\u00ed que he hagut de pensar una altra manera que m'ofereixi numpy per crear matrius a partir d'una funci\u00f3. M'han indicat que a la p\u00e0gina 5 dels apunts de teoria sobre _Numpy_introducci\u00f3_ hi ha explicada la opci\u00f3 de cridar a una funci\u00f3 gr\u00e0cies a `numpy.fromfunction` i crear la _ndarray_ a partir d'aix\u00f2.</span>\n",
      "\n",
      "<span style=\"color:blue\">Aix\u00ed doncs, he definit una funci\u00f3 amb dos arguments d'entrada que els transforma a tres cops el primer argument m\u00e9s el segon argument el quadrat i retorna la operaci\u00f3:</span>\n",
      "\n",
      "    def funcio(i,j):\n",
      "        return (3*i+j**2)\n",
      "        \n",
      "<span style=\"color:blue\">A partir d'aqu\u00ed li he dit que la matriu sigui creada a partir d'aquesta funci\u00f3 amb les entrades de 5 files i 5 columnes. Despr\u00e9s he determinat que els elements f\u00f3ssin enters. D'aquesta manera el programa ha atribu\u00eft a cada element un n\u00famero corresponent a la posici\u00f3 (i,j) segons el c\u00e0clul de la funci\u00f3. I el que \u00e9s m\u00e9s important, ha atribu\u00eft tots els elements sense necessitat d'escriure expl\u00edcitament una repetici\u00f3.</span>"
     ]
    },
    {
     "cell_type": "code",
     "collapsed": false,
     "input": [
      "import numpy as np\n",
      "\n",
      "def funcio(i,j):\n",
      "    return (3*i+j**2)\n",
      "\n",
      "matrix = np.fromfunction(funcio,(5,5),dtype=int)\n",
      "print(matrix)"
     ],
     "language": "python",
     "metadata": {},
     "outputs": [
      {
       "output_type": "stream",
       "stream": "stdout",
       "text": [
        "[[ 0  1  4  9 16]\n",
        " [ 3  4  7 12 19]\n",
        " [ 6  7 10 15 22]\n",
        " [ 9 10 13 18 25]\n",
        " [12 13 16 21 28]]\n"
       ]
      }
     ],
     "prompt_number": 7
    },
    {
     "cell_type": "markdown",
     "metadata": {},
     "source": [
      "## Exercici 1.4\n",
      "\n",
      "Se'm demana generar dos vectors aleatoris X i Y de mida 10. Si aquests vectors representen les coordenades de 10 punts,\n",
      "he de calcular les dist\u00e0ncies d'aquests punts a l'origen i guardar-les en un vector R. Finalment he de trobar la dist\u00e0ncia m\u00e0xima\n",
      "a l'origen.\n",
      "\n",
      "<span style=\"color:blue\">Inicialment, he definit (despr\u00e9s d'importar numpy) els dos vectors X i Y com una _ndarray_ d'enters aleat\u00f2ris fins al valor 100 i que tingu\u00e9s 10 elements, tots situats en la mateixa fila:</span>\n",
      "    \n",
      "    import numpy as np\n",
      "    X = np.random.randint(100, size = 10)\n",
      "    Y = np.random.randint(100, size = 10)\n",
      "    \n",
      "<span style=\"color:blue\">Seguidament, he volgut crear el vector R a partir de definir la dist\u00e0ncia en una funci\u00f3 anomenada `distancia` que em retorna la dist\u00e0ncia entre els elements de les posicions assignades a l'entrada (i,j). El programa feia el que es pretenia per\u00f2 he arribat al punt de cridar la funci\u00f3 i he vist que necessitava un bucle de 10 per cridar 10 cops la funci\u00f3. La idea de fer servir una funci\u00f3 per estalviar-me iterar amb for i iterar usant la funci\u00f3 no m'ha funcionat perqu\u00e8 m'he trobat que necessitava un bucle per cridar la funci\u00f3 tants cops com dist\u00e0ncies a calcular. El codi sobre el que estic parlant \u00e9s el seg\u00fcent: Ja est\u00e0 executat i es pot veure que R correspon a la dist\u00e0ncia del primer punt ($\\sqrt{41^2 + 0 ^2}$):</span>![codi inicial](http://s30.postimg.org/sduk9ebjl/Captura_de_2014_12_10_12_07_33.png)\n",
      "\n",
      "<span style=\"color:blue\">Al veure que aquest m\u00e8tode no em funcionava per resoldre l'exericici sense bucles, he buscat un altre m\u00e8tode. Aquest m\u00e8tode ha estat fer les operacions directament amb les _ndarrays_. He creat una variable `R_2` que ha estat la _ndarray_ resultant d'elevar cada un dels elements del vector X sumats als elements de Y elevats tamb\u00e9 al quadrat. \u00c9s a dir, `R_2` era la dist\u00e0ncia al quadrat de tots els punts. Llavors nom\u00e9s m'ha calgut fer l'arrel d'aquesta (o elevar-la a 0.5, que \u00e9s equivalent) per calcular el vector demanat `R`.</span>\n",
      "\n",
      "<span style=\"color:blue\">Per despr\u00e9s trobar el valor m\u00e0xim en els 10 elements de `R` he usat el m\u00e8tode `.max()` aplicat sobre `R` per trobar el valor m\u00e9s gran; `val_gran`. Finalment he afegit el `print` adequat perqu\u00e8 es mostr\u00e9s les _ndarrays_ de les que parteix el programa, el c\u00e0lcul que en fa de cada dist\u00e0ncia i despr\u00e9s el valor de la dist\u00e0ncia m\u00e0xima.</span>\n"
     ]
    },
    {
     "cell_type": "code",
     "collapsed": false,
     "input": [
      "import numpy as np\n",
      "X = np.random.randint(100, size = 10)\n",
      "Y = np.random.randint(100, size = 10)\n",
      "\n",
      "R_2=X**2+Y**2\n",
      "R = R_2**0.5\n",
      "print()\n",
      "\n",
      "val_gran = R.max()\n",
      "print(\"Vector X:\", X,\"\\nVector Y:\", Y,\"\\n\\nVector R:\", R,\"\\n\\nEl punt m\u00e9s lluny\u00e0 est\u00e0 a una dist\u00e0ncia\", val_gran)"
     ],
     "language": "python",
     "metadata": {},
     "outputs": [
      {
       "output_type": "stream",
       "stream": "stdout",
       "text": [
        "Vector X: [36  2 47 27 55  4 48 33 95  8] \n",
        "Vector Y: [99 63 95 75 17 71 55  9 18 95] \n",
        "\n",
        "Vector R: [ 105.3422992    63.03173804  105.99056562   79.71198153   57.56735186\n",
        "   71.11258679   73.           34.20526275   96.69022701   95.33624704]\n",
        "\n",
        "El punt m\u00e9s lluny\u00e0 est\u00e0 a una dist\u00e0ncia 105.990565618\n"
       ]
      }
     ],
     "prompt_number": 31
    },
    {
     "cell_type": "markdown",
     "metadata": {},
     "source": [
      "# Exercici 2: gr\u00e0fic b\u00e0sic amb matplotlib\n",
      "Usant numpy he de generar dos vectors. Un vector X amb 100 valors equiespaiats entre 0 i 2$\\pi$. I un altre vector Y\n",
      "que contingui sin(2X-$\\pi$). He d'acabar representant aquests vectors intentant reproduir la seg\u00fcent figura: ![figura](http://puu.sh/djmUe.png)\n",
      "\n",
      "<span style=\"color:blue\">Per comen\u00e7ar he importat la llibreria numpy i la llibreria matplotlib. La primera perqu\u00e8 em permetr\u00e0 generar els vectors i la segona perqu\u00e8 em permetr\u00e0 dibuixar-los.</span>\n",
      "\n",
      "    import numpy as np\n",
      "    import matplotlib.pyplot as plt\n",
      "    \n",
      "<span style=\"color:blue\">He continuat definint el vector x i el vector y. Com que se'm demana que les dist\u00e0ncies siguin equidistants, de seguida he pensat amb el m\u00e8tode explicat a classe `linspace()`. L'he usat per definit els dos vectors:</span>\n",
      "\n",
      "    x = np.linspace(0,2*np.pi,100)\n",
      "    y = np.sin(2*x-np.pi)\n",
      "    \n",
      "<span style=\"color:blue\">A continuaci\u00f3 he creat el `plot` amb les coordenades x i y. Li he posat el t\u00edtol, el nom de l'eix x i el nom de l'eix y perqu\u00e8 s'assembli a la figura. He acabat escrivint `plt.show()` per veure els resultats.</span>\n",
      "\n",
      "    plt.plot(x,y)\n",
      "    plt.title('Exercici 2')\n",
      "    plt.xlabel('angle')\n",
      "    plt.ylabel('sin(2X-\u03c0)')\n",
      "    plt.show()\n",
      "    \n",
      "<span style=\"color:blue\">Despr\u00e9s he comparat el meu gr\u00e0fic amb el gr\u00e0fic amb el qual s'ha d'assemblar. He vist les seg\u00fcents difer\u00e8ncies que tenia que arreglar: </span>\n",
      "\n",
      "* <span style=\"color:blue\">La meva l\u00ednia del gr\u00e0fic era cont\u00ednua i la de l'enunciat discont\u00ednua. </span>\n",
      "\n",
      "* <span style=\"color:blue\">La meva l\u00ednia era lleugerament m\u00e9s fina que la de l'enunciat.</span>\n",
      "\n",
      "* <span style=\"color:blue\">El meu gr\u00e0fic no representava 10 punts vermells equidistants entre ells un dels quals marcava x=0 i l'altre x = \u03c0.</span>\n",
      "\n",
      "<span style=\"color:blue\">En vista d'aquestes difer\u00e8ncies m'he proposat modificar el meu codi per assimilar-me al gr\u00e0fic de l'enciat; tal com se'm demana. Per fer-ho he consutlat el codi dels apunts de _matplotlib_ penjats que s\u00f3n els seg\u00fcents:</span>\n",
      "\n",
      "    import matplotlib.pyplot as plt\n",
      "    import numpy as np\n",
      "    x = np.arange(1., 2*np.pi, 0.1);\n",
      "    y1 = np.sin(x)\n",
      "    y2 = np.cos(x)\n",
      "    y3 = np.log(x)\n",
      "\n",
      "    plt.plot(x, y1, \"r-\")\n",
      "    plt.plot(x, y2, \"bo\", x, y3, \"g--\")\n",
      "\n",
      "<span style=\"color:blue\">A partir de veure com aquest aconseguia canviar el color, el gruix i la forma de tra\u00e7 de les seves funcions, he modificat la meva. He creat dues noves variables `x1` i `y1`. `x1` \u00e9s equivalent a `x` amb la difer\u00e8ncia que representa 10 punts encomptes de 100 i `y1` \u00e9s equivalent a `y` amb la difer\u00e8ncia que troba els valors per cada `x1` en comptes de per cada `x`.</span>\n",
      "\n",
      "    x1 = np.linspace(0,2*np.pi,10)\n",
      "    y1 = np.sin(2*x1-np.pi)\n",
      "\n",
      "<span style=\"color:blue\">Seguidament he canviat el _plot_ del primer gr\u00e0fic i he afegit que sigui de color blau i amb un tra\u00e7 discontinu. Per fer-ho m'he basat en el programa dels apunts i he envidinat que per fer-ho havia d'escriure `\"b--\"`. A continuaci\u00f3 he augmentat el gruix de la l\u00ednia una mica gr\u00e0cies a veure [com ho feia un altre programador](http://youtu.be/HOnTa8V_YM8?t=5m) amb aquest m\u00e8tode: `linewidth=1.5`. Per afegir els punts vermells he endivinat que la primera lletra feia refer\u00e8ncia al color (b=blue, r=red, g=green ...) i la segona lletra feia refer\u00e8ncia a que la manera de representar era un punt (o=punt), per tant he representat les `x1` i les `y1` indicant-li `\"ro\"`. En definitiva, he afegit:</span>\n",
      "\n",
      "    plt.plot(x,y, \"b--\", linewidth=1.5)\n",
      "    plt.plot(x1,y1, \"ro\")\n",
      "\n",
      "<span style=\"color:blue\">Al executar el codi en aquest punt m'he fixat que els punts vermells no es representaven a on s'havien de repesentar. Llavors m'he fixat en com l'havia definit. I he vist que si que era veritat que havia de dibuixar 10 punts equidistants per\u00f2 li havia dit que el punt final fos 2 \u03c0 i en la gr\u00e0fica de l'encicat el punt final no era aquell, era un punt entre 5.5 i 6 i no el 6.28 que li havia dit jo. Aix\u00ed que em veia oblligat a corregir aix\u00f2. Per corregir-ho he usat la funci\u00f3 _arange_ en comptes de la _linspace_ que estava fent servir. D'aquesta manera he pogut dir que comen\u00e7\u00e9s a un punt i avan\u00e7\u00e9s una certa quantitat fins acabar marcant tots els punts (fins 2\u03c0). He escrit el seg\u00fcent codi per definir `x1`:</span>\n",
      "\n",
      "    x1 = np.arange(0,2*np.pi,np.pi/5)\n",
      "    \n",
      "<span style=\"color:blue\">La he definida aix\u00ed perqu\u00e8 els valors que va obtenint s\u00f3n primer 0, despr\u00e9s \u03c0/5, despr\u00e9s 2\u03c0/5, seguidament 3\u03c0/5, 4\u03c0/5, 5\u03c0/5 (\u03c0), ... D'aquesta manera predic que, al avan\u00e7ar un pas de `np.pi/5`, la gr\u00e0fica marcar\u00e0 el punt equivalent a \u03c0 en la sisena posici\u00f3. Executo el codi i comprovo que els punts m'han sortit en els mateixos llocs que en l'enunciat.</span>\n",
      "\n",
      "<span style=\"color:blue\">Arribats en aquest punt torno a comparar el meu gr\u00e0fic amb el de l'enunciat i obsevo les seg\u00fcents difer\u00e8ncies:</span>\n",
      "\n",
      "* <span style=\"color:blue\">La meva funci\u00f3 es representa entre 0 i 7 valors de l'angle i la de l'enunciat ho fa entre 0 i 2\u03c0.</span>\n",
      "\n",
      "* <span style=\"color:blue\">El meu gr\u00e0fic t\u00e9 el fos de color gris i el de l'enunciat el t\u00e9 blanc.</span>\n",
      "\n",
      "<span style=\"color:blue\">Per canviar el primer ep\u00edgraf uso el m\u00e8tode seg\u00fcent: `plt.xlim(r,s)` on `r` i `s` s\u00f3n els valors entre els quals es mostra el domini de la funci\u00f3. Per arreglar el segon punt, m'he basat en el canvi a fons blanc que [ha fet un altre programador](http://youtu.be/HOnTa8V_YM8?t=5m37s) per introduir-li jo tamb\u00e9 en el meu codi. Per tant, els afegitons per formar el programa final que \u00e9s clavat al de l'enunciat han estat:</span>\n",
      "\n",
      "    plt.xlim(0,2*np.pi)\n",
      "\n",
      "    fig=plt.figure()\n",
      "    rect=fig.patch\n",
      "    rect.set_facecolor('white')"
     ]
    },
    {
     "cell_type": "code",
     "collapsed": false,
     "input": [
      "import numpy as np\n",
      "import matplotlib.pyplot as plt\n",
      "x = np.linspace(0,2*np.pi,100)    #Definici\u00f3 de 100 punts equidistants que van de 0 fins a 2\u03c0\n",
      "y = np.sin(2*x-np.pi)             #Definici\u00f3 de 100 punts y que corresponen a atribuir-los un valor a trav\u00e9s de dir que y=f(x)=sin(2x-\u03c0)\n",
      "x1 = np.arange(0,2*np.pi,np.pi/5) #Definici\u00f3 de punts que van de 0 fins a 2\u03c0 amb un pas de \u03c0/5\n",
      "y1 = np.sin(2*x1-np.pi)           #Definici\u00f3 dels punts anteriors segons la funci\u00f3: f(x)=sin(2x-\u03c0)\n",
      "\n",
      "fig=plt.figure()\n",
      "rect=fig.patch\n",
      "rect.set_facecolor('white') #Color Blanc de fons\n",
      "\n",
      "plt.plot(x,y, \"b--\", linewidth=1.5) #Dibuix amb l\u00ednia blava discont\u00ednua (\"b--\") i de 1.5 punts de gruix (linewidth=1.5) dels 100 punts x,y\n",
      "plt.plot(x1,y1, \"ro\") #Dibuix amb punts vermells (\"ro\") dels punts 0 i els seg\u00fcents que estan a una dist\u00e0ncia k\u00b7\u03c0/5 (k=1,2,..)\n",
      "                        #sempre que el punt no sigui major que 2\u03c0 segons la funci\u00f3 f(x)=sin(2x-\u03c0)\n",
      "\n",
      "plt.title('Exercici 2')\n",
      "plt.xlim(0,2*np.pi)\n",
      "plt.xlabel('angle')\n",
      "plt.ylabel('sin(2X-\u03c0)')\n",
      "\n",
      "plt.show()"
     ],
     "language": "python",
     "metadata": {},
     "outputs": [],
     "prompt_number": 2
    },
    {
     "cell_type": "markdown",
     "metadata": {},
     "source": [
      "# Exercici 3: figures de Lissajous\n",
      "Les figures de Lissajous es tra\u00e7en generant les seves coordenades de la forma seg\u00fcent:\n",
      "\n",
      "X = A \u00b7 sin($\\alpha$\u00b7t)\n",
      "\n",
      "Y = B \u00b7 sin($\\beta$\u00b7t)\n",
      "\n",
      "On t \u00e9s un par\u00e0metre lliure (en aquest exercici l'he de fer variar entre 0 i 2$\\pi$ amb tants passos com consideri\n",
      "necessari). Generant els vectors X i Y de les expressions anteriors, he de fer servir matplotlib per tra\u00e7ar les figures de Lissajous\n",
      "pels tres casos seg\u007f\u00fcents:\n",
      "\n",
      "* $\\alpha$ = 3 ;  $\\beta$ = 4\n",
      "* $\\alpha$ = 5 ;  $\\beta$ = 4\n",
      "* $\\alpha$ = 2 ;   $\\beta$ = 7\n",
      "\n",
      "Amb A = B = 1 en els tres casos.\n",
      "\n",
      "El resultat hauria similar a la seg\u00fcent figura: ![figura2](http://puu.sh/djngK.png)\n",
      "\n",
      "<span style=\"color:blue\">Per comen\u00e7ar, importo les dues llibreries que em permetran treballar: `import numpy as np` i `import matplotlib.pyplot as plt`</span>\n",
      "\n",
      "<span style=\"color:blue\">Tot seguit defineixo les variables que em serviran per a tots els casos: `A=1`, `B=1` i `t = np.linspace(0,2*np.pi,100)`. He usat el m\u00e8tode `.lispace()` per definir la variable `t` donat que l'exercici em planteja el seg\u00fcent:</span>\n",
      "\n",
      ">_t_ \u00e9s un par\u00e0metre lliure que l'he de fer variar entre 0 i 2$\\pi$ amb tants passos com consideri\n",
      "necessari.\n",
      "\n",
      "<span style=\"color:blue\">I aix\u00f2 \u00e9s justament el que em permet el m\u00e8tode `.lispace()`; definir un inici (0) i un final (2\u03c0) que en codi \u00e9s `2*np.pi` i un pas que he dit que fos 100 perqu\u00e8 \u00e9s el que m'ha resultat m\u00e9s proper a les figures de l'enunciat.</span>\n",
      "\n",
      "<span style=\"color:blue\">Despr\u00e9s he definit les variables per a cada cas seguit de les f\u00f3rmules a les que s'han d'aplicar:</span>\n",
      "\n",
      "    #cas1\n",
      "    a = 3\n",
      "    b = 4\n",
      "    X = A*np.sin(a*t)\n",
      "    Y = B*np.sin(b*t)\n",
      "\n",
      "    #cas2\n",
      "    a = 5\n",
      "    b = 4\n",
      "    X = A*np.sin(a*t)\n",
      "    Y = B*np.sin(b*t)\n",
      "\n",
      "    #cas3\n",
      "    a = 2\n",
      "    b = 7\n",
      "    X = A*np.sin(a*t)\n",
      "    Y = B*np.sin(b*t)\n",
      "\n",
      "<span style=\"color:blue\">Ha estat important l'ordre de definici\u00f3 perqu\u00e8 quan redefineixo una variable, l'anterior definici\u00f3 s'esborra. Un cop arribats en aquest punt, ja tenia les f\u00f3rmules correctament definides en cada cas, nom\u00e9s em faltava representar-les amb la llibreria `matplotlib.pyplot` de color vermell com la figura. Per representar cada cas, he escrit sota la f\u00f3rmula acabada de calcular (\u00e9s a dir, abans que se'n determini una nova) el necessari perqu\u00e8 es represent\u00e9s gr\u00e0ficament. Aix\u00f2 \u00e9s en cada cas:</span>\n",
      "\n",
      "    plt.plot(X,Y, \"r\")\n",
      "    plt.show()\n",
      "    \n",
      "<span style=\"color:blue\">Finalment he augmentat una mica m\u00e9s el gruix del tra\u00e7 i he vist que era necessari apretar a la casella \"Configure suplots\" un cop executat el programa per minimizar l'amplada del gr\u00e0fic per tal que s'assembl\u00e9s als gr\u00e0fics de l'enunciat.</span>"
     ]
    },
    {
     "cell_type": "code",
     "collapsed": false,
     "input": [
      "import numpy as np\n",
      "import matplotlib.pyplot as plt\n",
      "A = 1\n",
      "B = 1\n",
      "t = np.linspace(0,2*np.pi,100)\n",
      "\n",
      "#cas1\n",
      "a = 3\n",
      "b = 4\n",
      "X = A*np.sin(a*t)\n",
      "Y = B*np.sin(b*t)\n",
      "plt.plot(X,Y, \"r\", linewidth=1.5)\n",
      "plt.show()\n",
      "\n",
      "#cas2\n",
      "a = 5\n",
      "b = 4\n",
      "X = A*np.sin(a*t)\n",
      "Y = B*np.sin(b*t)\n",
      "plt.plot(X,Y, \"r\", linewidth=1.5)\n",
      "plt.show()\n",
      "\n",
      "#cas3\n",
      "a = 2\n",
      "b = 7\n",
      "X = A*np.sin(a*t)\n",
      "Y = B*np.sin(b*t)\n",
      "plt.plot(X,Y, \"r\", linewidth=1.5)\n",
      "plt.show()"
     ],
     "language": "python",
     "metadata": {},
     "outputs": [],
     "prompt_number": 1
    },
    {
     "cell_type": "markdown",
     "metadata": {},
     "source": [
      "# Exercici 4: arrels de funcions\n",
      "La llibreria scipy proporciona una eina per trobar arrels (zeros) de funcions. El codi seg\u007f\u00fcent demostra com\n",
      "s'usa aquesta eina:"
     ]
    },
    {
     "cell_type": "code",
     "collapsed": false,
     "input": [
      "import scipy.optimize as so\n",
      "import math\n",
      "# Definim una funcio per la qual trobarem l'arrel\n",
      "def funcio(x):\n",
      "    return math.cos(x)\n",
      "# Usant \"so.newton()\" ens retorna l'arrel de la funcio (el punt x on la funcio val zero)\n",
      "# Heu de passar com a arguments la funcio i un valor inicial per a la cerca de l'arrel\n",
      "# http://docs.scipy.org/doc/scipy-0.14.0/reference/generated/scipy.optimize.newton.html\n",
      "print(so.newton(funcio, 1.))"
     ],
     "language": "python",
     "metadata": {},
     "outputs": [
      {
       "output_type": "stream",
       "stream": "stdout",
       "text": [
        "1.5707963267948966\n"
       ]
      }
     ],
     "prompt_number": 21
    },
    {
     "cell_type": "markdown",
     "metadata": {},
     "source": [
      "Se'm demana aplicar aquesta eina a tres exemples de funcions i il\u00b7lustrar amb una gr\u00e0fica el resultat, com en l'exemple\n",
      "seg\u007f\u00fcent: ![exemple](http://puu.sh/djnoE.png)\n",
      "\n",
      "\n",
      "<span style=\"color:blue\">Aquest apartat s'explica millor usant les gr\u00e0fiques que per escrit. \u00c9s per aix\u00f2 que he intentat fer un v\u00eddeo explicatiu d'aquest exercici que espero que sigui suficientment entenedor per abastar les explicacions d'aquest exercici.</span>\n",
      "\n",
      "<span style=\"color:blue\">El v\u00eddeo en el que explico com troba els zeros la funci\u00f3 \u00e9s el seg\u00fcent: [V\u00eddeo explicatiu de l'execici 4- Pr\u00e0ctica 9. Albert Ripoll](https://www.dropbox.com/s/pu9xqqp6fuy2vee/V%C3%ADdeo%20explicatiu%20de%20l%27execici%204-%20Pr%C3%A0ctia%209.%20Albert%20Ripoll.mp4?dl=0)</span>\n",
      "\n",
      "<span style=\"color:blue\">Voldria comentar que el v\u00eddeo no ha estat retocat i que \u00e9s nom\u00e9s un text explicatiu al costat del codi i dels gr\u00e0fics que jo introdueixo. \u00c9s per aix\u00f2 que potser hi ha algunes coses que han quedat una mica sense acabar d'explicar o de fer-li \u00e8mfasi. Voldria recalcar-les a continuaci\u00f3:</span>\n",
      "\n",
      "* <span style=\"color:blue\">El primer en que voldia disculpar-me \u00e9s en la meva equivocaci\u00f3 en anomenar com a t\u00edtol \"(1/x^2) -2\" a la funci\u00f3 \"(e^x)-1\" durant tot el v\u00eddeo i en les captures que venen a continuaci\u00f3 del mateix. La intenci\u00f3 era que pos\u00e9s (e^x)-1 per\u00f2 al canviar l'ordre dels 3 casos m'he deixat de canviar el t\u00edtol d'aquest. Em sap greu.</span>\n",
      "\n",
      "* <span style=\"color:blue\">En el minut 00:33 on posa 150 punts, pretenia escriure 200 punts. Inicialment havia definit la funci\u00f3 amb 150 punts, per\u00f2 posteriorment n'he afegit 200 perqu\u00e8 la gr\u00e0fica s'ajust\u00e9s m\u00e9s al resultat donat.</span>\n",
      "\n",
      "* <span style=\"color:blue\">Justament per aquest fet, ve el seg\u00fcent comentari. En el minut 2:02 faig una ampliaci\u00f3 entre dos punts com es pot veure en la seg\u00fcent captura: ![captura](http://puu.sh/dnHAp.jpg).</span>\n",
      "\n",
      "<span style=\"color:blue\">Despr\u00e9s de l'ampliaci\u00f3 estic intentant assenyalar la recta formada per l'aproximaci\u00f3 a punts que fa matplotlib per\u00f2 resulta que no es visualitza el ratol\u00ed. Tamb\u00e9 intento posar el ratol\u00ed en el punt de tall de la recta blava amb la funci\u00f3 perqu\u00e8 es mostri en l'extrem inferior esquerre les coordenades i, amb aix\u00f2, el punt on la funci\u00f3 f(x)=e^x-1 pren valor 0, per\u00f2 els valors obtinguts no s\u00f3n gaire exactes- No ho s\u00f3n per dues raons: </span>\n",
      "\n",
      "<span style=\"color:blue\">La primera perqu\u00e8 la meva precisi\u00f3 en posar el ratol\u00ed en el punt exacte de y = 0 \u00e9s la que \u00e9s (tamb\u00e9 per situar-lo en el punt x corresponent).</span>\n",
      "\n",
      "<span style=\"color:blue\">I la segona ra\u00f3 perqu\u00e8 aquell punt no correspon exactament a x = -7.241886128633859e-17 ja que l'aproximaci\u00f3 feta entre els dos punts ampliats \u00e9s molt poc precisa. El valor correcte hauria de ser quasi 0. Si defin\u00eds x amb 10000 punts entre -1 i 1 segurament s\u00ed que trobaria un valor m\u00e9s aproximat a -7.241886128633859e-17.</span>\n",
      "\n",
      "<span style=\"color:blue\">En la captura seg\u00fcent s'aprecia la presici\u00f3 que he pogut arribar amb el gr\u00e0fic del valor de y= 0 i del valor de x= -7.241886128633859e-17 .</span>\n",
      "![captura 2](http://puu.sh/dnIrn.jpg)\n",
      "\n",
      "<span style=\"color:blue\">Els altres casos exposats no presenten tant de dilema en la aproximaci\u00f3. L'\u00fanic que vull recalcar \u00e9s que els punts que assenyalo en vermell o ratllo i intento relacionar amb els gr\u00e0fics s\u00f3n els punts a partir dels quals busco les arrels. (Nom\u00e9s dir'ho per si no havia quedat clar els signes que feia).</span>\n",
      "\n",
      "<span style=\"color:blue\"><u>En resum, espero que la meva explicaci\u00f3 d'aquest apartat no hagi estat liosa malgrat els problemes del directe i que per contra hagi estat m\u00e9s visualment m\u00e9s entenedora.</u></span>"
     ]
    },
    {
     "cell_type": "code",
     "collapsed": false,
     "input": [
      "#Dibuix de la funci\u00f3 e^x-1 en verd i en blau la l\u00ednia que passa pel 0.\n",
      "import numpy as np\n",
      "import matplotlib.pyplot as plt\n",
      "from math import e\n",
      "\n",
      "x = np.linspace(-60,60,200)   #Defininci\u00f3 de la funci\u00f3 e^x-1\n",
      "y = e**x-1                    #Defininci\u00f3 de la funci\u00f3 e^x-1\n",
      "x1= np.linspace(-1000,1000,2) #Defininci\u00f3 de la recta y=0\n",
      "y1= np.linspace(0,0,2)        #Defininci\u00f3 de la recta y=0\n",
      "\n",
      "fig=plt.figure()\n",
      "rect=fig.patch\n",
      "rect.set_facecolor('white') #Color de fons.\n",
      "\n",
      "plt.plot(x,y, \"g\", linewidth=1.5)   #Dibuix de la funci\u00f3 e^x-1\n",
      "plt.plot(x1,y1, \"b\", linewidth=0.5) #Defininci\u00f3 de la recta y=0\n",
      "\n",
      "plt.title('(e^x)-1')\n",
      "plt.xlim(-20,10)\n",
      "plt.ylim(-10,20)\n",
      "\n",
      "plt.show()"
     ],
     "language": "python",
     "metadata": {},
     "outputs": [],
     "prompt_number": 16
    },
    {
     "cell_type": "code",
     "collapsed": false,
     "input": [
      "#Cerca d'arrels de f(x)=e^x-1\n",
      "import scipy.optimize as so\n",
      "from math import e\n",
      "import matplotlib.pyplot as plt\n",
      "\n",
      "def funcio(x):\n",
      "    return ((e**x)-1)\n",
      "print(so.newton(funcio, 1.))"
     ],
     "language": "python",
     "metadata": {},
     "outputs": [
      {
       "output_type": "stream",
       "stream": "stdout",
       "text": [
        "-7.241886128633859e-17\n"
       ]
      }
     ],
     "prompt_number": 13
    },
    {
     "cell_type": "code",
     "collapsed": false,
     "input": [
      "#Dibuix de la funci\u00f3 x^2+5x-10 en verd i en blau la l\u00ednia que passa pel 0.\n",
      "import numpy as np\n",
      "import matplotlib.pyplot as plt\n",
      "x = np.linspace(-10,5,100)\n",
      "y = x**2+5*x-10\n",
      "x1= np.linspace(-1000,1000,2)\n",
      "y1= np.linspace(0,0,2)\n",
      "\n",
      "fig=plt.figure()\n",
      "rect=fig.patch\n",
      "rect.set_facecolor('white')\n",
      "\n",
      "plt.plot(x,y, \"g\", linewidth=1.5)\n",
      "plt.plot(x1,y1, \"b\", linewidth=0.5)\n",
      "\n",
      "plt.title('x^2+5x-10')\n",
      "plt.xlim(-7,3)\n",
      "\n",
      "plt.show()"
     ],
     "language": "python",
     "metadata": {},
     "outputs": [],
     "prompt_number": 20
    },
    {
     "cell_type": "code",
     "collapsed": false,
     "input": [
      "#Cerca d'arrels de f(x)=x^2+5x-10\n",
      "import scipy.optimize as so\n",
      "import matplotlib.pyplot as plt\n",
      "def funcio(x):\n",
      "    return x**2+5*x-10\n",
      "\n",
      "print(\"Soluci\u00f3 al voltant de  2:  \", so.newton(funcio, 2.), \"\\nSoluci\u00f3 al voltant de -6: \", so.newton(funcio, -6.))"
     ],
     "language": "python",
     "metadata": {},
     "outputs": [
      {
       "output_type": "stream",
       "stream": "stdout",
       "text": [
        "Soluci\u00f3 al voltant de  2:   1.5311288741492752 \n",
        "Soluci\u00f3 al voltant de -6:  -6.531128874149267\n"
       ]
      }
     ],
     "prompt_number": 66
    },
    {
     "cell_type": "code",
     "collapsed": false,
     "input": [
      "#Dibuix de la funci\u00f3 (1/x^2)-2 en verd i en blau la l\u00ednia que passa pel 0.\n",
      "import numpy as np\n",
      "import matplotlib.pyplot as plt\n",
      "x = np.linspace(-3,3,200)\n",
      "y = 1/x**2-2\n",
      "x1= np.linspace(-1000,1000,2)\n",
      "y1= np.linspace(0,0,2)\n",
      "\n",
      "fig=plt.figure()\n",
      "rect=fig.patch\n",
      "rect.set_facecolor('white')\n",
      "\n",
      "plt.plot(x,y, \"g\", linewidth=1.5)\n",
      "plt.plot(x1,y1, \"b\", linewidth=0.5)\n",
      "\n",
      "plt.title('(1/x^2) -2')\n",
      "plt.xlim(-2,2)\n",
      "plt.ylim(-20,100)\n",
      "\n",
      "plt.show()"
     ],
     "language": "python",
     "metadata": {},
     "outputs": [],
     "prompt_number": 19
    },
    {
     "cell_type": "code",
     "collapsed": false,
     "input": [
      "#Cerca d'arrels de f(x)=(1/x^2)-2\n",
      "import scipy.optimize as so\n",
      "import matplotlib.pyplot as plt\n",
      "def funcio(x):\n",
      "    return 1/x**2-2\n",
      "print(\"Soluci\u00f3 al voltant de -1: \", so.newton(funcio, -1.), \"\\nSoluci\u00f3 al voltant de  1:  \", so.newton(funcio, 1.))"
     ],
     "language": "python",
     "metadata": {},
     "outputs": [
      {
       "output_type": "stream",
       "stream": "stdout",
       "text": [
        "Soluci\u00f3 al voltant de -1:  -0.7071067811865476 \n",
        "Soluci\u00f3 al voltant de  1:   0.7071067811865476\n"
       ]
      }
     ],
     "prompt_number": 18
    }
   ],
   "metadata": {}
  }
 ]
}