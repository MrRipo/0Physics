{
 "metadata": {
  "name": "",
  "signature": "sha256:daed5d172c769c553170f3d978e21cd34d0e9a72577e8b13bb81ce4afc2969f9"
 },
 "nbformat": 3,
 "nbformat_minor": 0,
 "worksheets": [
  {
   "cells": [
    {
     "cell_type": "markdown",
     "metadata": {},
     "source": [
      "Autor de la pr\u00e0ctica: <span style=\"color:red; font-family:Georgia; font-size:2em;\">Albert Ripoll</span>\n",
      "\n",
      "Comentari: Al afegir imatges al principi se'm mostraven per\u00f2 despr\u00e9s no se perqu\u00e8 se'm deixaven de mostrar. Espero que al avaluar la pr\u00e0ctica es mostrin; sin\u00f3 es pot anar al codi markdown i enganxar el URL al bowser per mirar la imatge. Tamb\u00e9 he tingut problemes en mostrar unes funcions latex del tipus: $\\mathbb{Q}$\n",
      "\n",
      "##Exercici 0\n",
      "\n",
      "### Exercici 0.1\n",
      "<span style=\"color:blue\">Com se m'ha demanat comprovo el resultat (tipus i valor) de les operacions seg\u00fcents. El resultat \u00e9s que el tipus de variable d'una divis\u00f3 d'enters \u00e9s enter mentres que les divisions enteres de reals s\u00f3n del tipus real.</span>"
     ]
    },
    {
     "cell_type": "code",
     "collapsed": false,
     "input": [
      "a= 1//2\n",
      "b= 1.//2.\n",
      "c= 5.//3.\n",
      "d= 15.//3.\n",
      "\n",
      "print (\" a= \",a,\"\\n\",\"b= \",b,\"\\n\",\"c= \",c,\"\\n\",\"d= \",d)\n",
      "print (\"La variable a \u00e9s del tipus: \",type(a), \"\\nLa variable b \u00e9s del tipus: \",type(b), \"\\nLa variable c \u00e9s del tipus: \",type(c),\"\\nLa variable d \u00e9s del tipus: \",type(d))\n"
     ],
     "language": "python",
     "metadata": {},
     "outputs": [
      {
       "output_type": "stream",
       "stream": "stdout",
       "text": [
        " a=  0 \n",
        " b=  0.0 \n",
        " c=  1.0 \n",
        " d=  5.0\n",
        "La variable a \u00e9s del tipus:  <class 'int'> \n",
        "La variable b \u00e9s del tipus:  <class 'float'> \n",
        "La variable c \u00e9s del tipus:  <class 'float'> \n",
        "La variable d \u00e9s del tipus:  <class 'float'>\n"
       ]
      }
     ],
     "prompt_number": 8
    },
    {
     "cell_type": "markdown",
     "metadata": {},
     "source": [
      "### Exercici 0.2\n",
      "\n",
      "<span style=\"color:blue\">Introdueixo les expressions seg\u00fcents, raono els resultats que em donaran (segons l'ordre: Exponenciaci\u00f3\u2192Producte i divisi\u00f3) i els comprovo:</span>\n",
      "\n",
      "`o1 = 2.**1./2.`\n",
      "\n",
      "`o2 = 2.**(1./2.)`\n",
      "\n",
      "`o3 = 2.*3.-4./2.`\n",
      "\n",
      "`o4 = 2.*(3.-4.)/2.`\n",
      "\n",
      "o1 = $\\frac{2.0^{1.0}}{2.0} = \\frac{2.0}{2.0} = 1.0$\n",
      "\n",
      "o2 = $2.0^\\frac{1.0}{2.0} = \\sqrt{2.0} = 1.414213562...$\n",
      "\n",
      "o3 = $(2.0\\cdot3.0)-(\\frac{4.0}{2.0}) = 6.0-(2.0) = 4.0$\n",
      "\n",
      "o4 = $2.0\\cdot\\frac{(3.0-4.0)}{2.0} = 2.0\\cdot\\frac{-1.0}{2.0} = 2.0\\cdot(-0.5) = -1.0$"
     ]
    },
    {
     "cell_type": "code",
     "collapsed": false,
     "input": [
      "#Simplement he afegit la opci\u00f3 print, les l\u00ednies 1 a 4 s\u00f3n les mateixes que l'enunciat.\n",
      "o1 = 2.**1./2.\n",
      "o2 = 2.**(1./2.)\n",
      "o3 = 2.*3.-4./2.\n",
      "o4 = 2.*(3.-4.)/2.\n",
      "print (\" o1= \",o1,\"\\n\",\"o2= \",o2,\"\\n\",\"o3= \",o3,\"\\n\",\"o4= \",o4)"
     ],
     "language": "python",
     "metadata": {},
     "outputs": [
      {
       "output_type": "stream",
       "stream": "stdout",
       "text": [
        " o1=  1.0 \n",
        " o2=  1.4142135623730951 \n",
        " o3=  4.0 \n",
        " o4=  -1.0\n"
       ]
      }
     ],
     "prompt_number": 2
    },
    {
     "cell_type": "markdown",
     "metadata": {},
     "source": [
      "##Exercici 1\n",
      "\n",
      "<span style=\"color:blue\">Per fer l'exerici el primer que he fet ha estat fer que el programa sigui capa\u00e7 de rebre valors determinats per a la x, a la y i a la z, ho he fet a trav\u00e9s d'un `input`. Aquest imput duu un _cast_ per converir l'`string` que s'introdueix en un nombre real (`float`); \u00e9s a dir, he introdu\u00eft el seg\u00fcent codi:</span>\n",
      "\n",
      "x = <span style=\"color:green\">float</span>(<span style=\"color:green\">input</span>(<span style=\"color:red\">\"Introduiu el valor de z: \"</span>))\n",
      "\n",
      "y = <span style=\"color:green\">float</span>(<span style=\"color:green\">input</span>(<span style=\"color:red\">\"Introduiu el valor de y: \"</span>))\n",
      "\n",
      "z = <span style=\"color:green\">float</span>(<span style=\"color:green\">input</span>(<span style=\"color:red\">\"Introduiu el valor de z: \"</span>))"
     ]
    },
    {
     "cell_type": "code",
     "collapsed": false,
     "input": [
      "#Comentari sobre la limitaci\u00f3 del programa: \n",
      "\n",
      "#Aquest problema es duu quan s'introdueix un valor a partir \n",
      "#del qual no es pot fer un cast a real. \u00c9s a dir si li diem\n",
      "#que el valor de x sigui: \"hola\" Python no sabr\u00e0 convertir \n",
      "#a real a partir del string i donar\u00e0 error.\n",
      "\n",
      "x = float(input(\"Introduiu el valor de x: \"))\n",
      "y = float(input(\"Introduiu el valor de y: \"))\n",
      "z = float(input(\"Introduiu el valor de z: \"))\n",
      "\n",
      "a = 2*x/(y+z)\n",
      "b = 4**(x+y)-(z/(2*x))**2\n",
      "c = 2/(1+x/y)\n",
      "d = (x**(y+1))**(z+2)\n",
      "\n",
      "print (\" a= \",a,\"\\n\",\"b= \",b,\"\\n\",\"c= \",c,\"\\n\",\"d= \",d)"
     ],
     "language": "python",
     "metadata": {},
     "outputs": [
      {
       "name": "stdout",
       "output_type": "stream",
       "stream": "stdout",
       "text": [
        "Introduiu el valor de x: 1\n"
       ]
      },
      {
       "name": "stdout",
       "output_type": "stream",
       "stream": "stdout",
       "text": [
        "Introduiu el valor de y: 2\n"
       ]
      },
      {
       "name": "stdout",
       "output_type": "stream",
       "stream": "stdout",
       "text": [
        "Introduiu el valor de z: 3\n"
       ]
      },
      {
       "output_type": "stream",
       "stream": "stdout",
       "text": [
        " a=  0.4 \n",
        " b=  61.75 \n",
        " c=  1.3333333333333333 \n",
        " d=  1.0\n"
       ]
      }
     ],
     "prompt_number": 1
    },
    {
     "cell_type": "markdown",
     "metadata": {},
     "source": [
      "### Comprovaci\u00f3 d'alguns resultats:\n",
      "\n",
      "Per a x=1, y=1, z=1  i  a, b, c, d:\n",
      "\n",
      "**a** $= \\cfrac{2x}{y+z}$\n",
      "\n",
      "**b** $= 4^{x+y}-(\\dfrac{z}{2x})^2$\n",
      "\n",
      "**c** $= \\cfrac{2}{1+\\frac{x}{y}}$\n",
      "\n",
      "**d** $= x^{(y+1)^{z+2}}$\n",
      "\n",
      "$a = \\cfrac{2\\cdot1}{1+1}$\n",
      "\n",
      "$b = 4^{1+1}-\\left(\\dfrac{1}{2\\cdot1}\\right)^2$\n",
      "\n",
      "$c = \\dfrac{2}{1+\\frac{1}{1}}$\n",
      "\n",
      "$d = 1^{(1+1)^{1+2}}$\n",
      "\n",
      "<span style=\"color:blue\">Llavors notem que els resultats del programa ![1](http://puu.sh/cfSUz.png) corresponen amb el que podem calcular amb la calculadora. ![2](http://puu.sh/cfQyZ.jpg) ![3](http://puu.sh/cfQzX.jpg)</span>\n",
      "\n",
      "<span style=\"color:blue\">Igual que correspondria qualsevol altre valor que introduissim a x, y i z; sempre que no causi problemes al fer el _cast_ a nombre real.</span>\n"
     ]
    },
    {
     "cell_type": "markdown",
     "metadata": {},
     "source": [
      "### Exercici 1.1\n",
      "\n",
      "<span style=\"color:blue\">La variable \"a\", tot i que est\u00e0 composta per dos valors enters; 1 i 2, \u00e9s tractada com un tipus real per Python. Encara que els nombres racionals es defineixem a partir dels enters ($\\mathbb{Z}$) d'aquesta manera: $\\mathbb{Q} = \\frac{p}{q}$ on $p, q\\in\\mathbb{Z}$ i $q\\not=0$; el fet de que $\\mathbb{Q}\\subset\\mathbb{R}$ per\u00f2 $\\mathbb{Z}\\not\\subset\\mathbb{R}$ ha causat que Python raonablement hagi decidit modernitzar la divisi\u00f3 perqu\u00e8 autom\u00e0ticament prengui una divisi\u00f3 com un nombre real en les versions 3.x.</span>\n",
      "\n",
      "<span style=\"color:blue\">D'aquesta manera d'eviten les confusions que es produien en les versions anteriors on la comanda:</span>\n",
      "\n",
      "`a= 1`\n",
      "\n",
      "`b= 2`\n",
      "\n",
      "`print(a/b)`\n",
      "\n",
      "<span style=\"color:blue\">Donava com a resultat 0 (al arrodonir el resultat 0.5 a un enter)</span>\n",
      "\n",
      "<span style=\"color:blue\">Aqu\u00ed es demostra que evidentment Python reconeix \"a\" com un real.</span>"
     ]
    },
    {
     "cell_type": "code",
     "collapsed": false,
     "input": [
      "a= 1 / 2\n",
      "print(a,type(a))"
     ],
     "language": "python",
     "metadata": {},
     "outputs": [
      {
       "output_type": "stream",
       "stream": "stdout",
       "text": [
        "0.5 <class 'float'>\n"
       ]
      }
     ],
     "prompt_number": 21
    },
    {
     "cell_type": "markdown",
     "metadata": {},
     "source": [
      "##Exercici 2\n",
      "\n",
      "<span style=\"color:blue\">Els resultats obtinguts s\u00f3n:</span>\n",
      "\n",
      "Enter \u00b7 Enter \u2192 Enter\n",
      "\n",
      "Enter \u00b7 Real \u2192 Real\n",
      "\n",
      "Enter \u00b7 Complex \u2192 Complex\n",
      "\n",
      "Real \u00b7 Real \u2192 Real\n",
      "\n",
      "Real \u00b7 Complex \u2192 Complex\n",
      "\n",
      "Enter / Enter \u2192 Real\n",
      "\n",
      "Real / Real \u2192 Real\n",
      "\n",
      "Real / Complex \u2192 Complex\n",
      "\n",
      "<span style=\"color:blue\"><u>Raonament per la multiplicaci\u00f3:</u> Els valors obtinguts en la multiplicaci\u00f3 corresponen sempre al tipus de variables m\u00e9s extens de tots els empreats en la multiplicaci\u00f3. Per m\u00e9s extens em refereixo a m\u00e9s a la dreta d'aquesta llista: Enter \u2192 Real \u2192 Complex. Dit d'una altra manera al multiplicar dos variables diferents, la variable resultant \u00e9s del tipus que no subconjugui l'altre ja que: $\\mathbb{Z}\\subset\\mathbb{R}\\subset\\mathbb{C}$. Si les variables que es multipliquen son les mateixes el resultat ser\u00e0 del mateix tipus de variable. \u00c9s aix\u00ed simplement per raons matem\u00e0tiques.</span>\n",
      "\n",
      "<span style=\"color:blue\"><u>Raonament per la divisi\u00f3:</u> Els valors obtinguts en la divisi\u00f3 corresponen sempre al tipus de variables m\u00e9s extens de tots els empreats en aquesta. \u00c9s a dir, segueix la mateixa regla que havia descrit anteriorment. Per\u00f2 hi ha una excepci\u00f3. Al dividir dos enters d\u00f3na com a resultat una variable del tipus `float`. Aix\u00f2 es deu al que ja explicava en l'exercici 1.1; que la divisi\u00f3 de dos enters pot donar lloc a un racional i un racional esta subconjugat en els Reals per\u00f2 no en els enters.</span>"
     ]
    },
    {
     "cell_type": "code",
     "collapsed": false,
     "input": [
      "#Simplement he afegit la opci\u00f3 print, les l\u00ednies 1 a 12 s\u00f3n les mateixes que l'enunciat em demana comprovar.\n",
      "#Al fer la opci\u00f3 print he escrit \"{:.3f}\".format(o8) perqu\u00e8 el resultat de l'operaci\u00f3 8 no tingu\u00e9s tants decimals i poder aix\u00ed escriure alineadament el tipus de variable amb nom\u00e9s 2 tabuladors; sense necessitat de realitzar-ne m\u00e9s.\n",
      "enter= 2\n",
      "real= 3.\n",
      "complex = 2.+5j\n",
      "\n",
      "o1= enter*enter\n",
      "o2= enter*real\n",
      "o3= enter*complex\n",
      "o4= real*real\n",
      "o5= real*complex\n",
      "o6= enter/enter\n",
      "o7= real/real\n",
      "o8= real/complex\n",
      "\n",
      "print (\"o1 = \",o1,\"\\t\\tTipus de variable o1: \",type(o1),\"\\no2= \",o2,\"\\t\\tTipus de variable o2: \",type(o2),\"\\no3= \",o3,\"\\t\\tTipus de variable o3: \",type(o3),\"\\no4= \",o4,\"\\t\\tTipus de variable o4: \",type(o4),\"\\no5= \",o5,\"\\t\\tTipus de variable o5: \",type(o5),\"\\no6= \",o6,\"\\t\\tTipus de variable o6: \",type(o6),\"\\no7= \",o7,\"\\t\\tTipus de variable o7: \",type(o7),\"\\no8= \", \"{:.3f}\".format(o8),\"\\tTipus de variable o8: \",type(o8))"
     ],
     "language": "python",
     "metadata": {},
     "outputs": [
      {
       "output_type": "stream",
       "stream": "stdout",
       "text": [
        "o1 =  4 \t\tTipus de variable o1:  <class 'int'> \n",
        "o2=  6.0 \t\tTipus de variable o2:  <class 'float'> \n",
        "o3=  (4+10j) \t\tTipus de variable o3:  <class 'complex'> \n",
        "o4=  9.0 \t\tTipus de variable o4:  <class 'float'> \n",
        "o5=  (6+15j) \t\tTipus de variable o5:  <class 'complex'> \n",
        "o6=  1.0 \t\tTipus de variable o6:  <class 'float'> \n",
        "o7=  1.0 \t\tTipus de variable o7:  <class 'float'> \n",
        "o8=  0.207-0.517j \tTipus de variable o8:  <class 'complex'>\n"
       ]
      }
     ],
     "prompt_number": 1
    },
    {
     "cell_type": "markdown",
     "metadata": {},
     "source": [
      "## Exercici 3\n",
      "\n",
      "<span style=\"color:blue\">Executo el programa de l'exercici 3 per veure com s'expressen els diferents valors en binari. Seguidament explicar\u00e9 el perqu\u00e8 dels resultats.</span>\n",
      "\n",
      "<span style=\"color:blue\">Primer de tot he de recalcar la import\u00e0ncia de l'estructuraci\u00f3 del programa ja que aquesta \u00e9s vital perqu\u00e8 funcioni. El fet de que cada l\u00ednia estigui a on estigui i no a un altre lloc fa que el programa mostri aquest resultat. Aix\u00f2 es degut a que l'ordre d'execuci\u00f3 de Python \u00e9s descendent. Aix\u00ed puc metaforitzar que les ordres que reb Python s\u00f3n: <span style=\"color:green\">\"El valor de 'a' \u00e9s 1; imprimeix 'a' en aquest format; El valor de 'a' ara \u00e9s a\u00b72 (1\u00b72); imprimeix 'a' (2) en aquest format; El valor de 'a' ara \u00e9s a\u00b72 (2\u00b72); imprimeix 'a' (4) en aquest format; El valor de 'a' ara \u00e9s a\u00b72 (4\u00b72); imprimeix 'a' (8) en aquest format, El valor de 'b' \u00e9s 174, imprimeix 'b' (174) en aquest format\"</span>\n",
      "\n",
      "<span style=\"color:blue\">Despr\u00e9s d'aix\u00f2 s\u00e9 que Python imprimir\u00e0 els valors (1, 2, 4, 8 i 174) en aquest ordre i un sota l'altre (ja que cada `print` est\u00e0 en una nova l\u00ednia). Per\u00f2 la manera en que ho imprimeix est\u00e0 modificada (canviada de format) per la funci\u00f3 `format`. La funci\u00f3 `format` s'escriu de la seg\u00fcent manera: </span> (<span style=\"color:red\">\"{:08}\"</span>.<span style=\"color:green\">format</span>(a)) <span style=\"color:blue\">on</span> <span style=\"color:red\">\"{  }\"</span> <span style=\"color:blue\">fa refer\u00e8ncia a com ha d'escriure la variable,</span> .<span style=\"color:green\">format</span> <span style=\"color:blue\">fa refer\u00e8ncia a que est\u00e0 utilitzant la manera d'escriure de `format` i</span> (a)) <span style=\"color:blue\">fa refer\u00e8ncia a la variable que ha d'escriure, \u00e9s a dir la variable a en els 4 primers casos i b en el darrer.</span>\n",
      "\n",
      "<span style=\"color:blue\">Finalment, em falta explicar de quina manera s'escriur\u00e0 la variable a. He dit que </span><span style=\"color:red\">\"{  }\"</span> <span style=\"color:blue\">fa refer\u00e8ncia a com s'ha d'escriure la variable. Per\u00f2 com li fem saber a Python com ho ha d'escriure? Doncs la manera de fer-ho \u00e9s la seg\u00fcent: Si escrivim <span style=\"color:red\">:0</span> li estem dient que afegeixi tants zeros a l'esquerra del n\u00famero com necessaris siguin per arribar al nombre de car\u00e0cters davant de la coma com li indiquem amb el n\u00famero que li escrivim despr\u00e9s. \u00c9s a dir, si escrivim (com \u00e9s el cas) <span style=\"color:red\">\"{:08}\"</span> li estem dient que imprimeixi el valor i a la seva esquerra afageixi tants 0 necessaris perqu\u00e8 el n\u00famero tingui 8 car\u00e0cters davant de la coma. Si despr\u00e9s del <span style=\"color:red\">8</span> escrivim <span style=\"color:red\">b</span>, \u00e9s a dir escrivim <span style=\"color:red\">\"{:08b}\"</span> li estem dient que escrigui el valor en binari. Si escrivissim, posem pel cas <span style=\"color:red\">f</span> donaria el valor en nombre real. Si la lletra fos <span style=\"color:red\">x</span> donaria el valor en hexadecimal. D'aquesta manera es compta amb un gran nombre de possibilitats que ens ofereix la opci\u00f3 `format`.</span>"
     ]
    },
    {
     "cell_type": "code",
     "collapsed": false,
     "input": [
      "#Programa a executar de l'enunciat de l'exercici 3\n",
      "a= 1\n",
      "print(\"{:08b}\".format(a))\n",
      "a= a*2\n",
      "print(\"{:08b}\".format(a))\n",
      "a= a*2\n",
      "print(\"{:08b}\".format(a))\n",
      "a= a*2\n",
      "print(\"{:08b}\".format(a))\n",
      "\n",
      "b= 174\n",
      "print(\"{:08b}\".format(b))"
     ],
     "language": "python",
     "metadata": {},
     "outputs": [
      {
       "output_type": "stream",
       "stream": "stdout",
       "text": [
        "00000001\n",
        "00000010\n",
        "00000100\n",
        "00001000\n",
        "10101110\n"
       ]
      }
     ],
     "prompt_number": 27
    },
    {
     "cell_type": "markdown",
     "metadata": {},
     "source": [
      "### Exercici 3.1\n",
      "\n",
      "<span style=\"color:blue\">L'operador and (**<span style=\"color:purple\">&</span>**) el que fa \u00e9s agafar els valors donats en binari i realitzar realitzar una operaci\u00f3 `and` entre el primer car\u00e0cter de 'a' (en binari, que \u00e9s com els agafa) i el primer de 'b' (tamb\u00e9 en binari) i escriure el resultat en el primer car\u00e0cter de c. Dit el primer, dit el segon, ..., fins el \u00faltim. \u00c9s a dir, bit a bit. Amb aix\u00f2 tots els car\u00e0cters de c d\u00f3nen 0 excepte l'\u00faltim que d\u00f3na 1 perqu\u00e8 la operaci\u00f3 de `and` que d\u00f3na com a resultat 1 nom\u00e9s \u00e9s a partir de dos uns.</span>"
     ]
    },
    {
     "cell_type": "code",
     "collapsed": false,
     "input": [
      "#Programa donat\n",
      "a= 133\n",
      "b= 210\n",
      "c= a & b\n",
      "\n",
      "print(\"{:08b}\".format(a))\n",
      "print(\"{:08b}\".format(b))\n",
      "print(\"{:08b}\".format(c))"
     ],
     "language": "python",
     "metadata": {},
     "outputs": [
      {
       "output_type": "stream",
       "stream": "stdout",
       "text": [
        "10000101\n",
        "11010010\n",
        "10000000\n"
       ]
      }
     ],
     "prompt_number": 39
    },
    {
     "cell_type": "code",
     "collapsed": false,
     "input": [
      "#Investigaci\u00f3 del programa\n",
      "a= 133\n",
      "b= 210\n",
      "c= a & b\n",
      "#A veure qu\u00e8 passa si dic que d val el nombre real de c?\n",
      "d = 128\n",
      "\n",
      "print(\"{:08b}\".format(a))\n",
      "print(\"{:08b}\".format(b))\n",
      "print(\"{:08b}\".format(c))\n",
      "print(\"\\nc en nombre real: {:.1f}\".format(c))\n",
      "\n",
      "# i despr\u00e9s imprimeixo d en binari \u00e9s igual a c? Ho comprovo\n",
      "print (\"d en binari = {:08b}\".format(d))\n",
      "\n",
      "# Realment \u00e9s el mateix? True (d\u00f3na 0) o False (no d\u00f3na 0)\n",
      "v=c-d\n",
      "b= not v\n",
      "print (\"Realment c = d?\", b)\n",
      "\n",
      "#d'acord, ara no hi ha dubte que Python fa servir binari pels operadors i ho fa bit a bit."
     ],
     "language": "python",
     "metadata": {},
     "outputs": [
      {
       "output_type": "stream",
       "stream": "stdout",
       "text": [
        "10000101\n",
        "11010010\n",
        "10000000\n",
        "\n",
        "c en nombre real: 128.0\n",
        "d en binari = 10000000\n",
        "Realment c = d? True\n"
       ]
      }
     ],
     "prompt_number": 110
    },
    {
     "cell_type": "markdown",
     "metadata": {},
     "source": [
      "##Exercici 4"
     ]
    },
    {
     "cell_type": "markdown",
     "metadata": {},
     "source": [
      "###Exercici 4.1\n",
      "\n"
     ]
    },
    {
     "cell_type": "code",
     "collapsed": false,
     "input": [
      "#Introdueixo els valors de a i b de l'exercici 3.1 perqu\u00e8 sin\u00f3 els valors en que\n",
      "#les operacions faran els c\u00e0lculs seran els \u00faltims valors executats\n",
      "a= 133\n",
      "b= 1\n",
      "\n",
      "o1= a & b\n",
      "o2= a | b\n",
      "o3= a ^ b\n",
      "o4= ~b\n",
      "o5= a << 2\n",
      "o6= a >> 2\n",
      "o7= a >> 8\n",
      "\n",
      "print(\"a \u00e9s {:08b}\".format(a))\n",
      "\n",
      "print(\"b \u00e9s {:08b}\".format(b))\n",
      "print(\"\\n\\no1 = {:08b}\".format(o1))\n",
      "print(\"o2 = {:08b}\".format(o2))\n",
      "print(\"o3 = {:08b}\".format(o3))\n",
      "print(\"o4 = {:08b}\".format(o4))\n",
      "print(\"o5 = {:08b}\".format(o5))\n",
      "print(\"o6 = {:08b}\".format(o6))\n",
      "print(\"o7 = {:08b}\".format(o7))\n"
     ],
     "language": "python",
     "metadata": {},
     "outputs": [
      {
       "output_type": "stream",
       "stream": "stdout",
       "text": [
        "a \u00e9s 10000101\n",
        "b \u00e9s 00000001\n",
        "\n",
        "\n",
        "o1 = 00000001\n",
        "o2 = 10000101\n",
        "o3 = 10000100\n",
        "o4 = -0000010\n",
        "o5 = 1000010100\n",
        "o6 = 00100001\n",
        "o7 = 00000000\n"
       ]
      }
     ],
     "prompt_number": 19
    },
    {
     "cell_type": "code",
     "collapsed": false,
     "input": [
      "#Introdueixo els valors de a i b canviats a binari i en string per observar els c\u00e0lculs bit a bit\n",
      "\n",
      "a1 = \"10000101\"\n",
      "b1 = \"11010010\"\n",
      "\n",
      "#Utilitzo el n\u00famero 1 i el 0 per fer les operacions bit a bit\n",
      "u = 1\n",
      "z = 0\n",
      "\n",
      "#Escric en string el que estic operant i al final ho opero usant les variables z (0) i u (1)\n",
      "#Indentifico l'operador usat en cada operaci\u00f3 \n",
      "print (\"Operaci\u00f3 1 (and):\\n\\n \", a1[0], \"&\", b1[0], \"=\", (u&u))\n",
      "print (\" \", a1[1], \"&\", b1[1], \"=\", (z&u))\n",
      "print (\" \", a1[2], \"&\", b1[2], \"=\", (z&z))  \n",
      "print (\" \", a1[3], \"&\", b1[3], \"=\", (z&u))\n",
      "print (\" \", a1[4], \"&\", b1[4], \"=\", (z&z))\n",
      "print (\" \", a1[5], \"&\", b1[5], \"=\", (u&z))\n",
      "print (\" \", a1[6], \"&\", b1[6], \"=\", (z&u))\n",
      "print (\" \", a1[7], \"&\", b1[7], \"=\", (u&z))\n",
      "\n",
      "print (\"\\nOperaci\u00f3 2 (Or):\\n\\n \", a1[0], \"|\", b1[0], \"=\", (u|u))\n",
      "print (\" \", a1[1], \"|\", b1[1], \"=\", (z|u))\n",
      "print (\" \", a1[2], \"|\", b1[2], \"=\", (z|z))  \n",
      "print (\" \", a1[3], \"|\", b1[3], \"=\", (z|u))\n",
      "print (\" \", a1[4], \"|\", b1[4], \"=\", (z|z))\n",
      "print (\" \", a1[5], \"|\", b1[5], \"=\", (u|z))\n",
      "print (\" \", a1[6], \"|\", b1[6], \"=\", (z|u))\n",
      "print (\" \", a1[7], \"|\", b1[7], \"=\", (u|z))\n",
      "\n",
      "print (\"\\nOperaci\u00f3 3 (Xor: or exclusiu bit a bit):\\n\\n \", a1[0], \"^\", b1[0], \"=\", (u^u))\n",
      "print (\" \", a1[1], \"^\", b1[1], \"=\", (z^u))\n",
      "print (\" \", a1[2], \"^\", b1[2], \"=\", (z^z))  \n",
      "print (\" \", a1[3], \"^\", b1[3], \"=\", (z^u))\n",
      "print (\" \", a1[4], \"^\", b1[4], \"=\", (z^z))\n",
      "print (\" \", a1[5], \"^\", b1[5], \"=\", (u^z))\n",
      "print (\" \", a1[6], \"^\", b1[6], \"=\", (z^u))\n",
      "print (\" \", a1[7], \"^\", b1[7], \"=\", (u^z))\n",
      "\n",
      "#He de fer un cast a enter perqu\u00e8 no em raoni de manera booleana.\n",
      "print (\"\\nOperaci\u00f3 4 (~):\\n\\n \", \"~ \", b1[0], \"=\", int(~u))\n",
      "print (\" \", \"~ \", b1[1], \"=\", int(~u))\n",
      "print (\" \", \"~ \", b1[2], \"=\", int(~z))  \n",
      "print (\" \", \"~ \", b1[3], \"=\", int(~u))\n",
      "print (\" \", \"~ \", b1[4], \"=\", int(~z))\n",
      "print (\" \", \"~ \", b1[5], \"=\", int(~z))\n",
      "print (\" \", \"~ \", b1[6], \"=\", int(~u))\n",
      "print (\" \", \"~ \", b1[7], \"=\", int(~z))\n",
      "\n",
      "print (\"\\nOperaci\u00f3 5 (Despla\u00e7ament: despla\u00e7en 2 bits a l'esquerra. Els bits de l'extrem es perden):\\n\\n \", a1[0], \"<<\", \"2\" , \"=\", (u<<2))\n",
      "print (\" \", a1[1], \"<<\", \"2\", \"=\", (z<<2))\n",
      "print (\" \", a1[2], \"<<\", \"2\", \"=\", (z<<2))  \n",
      "print (\" \", a1[3], \"<<\", \"2\", \"=\", (z<<2))\n",
      "print (\" \", a1[4], \"<<\", \"2\", \"=\", (z<<2))\n",
      "print (\" \", a1[5], \"<<\", \"2\", \"=\", (u<<2))\n",
      "print (\" \", a1[6], \"<<\", \"2\", \"=\", (z<<2))\n",
      "print (\" \", a1[7], \"<<\", \"2\", \"=\", (u<<2))\n",
      "\n",
      "print (\"\\nOperaci\u00f3 6 (Despla\u00e7ament: despla\u00e7en 2 bits a la dreta. Els bits de l'extrem es perden):\\n\\n \", a1[0], \">>\", \"2\" , \"=\", (u>>2))\n",
      "print (\" \", a1[1], \">>\", \"2\", \"=\", (z>>2))\n",
      "print (\" \", a1[2], \">>\", \"2\", \"=\", (z>>2))  \n",
      "print (\" \", a1[3], \">>\", \"2\", \"=\", (z>>2))\n",
      "print (\" \", a1[4], \">>\", \"2\", \"=\", (z>>2))\n",
      "print (\" \", a1[5], \">>\", \"2\", \"=\", (u>>2))\n",
      "print (\" \", a1[6], \">>\", \"2\", \"=\", (z>>2))\n",
      "print (\" \", a1[7], \">>\", \"2\", \"=\", (u>>2))\n",
      "\n",
      "print (\"\\nOperaci\u00f3 7 (Despla\u00e7ament: despla\u00e7en 8 bits a la dreta. Els bits de l'extrem es perden):\\n\\n \", a1[0], \">>\", \"8\", \"=\", (u>>8))\n",
      "print (\" \", a1[1], \">>\", \"8\", \"=\", (z>>8))\n",
      "print (\" \", a1[2], \">>\", \"8\", \"=\", (z>>8))  \n",
      "print (\" \", a1[3], \">>\", \"8\", \"=\", (z>>8))\n",
      "print (\" \", a1[4], \">>\", \"8\", \"=\", (z>>8))\n",
      "print (\" \", a1[5], \">>\", \"8\", \"=\", (u>>8))\n",
      "print (\" \", a1[6], \">>\", \"8\", \"=\", (z>>8))\n",
      "print (\" \", a1[7], \">>\", \"8\", \"=\", (u>>8))"
     ],
     "language": "python",
     "metadata": {},
     "outputs": [
      {
       "output_type": "stream",
       "stream": "stdout",
       "text": [
        "Operaci\u00f3 1 (and):\n",
        "\n",
        "  1 & 1 = 1\n",
        "  0 & 1 = 0\n",
        "  0 & 0 = 0\n",
        "  0 & 1 = 0\n",
        "  0 & 0 = 0\n",
        "  1 & 0 = 0\n",
        "  0 & 1 = 0\n",
        "  1 & 0 = 0\n",
        "\n",
        "Operaci\u00f3 2 (Or):\n",
        "\n",
        "  1 | 1 = 1\n",
        "  0 | 1 = 1\n",
        "  0 | 0 = 0\n",
        "  0 | 1 = 1\n",
        "  0 | 0 = 0\n",
        "  1 | 0 = 1\n",
        "  0 | 1 = 1\n",
        "  1 | 0 = 1\n",
        "\n",
        "Operaci\u00f3 3 (Xor: or exclusiu bit a bit):\n",
        "\n",
        "  1 ^ 1 = 0\n",
        "  0 ^ 1 = 1\n",
        "  0 ^ 0 = 0\n",
        "  0 ^ 1 = 1\n",
        "  0 ^ 0 = 0\n",
        "  1 ^ 0 = 1\n",
        "  0 ^ 1 = 1\n",
        "  1 ^ 0 = 1\n",
        "\n",
        "Operaci\u00f3 4 (~):\n",
        "\n",
        "  ~  1 = -2\n",
        "  ~  1 = -2\n",
        "  ~  0 = -1\n",
        "  ~  1 = -2\n",
        "  ~  0 = -1\n",
        "  ~  0 = -1\n",
        "  ~  1 = -2\n",
        "  ~  0 = -1\n",
        "\n",
        "Operaci\u00f3 5 (Despla\u00e7ament: despla\u00e7en 2 bits a l'esquerra. Els bits de l'extrem es perden):\n",
        "\n",
        "  1 << 2 = 4\n",
        "  0 << 2 = 0\n",
        "  0 << 2 = 0\n",
        "  0 << 2 = 0\n",
        "  0 << 2 = 0\n",
        "  1 << 2 = 4\n",
        "  0 << 2 = 0\n",
        "  1 << 2 = 4\n",
        "\n",
        "Operaci\u00f3 6 (Despla\u00e7ament: despla\u00e7en 2 bits a la dreta. Els bits de l'extrem es perden):\n",
        "\n",
        "  1 >> 2 = 0\n",
        "  0 >> 2 = 0\n",
        "  0 >> 2 = 0\n",
        "  0 >> 2 = 0\n",
        "  0 >> 2 = 0\n",
        "  1 >> 2 = 0\n",
        "  0 >> 2 = 0\n",
        "  1 >> 2 = 0\n",
        "\n",
        "Operaci\u00f3 7 (Despla\u00e7ament: despla\u00e7en 8 bits a la dreta. Els bits de l'extrem es perden):\n",
        "\n",
        "  1 >> 8 = 0\n",
        "  0 >> 8 = 0\n",
        "  0 >> 8 = 0\n",
        "  0 >> 8 = 0\n",
        "  0 >> 8 = 0\n",
        "  1 >> 8 = 0\n",
        "  0 >> 8 = 0\n",
        "  1 >> 8 = 0\n"
       ]
      }
     ],
     "prompt_number": 3
    },
    {
     "cell_type": "markdown",
     "metadata": {},
     "source": [
      "<span style=\"color:blue\">El programa anterior \u00e9s un molt bon programa per raonar els resultats de les operacions __de 1 a 4__ de 'a' i 'b' ja que es veuen a la perfecci\u00f3 tots els passos realitzats pels operadors.</span>\n",
      "\n",
      "<span style=\"color:blue\">Primer he de dir la peculiaritat m\u00e9s important dels operadors i \u00e9s que funcionen en binari. Prenen els enters 'a' i 'b' com al binari al que li correspon als enters que s\u00f3n. Despr\u00e9s un cop agafat el valor en binari, fa una s\u00e8rie d'operacions l\u00f2giques (tamb\u00e9 en binai) per donar un resultat en binari. Per\u00f2 abans de donar el resultat en binari el transforma en el tipus que eren les variables a calcular, en aquest cas enter (exceptuant el cas de l'operador not que autom\u00e0ticament d\u00f3na el resultat en boole\u00e0). Per tant, els programadors mai veiem que hi intervingui binari en el proc\u00e9s per\u00f2 el programa est\u00e0 funcionant en binari encara que nosaltres no ho veiem. </span>\n",
      "\n",
      "<span style=\"color:blue\">Un cop dit aix\u00f2, em falta raonar els resultats donats tenint en compte el que s'ha dit en el car\u00e0cter anterior; que el resultat donat \u00e9s en enter, encara que els c\u00e0lculs s\u00f3n en binari. Per aix\u00f2 raonar\u00e9 les operacions dels operadors ara ja amb la ment en binari, que \u00e9s com la t\u00e9 l'operador. Abans deia que el programa anterior \u00e9s molt bon programa per raonar les operacions donades i \u00e9s que \u00e9s veritat! Perqu\u00e8 el que fa el programa \u00e9s escriure en claretat les operacions bit a bit de 'a' (primera columna) i 'b' (segona columna) per donar els resultats finals (tercera columna).</span>\n",
      "\n",
      "<span style=\"color:blue\">M\u00e9s que explicar com funciona l'operador and, or, xor, not (que tenen una l\u00f2gica a darrere) el m\u00e9s entenedor \u00e9s escriure una taula amb les operacions que fa entre 1 i 0 ja que nom\u00e9s existeix quatre possibilitats. Tot i aix\u00ed ho explicar\u00e9 de les dues maneres.</span>\n",
      "\n",
      "<span style=\"color:blue\">Els s\u00edmils l\u00f2gics de les operacions entre dos valors \u00e9s el d'un circuit amb dos interruptors, un simbolitza 'a' i l'altre 'b', 1 vol dir True; \u00e9s a dir apretat i 0 vol dir False; \u00e9s a dit no apretat. Si passa corrent del punt O fins el punt P vol dir que el resultat que d\u00f3na \u00e9s True; \u00e9s a dir passa corrent \u2192 d\u00f3na valor 1. Si no passa corrent del punt O fins al P vol dir que el resultat \u00e9s False; \u00e9s a dir no passa corrent \u2192 d\u00f3na valor 0 </span>\n",
      "\n",
      "<span style=\"color:blue\"><u>Operaci\u00f3 1, And (&):  </u></span>\n",
      "\n",
      "<span style=\"color:blue\">S\u00edmil l\u00f2gic: </span> ![And](http://puu.sh/ciLE8.png)\n",
      "\n",
      "<span style=\"color:blue\">Taula:</span> \n",
      "\n",
      "| And (&) | a | b | a & b | Corrent ? |\n",
      "|:----------:|:------------:|:--------:|:--------:|:--------:|\n",
      "|  Cap apretat  | 0 | 0 | 0 | No |\n",
      "| b apretat   | 0 | 1 | 0 | No |\n",
      "| a apretat    | 1 | 0 | 0 | No |\n",
      "| Els dos apretats   | 1 | 1 | 1 | S\u00ed |\n",
      "\n",
      "<span style=\"color:blue\"><u>Operaci\u00f3 2, Or ( | ):  </u></span>\n",
      "\n",
      "<span style=\"color:blue\">S\u00edmil l\u00f2gic: </span> ![Or](http://puu.sh/ciLEX.png)\n",
      "\n",
      "<span style=\"color:blue\">Taula: </span>\n",
      "\n",
      "| Or (l) | a | b | a l b | Corrent ? |\n",
      "|:----------:|:------------:|:--------:|:--------:|:--------:|\n",
      "|  Cap apretat  | 0 | 0 | 0 | No |\n",
      "| b apretat   | 0 | 1 | 1 | S\u00ed |\n",
      "| a apretat    | 1 | 0 | 1 | S\u00ed |\n",
      "| Els dos apretats   | 1 | 1 | 1 | S\u00ed |\n",
      "\n",
      "<span style=\"color:blue\"><u>Operaci\u00f3 3, Xor ( | ):  </u></span>\n",
      "\n",
      "<span style=\"color:blue\">S\u00edmil l\u00f2gic: hi ha 4 botons perqu\u00e8 representa que quan 'a' \u00e9s 1 s'apreten els 2 botons 'a' i quan 'a' \u00e9s 0 no s'apreta cap dels etiquetats amb 'a'. El mateix per 'b'. </span> ![Xor](http://puu.sh/ckZKm.png)\n",
      "\n",
      "<span style=\"color:blue\">Taula: </span>\n",
      "\n",
      "| Xor (^) | a | b | a ^ b | Corrent ? |\n",
      "|:----------:|:------------:|:--------:|:--------:|:--------:|\n",
      "|  Cap apretat  | 0 | 0 | 0 | No |\n",
      "| b apretat   | 0 | 1 | 1 | S\u00ed |\n",
      "| a apretat    | 1 | 0 | 1 | S\u00ed |\n",
      "| Els dos apretats   | 1 | 1 | 0 | No |\n",
      "\n",
      "<span style=\"color:blue\"><u>Operaci\u00f3 4, Not:  </u></span>\n",
      "\n",
      "<span style=\"color:blue\">S\u00edmil l\u00f2gic: </span> ![Not](http://puu.sh/ckZNv.png)\n",
      "\n",
      "<span style=\"color:blue\">Taula: </span>\n",
      "\n",
      "| Not | b | not b | Corrent ? |\n",
      "|:----------:|:--------:|:--------:|:--------:|\n",
      "|  Cap apretat  | 0 | 1 | S\u00ed |\n",
      "| b apretat   | 1 | 0 | No |\n",
      "\n",
      "<span style=\"color:blue\"><u>Operaci\u00f3 4, presa com ~: </u> El que fa \u00e9s negar amb negatiu el binari per\u00f2 com que no \u00e9s capa\u00e7 de representar amb binari un n\u00famero negatiu, ens posa - a davant</span>"
     ]
    },
    {
     "cell_type": "markdown",
     "metadata": {},
     "source": [
      "<span style=\"color:blue\">Pel que fa als operadors __de 5 a 7__ el programa anterior no \u00e9s gaire \u00fatil perqu\u00e8 aquests tipus de operadors s'anomenen despla\u00e7aments i difer\u00e8ixen en un aspecte de funcionament respecte als anteriors. Mentre que els anteriors realitzen les operacions bit a bit ordenadament, els operadors de despla\u00e7ament no realitzen les operacions bit a bit; sin\u00f3 que realitzen les operacions directament sobre tota la llargada de bits de la variable utilitzada.</span>\n",
      "\n",
      "<span style=\"color:blue\"><u>Operaci\u00f3 5: Despla\u00e7ament a l'esquerra (<<):</u> Aquest operador despla\u00e7a a l'esquerra tants nombres com se li indiqui tota la llargada de bits de la variable que utilitza. En aquest cas, a<< 2 est\u00e0 indicant que agafi la variable 'a' i desplaci tots els seus bits a l'esquerra dos vegades. Despr\u00e9s omple els bits despla\u00e7ats amb 0, aix\u00ed 'a' es transforma amb una variable de major valor. Explicat d'una manera m\u00e9s f\u00e0cil per\u00f2 menys precisa, podria dir que l'operaci\u00f3 \"a<< 2\" tracta d'afegir dos zeros a la dreta del nombre 'a' en binari. </span>\n",
      "\n",
      "<span style=\"color:blue\"><u>Operacions 6 i 7: Despla\u00e7ament a la dreta (>>):</u> Aquest operador funciona igual que l'anterior. Despla\u00e7a a la dreta els bits segons el nombre que se li indiqui tot esborrant els car\u00e0cters situats m\u00e9s a la dreta. N'esborra un per despla\u00e7ament. En el cas de l'operaci\u00f3 6, a>> 2 est\u00e0 indicant que agafi la variable 'a' i desplaci tots els seus bits a la dreta dos vegades, despr\u00e9s reomple per l'esquerra amb 0 i elimina els 2 \u00faltims car\u00e0cters de 'a'. Explicat d'una manera m\u00e9s f\u00e0cil per\u00f2 menys precisa, podria dir que l'operaci\u00f3 \"a>> 2\" esborra els dos \u00faltims nombres de 'a' i escriu 2 zeros davant de 'a'. L'operaci\u00f3 7, a>> 8 tamb\u00e9 realitza el mateix, per\u00f2 com que la variable 'a' t\u00e9 8 car\u00e0cters, \u00e9s com si els elimin\u00e9s tots i els reompl\u00eds de zeros. Per aix\u00f2 el resultat \u00e9s: 00000000</span>"
     ]
    },
    {
     "cell_type": "markdown",
     "metadata": {},
     "source": [
      "###Exercici 4.2\n",
      "\n",
      "<span style=\"color:blue\">Aquest programa utilitza l'operador de despla\u00e7ament a l'esquerra. Despla\u00e7a el valor 133 que en binari t\u00e9 8 d\u00edgits i \u00e9s: 10000101 64 cops a l'esquerra. Despr\u00e9s imprimim la llargada dels bits de la operaci\u00f3 resultant i veiem que 'o8' t\u00e9 72 bits ja que cont\u00e9 els 8 bits inicials de la variable 'a' m\u00e9s els 64 bits que li hem afegit al despla\u00e7ar 'a' 64 vegades cap a l'esquerre. Al imprimir en binari 'o8' delimitant el nombre de bits en 64 obtenim el n\u00famero 10000101 seguit de 56 zeros (64-8)</span>"
     ]
    },
    {
     "cell_type": "code",
     "collapsed": false,
     "input": [
      "#Introdueixo el valor de a de l'exercici 4.1 perqu\u00e8 sin\u00f3 els valors en que\n",
      "#les operacions faran els c\u00e0lculs seran els \u00faltims valors executats\n",
      "a= 133\n",
      "o8= a<<64\n",
      "print(o8.bit_length())\n",
      "print(\"{:064b}\".format(o8))"
     ],
     "language": "python",
     "metadata": {},
     "outputs": [
      {
       "output_type": "stream",
       "stream": "stdout",
       "text": [
        "72\n",
        "100001010000000000000000000000000000000000000000000000000000000000000000\n"
       ]
      }
     ],
     "prompt_number": 32
    },
    {
     "cell_type": "markdown",
     "metadata": {},
     "source": [
      "### Exercici 4.3\n",
      "<span style=\"color:blue\">Se'm pregunta perqu\u00e8 els resultats s\u00f3n iguals. La resposta rau en la difer\u00e8ncia entre la operaci\u00f3 aritm\u00e8tica <span style=\"color:purple\">*</span> i l'operador <span style=\"color:purple\"><<</span>. Mentre que les operacions aritm\u00e8tiques poden pendre els valors com a enters, reals o complexos depenent de com se'ls planteja la operaci\u00f3 i les variables tal i com n'he parlat en l'exercici 2, els operadors prenen els valors sempre com a binaris i a partir d'aqu\u00ed operen.</span>\n",
      "\n",
      "<span style=\"color:blue\">En aquest programa es d\u00f3na el cas que el resultat de fer una operaci\u00f3 aritm\u00e8tica i la operaci\u00f3 d'un operador donen el mateix resultat. Aix\u00f2 \u00e9s perqu\u00e8 d'una banda la operaci\u00f3 aritm\u00e8tica multiplicaci\u00f3 identifica el valor de 'a' com a enter (\u00e9s a dir, pren 2) i el multiplica per 2 per donar un resultat enter que \u00e9s 4. D'altra banda, l'operador identifica el valor 'a' com a binari (\u00e9s a dir, pren 10) i el despla\u00e7a un cop a la dreta (<span style=\"color:purple\"><<</span><span style=\"color:green\">1</span>) per donar com a resultat 100. Per\u00f2 encara que interiorment l'operador estigui fent servir conceptes binaris, en cap moment li hem dit que imprimeixi el resultat en binari, per tant, imprimeix el resultat en el tipus que li ha estat donat; enter. Com que 100 binari en enter \u00e9s 4, imprimeix 4. </span>"
     ]
    },
    {
     "cell_type": "code",
     "collapsed": false,
     "input": [
      "a= 2\n",
      "print(a*2)\n",
      "print(a<<1)"
     ],
     "language": "python",
     "metadata": {},
     "outputs": [
      {
       "output_type": "stream",
       "stream": "stdout",
       "text": [
        "4\n",
        "4\n"
       ]
      }
     ],
     "prompt_number": 3
    },
    {
     "cell_type": "code",
     "collapsed": false,
     "input": [
      "#Comprovo les meves afirmacions i raonaments:\n",
      "\n",
      "a= 2\n",
      "arit= a*2\n",
      "operador= a<<1\n",
      "\n",
      "print (\"\\na en binari: {:b}\".format(a)) # a en binari efecivament \u00e9s 10\n",
      "print (\"\\noperador en binari: {:b}\".format(operador), \"\\toperador en enter: {:d}\".format(operador)) \n",
      "# el resultat d'efectuar l'operador \u00e9s 100 en binari i 4 en enter.\u2191\n",
      "\n",
      "print (\"\\n\\nResultat en usar l'operador (a<<1):\", operador)\n",
      "\n",
      "print (\"\\nResultat en usar l'operaci\u00f3 aritm\u00e8tica (a*1):\", arit)\n",
      "\n",
      "print (\"\\nTipus de variable operador: \", type(operador))\n",
      "\n",
      "print (\"\\nTipus de variable operaci\u00f3 aritm\u00e8tica: \", type(arit))\n",
      "\n",
      "#Ambd\u00f3s resultats es guarden en format 'int'."
     ],
     "language": "python",
     "metadata": {},
     "outputs": [
      {
       "output_type": "stream",
       "stream": "stdout",
       "text": [
        "\n",
        "a en binari: 10\n",
        "\n",
        "operador en binari: 100 \toperador en enter: 4\n",
        "\n",
        "\n",
        "Resultat en usar l'operador (a<<1): 4\n",
        "\n",
        "Resultat en usar l'operaci\u00f3 aritm\u00e8tica (a*1): 4\n",
        "\n",
        "Tipus de variable operador:  <class 'int'>\n",
        "\n",
        "Tipus de variable operaci\u00f3 aritm\u00e8tica:  <class 'int'>\n"
       ]
      }
     ],
     "prompt_number": 31
    },
    {
     "cell_type": "markdown",
     "metadata": {},
     "source": [
      "### Exercici 4.4\n",
      "\n",
      "<span style=\"color:blue\">L'exercici simplement tracta de fer comprovacions.</span>"
     ]
    },
    {
     "cell_type": "code",
     "collapsed": false,
     "input": [
      "#Faig la comprovaci\u00f3 de l'error en imprimir un string i un n\u00famero units a trav\u00e9s d'un +.\n",
      "cadena = '15'\n",
      "numero = 10\n",
      "\n",
      "print(cadena+numero)"
     ],
     "language": "python",
     "metadata": {},
     "outputs": [
      {
       "ename": "TypeError",
       "evalue": "Can't convert 'int' object to str implicitly",
       "output_type": "pyerr",
       "traceback": [
        "\u001b[1;31m---------------------------------------------------------------------------\u001b[0m\n\u001b[1;31mTypeError\u001b[0m                                 Traceback (most recent call last)",
        "\u001b[1;32m<ipython-input-8-1587726e56d4>\u001b[0m in \u001b[0;36m<module>\u001b[1;34m()\u001b[0m\n\u001b[0;32m      3\u001b[0m \u001b[0mnumero\u001b[0m \u001b[1;33m=\u001b[0m \u001b[1;36m10\u001b[0m\u001b[1;33m\u001b[0m\u001b[0m\n\u001b[0;32m      4\u001b[0m \u001b[1;33m\u001b[0m\u001b[0m\n\u001b[1;32m----> 5\u001b[1;33m \u001b[0mprint\u001b[0m\u001b[1;33m(\u001b[0m\u001b[0mcadena\u001b[0m\u001b[1;33m+\u001b[0m\u001b[0mnumero\u001b[0m\u001b[1;33m)\u001b[0m\u001b[1;33m\u001b[0m\u001b[0m\n\u001b[0m",
        "\u001b[1;31mTypeError\u001b[0m: Can't convert 'int' object to str implicitly"
       ]
      }
     ],
     "prompt_number": 8
    },
    {
     "cell_type": "code",
     "collapsed": false,
     "input": [
      "#Comprovo que els casos de concatenaci\u00f3 de cadenes i replicaci\u00f3 de cadenes funcionen correctament.\n",
      "\n",
      "cadena1= 'Hola'\n",
      "cadena2= ' m\u00f3n'\n",
      "enter = 3\n",
      "\n",
      "print(cadena1+cadena2)\n",
      "print(cadena1*enter)"
     ],
     "language": "python",
     "metadata": {},
     "outputs": [
      {
       "output_type": "stream",
       "stream": "stdout",
       "text": [
        "Hola m\u00f3n\n",
        "HolaHolaHola\n"
       ]
      }
     ],
     "prompt_number": 10
    },
    {
     "cell_type": "markdown",
     "metadata": {},
     "source": [
      "## Exercici 5\n",
      "\n",
      "__Operadors relacionals__\n",
      "\n",
      "<span style=\"color:blue\">En l'apartat 5.1 comprovo la taula mitjan\u00e7ant uns programes que comparen valors enters. I en l'apartat 5.2 comprovo que els operadors relacionals tamb\u00e9 funcionen per comparar cadenes de text.</span>\n",
      "\n",
      "| Operador | `True` | `False` |\n",
      "|----------|--------|--------|\n",
      "| x == y   | Si el valor de `x` \u00e9s igual al valor de `y` | Si els valors s\u00f3n diferents |\n",
      "| x != y   | Si el valor de `x` i el valor de `y` s\u00f3n diferents | Si s\u00f3n iguals |\n",
      "| x > y    | Si el valor de `x` \u00e9s m\u00e9s gran que el valor de `y` | Si el valor de `x` \u00e9s m\u00e9s petit o igual al valor de `y`|\n",
      "| x < y    | Si el valor de `x` \u00e9s m\u00e9s petit que el valor de `y` | Si el valor de `x` \u00e9s m\u00e9s gran o igual al valor de `y`|\n",
      "| x >= y   | Si el valor de `x` \u00e9s m\u00e9s gran o igual que el valor de `y` | Si el valor de `x` \u00e9s m\u00e9s petit que valor de `y`|\n",
      "| x <= y   | Si el valor de `x` \u00e9s m\u00e9s petit o igual que el valor de `y` | Si el valor de `x` \u00e9s m\u00e9s gran que valor de `y`|\n"
     ]
    },
    {
     "cell_type": "markdown",
     "metadata": {},
     "source": [
      "### 5.1 Amb enters"
     ]
    },
    {
     "cell_type": "code",
     "collapsed": false,
     "input": [
      "a = 1\n",
      "\n",
      "a == a\n",
      "#Si el valor de a \u00e9s igual al valor de a: True\n",
      "#Si els valors s\u00f3n diferents: False\n",
      "# Com es tracta del primer cas surt el valor True. (1=1)"
     ],
     "language": "python",
     "metadata": {},
     "outputs": [
      {
       "metadata": {},
       "output_type": "pyout",
       "prompt_number": 10,
       "text": [
        "True"
       ]
      }
     ],
     "prompt_number": 10
    },
    {
     "cell_type": "code",
     "collapsed": false,
     "input": [
      "a = 1\n",
      "b = 2\n",
      "c = 5\n",
      "\n",
      "a == (b or c)\n",
      "\n",
      "#Si el valor de a \u00e9s igual al valor de b: True\n",
      "#Si el valor de a \u00e9s igual al valor de c: True\n",
      "#Si el valor de a \u00e9s igual al valor de b i c: True\n",
      "\n",
      "\n",
      "#Si el valor a \u00e9s diferent al valor b i  a la mateixa vegada diferent al valor c: False\n",
      "#Si el valor a \u00e9s diferent al valor b i  per\u00f2 a la mateixa vegada no \u00e9s diferent al valor c: True\n",
      "#Si el valor a \u00e9s diferent al valor c i  per\u00f2 a la mateixa vegada no \u00e9s diferent al valor b: True\n",
      "\n",
      "# Com que en aquest cas a \u00e9s diferent al valor b i  a la mateixa vegada diferent al valor c, d\u00f3na de resultat False  (1 no \u00e9s = 2 i tampoc \u00e9s = 5)"
     ],
     "language": "python",
     "metadata": {},
     "outputs": [
      {
       "metadata": {},
       "output_type": "pyout",
       "prompt_number": 12,
       "text": [
        "False"
       ]
      }
     ],
     "prompt_number": 12
    },
    {
     "cell_type": "code",
     "collapsed": false,
     "input": [
      "a = 1\n",
      "b = 2\n",
      "c = 5\n",
      "\n",
      "a != a\n",
      "\n",
      "#Si el valor de a \u00e9s diferent al valor de a: True\n",
      "#Si el valor de a \u00e9s igual al valor de a: False\n",
      "\n",
      "# Com que ens trobem amb el segon cas, ens surt False.(1 no \u00e9s diferent de 1)"
     ],
     "language": "python",
     "metadata": {},
     "outputs": [
      {
       "metadata": {},
       "output_type": "pyout",
       "prompt_number": 13,
       "text": [
        "False"
       ]
      }
     ],
     "prompt_number": 13
    },
    {
     "cell_type": "code",
     "collapsed": false,
     "input": [
      "a = 1\n",
      "b = 2\n",
      "c = 5\n",
      "\n",
      "a != (b or c)\n",
      "\n",
      "\n",
      "#Si el valor de a \u00e9s diferent al valor de b: True\n",
      "#Si el valor de a \u00e9s diferent al valor de c: True\n",
      "#Si el valor de a \u00e9s diferent al valor de b i c alhora: True\n",
      "\n",
      "\n",
      "#Si el valor a \u00e9s igual al valor b i  a la mateixa vegada igual al valor c: False\n",
      "#Si el valor a \u00e9s igual al valor b i  per\u00f2 a la mateixa vegada \u00e9s diferent al valor c: True\n",
      "#Si el valor a \u00e9s igual al valor c i  per\u00f2 a la mateixa vegada \u00e9s diferent al valor b: True\n",
      "\n",
      "# Com que ens trobem amb el tercer cas, d\u00f3na de resultat True. (1 \u00e9s diferent a 2 i alhora diferent de 5)"
     ],
     "language": "python",
     "metadata": {},
     "outputs": [
      {
       "metadata": {},
       "output_type": "pyout",
       "prompt_number": 16,
       "text": [
        "True"
       ]
      }
     ],
     "prompt_number": 16
    },
    {
     "cell_type": "code",
     "collapsed": false,
     "input": [
      "a = 1\n",
      "b = 2\n",
      "c = 5\n",
      "\n",
      "a > a\n",
      "\n",
      "#Si el valor de a \u00e9s major al valor de a: True\n",
      "#Si el valor de a no \u00e9s major al valor de b: False\n",
      "\n",
      "# Com que ens trobem amb el segon cas, el resultat \u00e9s False (1 no \u00e9s m\u00e9s gran a 1)"
     ],
     "language": "python",
     "metadata": {},
     "outputs": [
      {
       "metadata": {},
       "output_type": "pyout",
       "prompt_number": 18,
       "text": [
        "False"
       ]
      }
     ],
     "prompt_number": 18
    },
    {
     "cell_type": "code",
     "collapsed": false,
     "input": [
      "a = 1\n",
      "b = 2\n",
      "c = 5\n",
      "\n",
      "a < (b and c)\n",
      "\n",
      "#Si el valor a \u00e9s major al valor b i a la mateixa vegada major al valor c: False\n",
      "#En cas contrari, \u00e9s a dir, si els valors de b i de c s\u00f3n major al valor a: True\n",
      "\n",
      "# Com que ens trobem amb el \u00faltim cas, el resultat \u00e9s True. (1 \u00e9s m\u00e9s petit que 2 i m\u00e9s petit que 5)"
     ],
     "language": "python",
     "metadata": {},
     "outputs": [
      {
       "metadata": {},
       "output_type": "pyout",
       "prompt_number": 13,
       "text": [
        "True"
       ]
      }
     ],
     "prompt_number": 13
    },
    {
     "cell_type": "code",
     "collapsed": false,
     "input": [
      "a = 1\n",
      "b = 2\n",
      "c = 5\n",
      "\n",
      "a > a\n",
      "\n",
      "#Si el valor de a \u00e9s major al valor de a: True\n",
      "#Si el valor de a no \u00e9s major al valor de a: False\n",
      "\n",
      "# Com que ens trobem amb l'\u00faltim cas, la resposta \u00e9s False (1 no \u00e9s m\u00e9s gran que 1)"
     ],
     "language": "python",
     "metadata": {},
     "outputs": [
      {
       "metadata": {},
       "output_type": "pyout",
       "prompt_number": 21,
       "text": [
        "False"
       ]
      }
     ],
     "prompt_number": 21
    },
    {
     "cell_type": "code",
     "collapsed": false,
     "input": [
      "a = 1\n",
      "b = 2\n",
      "c = 5\n",
      "\n",
      "a > (b or c)\n",
      "\n",
      "#Si el valor de a \u00e9s major al valor de b: True\n",
      "#Si el valor de a \u00e9s major al valor de c: True\n",
      "#Si el valor de a \u00e9s major al valor de b i alhora de c: True\n",
      "\n",
      "#Si el valor de a no \u00e9s major al valor de b i a la vegada no \u00e9s major al valor de c: False\n",
      "#Si el valor de a no \u00e9s major al valor de b i per\u00f2 si \u00e9s major al valor de c: True\n",
      "#Si el valor de a no \u00e9s major al valor de c i per\u00f2 si \u00e9s major al valor de b: True\n",
      "\n",
      "# Com que es tracta del cas 4, el resultat \u00e9s False (1 mai \u00e9s m\u00e9s gran que 2. 1 tampoc \u00e9s m\u00e9s gran que 5)"
     ],
     "language": "python",
     "metadata": {},
     "outputs": [
      {
       "metadata": {},
       "output_type": "pyout",
       "prompt_number": 23,
       "text": [
        "False"
       ]
      }
     ],
     "prompt_number": 23
    },
    {
     "cell_type": "code",
     "collapsed": false,
     "input": [
      "a = 1\n",
      "b = 2\n",
      "c = 5\n",
      "\n",
      "a <= a\n",
      "\n",
      "#Si el valor de a \u00e9s menor o igual que el valor de a: True\n",
      "#Si el valor de a no \u00e9s menor o igual que el valor de a: False\n",
      "\n",
      "# Com que a \u00e9s igual a a, el resultat \u00e9s True (1 = 1 , per tant, tamb\u00e9 podem afirmar que 1 \u00e9s m\u00e9s petit o igual que 1)"
     ],
     "language": "python",
     "metadata": {},
     "outputs": [
      {
       "metadata": {},
       "output_type": "pyout",
       "prompt_number": 25,
       "text": [
        "True"
       ]
      }
     ],
     "prompt_number": 25
    },
    {
     "cell_type": "code",
     "collapsed": false,
     "input": [
      "a = 1\n",
      "b = 2\n",
      "c = 5\n",
      "\n",
      "a <= (b and c)\n",
      "\n",
      "#Si el valor de a \u00e9s m\u00e9s petit o igual al valor de b i del de c: True\n",
      "#Si el valor de a \u00e9s m\u00e9s petit o igual al valor de b i per\u00f2 no del de c: False\n",
      "#Si el valor de a \u00e9s m\u00e9s petit o igual al valor de c i per\u00f2 no del de b: False\n",
      "\n",
      "#Si el valor de a no \u00e9s m\u00e9s petit o igual al valor de b i del de c: False\n",
      "\n",
      "# Com que ens trobem amb el primer cas, el resultat \u00e9s True (1 \u00e9s m\u00e9s petit que 2 a la mateixa vegada que \u00e9s m\u00e9s petit que 5, per tant, tamb\u00e9 es pot dir que \u00e9s m\u00e9s petit o igual que els 2)"
     ],
     "language": "python",
     "metadata": {},
     "outputs": [
      {
       "metadata": {},
       "output_type": "pyout",
       "prompt_number": 26,
       "text": [
        "True"
       ]
      }
     ],
     "prompt_number": 26
    },
    {
     "cell_type": "code",
     "collapsed": false,
     "input": [
      "a = 1\n",
      "b = 2\n",
      "c = 5\n",
      "\n",
      "a >= a\n",
      "\n",
      "#Si el valor de a \u00e9s m\u00e9s gran o igual al valor de a: True\n",
      "#Si el valor de a no \u00e9s m\u00e9s gran o igual al valor de a: False\n",
      "\n",
      "# Com que a=a, ens troblem amb el primer cas; True (1 = 1 , per tant, tamb\u00e9 podem afirmar que 1 \u00e9s m\u00e9s gran o igual que 1)"
     ],
     "language": "python",
     "metadata": {},
     "outputs": [
      {
       "metadata": {},
       "output_type": "pyout",
       "prompt_number": 16,
       "text": [
        "True"
       ]
      }
     ],
     "prompt_number": 16
    },
    {
     "cell_type": "code",
     "collapsed": false,
     "input": [
      "a = 1\n",
      "b = 2\n",
      "c = 5\n",
      "\n",
      "a >= (b and c)\n",
      "\n",
      "#Si el valor de a \u00e9s m\u00e9s gran o igual al valor de b i del de c: True\n",
      "#Si el valor de a \u00e9s m\u00e9s gran o igual al valor de b i per\u00f2 no del de c: False\n",
      "#Si el valor de a \u00e9s m\u00e9s gran o igual al valor de c i per\u00f2 no del de b: False\n",
      "\n",
      "#Si el valor de a no \u00e9s m\u00e9s gran o igual al valor de b i del de c (\u00e9s m\u00e9s petit per tant): False\n",
      "\n",
      "# Com que ens trobem amb el primer cas, el resultat \u00e9s False (1 no \u00e9s m\u00e9s gran que 2 a la mateixa vegada que tampoc \u00e9s m\u00e9s gran que 5, per tant, tamb\u00e9 l'afirmaci\u00f3 que \u00e9s m\u00e9s gran o igual que els 2 \u00e9s falsa)"
     ],
     "language": "python",
     "metadata": {},
     "outputs": [
      {
       "metadata": {},
       "output_type": "pyout",
       "prompt_number": 17,
       "text": [
        "False"
       ]
      }
     ],
     "prompt_number": 17
    },
    {
     "cell_type": "markdown",
     "metadata": {},
     "source": [
      "### 5.2 Amb cadenes de text\n",
      "\n",
      "<span style=\"color:blue\">Aquests operadors no nom\u00e9s es poden aplicar a comparacions entre valors num\u00e8rics, tamb\u00e9 es poden aplicar a cadenes de text. En aquest cas la comparaci\u00f3 es fa en funci\u00f3 de l'ordre alfab\u00e8tic. No es poden fer comparacions entre valors num\u00e8rics i cadenes de text.</span>\n",
      "\n",
      "<span style=\"color:blue\">A baix realitzo les mateixes operacions que a l'exercici 5.1 per\u00f2 amb strings. La justificaci\u00f3 seria repetir la anterior per\u00f2 al\u00b7ludint a que \"a\">\"b\">\"c\" en el ordre alfab\u00e8tic i \"a\"!=\"b\"!=\"c\"  </span>"
     ]
    },
    {
     "cell_type": "code",
     "collapsed": false,
     "input": [
      "a = \"a\"\n",
      "b = \"b\"\n",
      "c = \"c\"\n",
      "\n",
      "a == a"
     ],
     "language": "python",
     "metadata": {},
     "outputs": [
      {
       "metadata": {},
       "output_type": "pyout",
       "prompt_number": 30,
       "text": [
        "True"
       ]
      }
     ],
     "prompt_number": 30
    },
    {
     "cell_type": "code",
     "collapsed": false,
     "input": [
      "a = \"a\"\n",
      "b = \"b\"\n",
      "c = \"c\"\n",
      "\n",
      "a == (b or c)"
     ],
     "language": "python",
     "metadata": {},
     "outputs": [
      {
       "metadata": {},
       "output_type": "pyout",
       "prompt_number": 31,
       "text": [
        "False"
       ]
      }
     ],
     "prompt_number": 31
    },
    {
     "cell_type": "code",
     "collapsed": false,
     "input": [
      "a = \"a\"\n",
      "b = \"b\"\n",
      "c = \"c\"\n",
      "\n",
      "a != a"
     ],
     "language": "python",
     "metadata": {},
     "outputs": [
      {
       "metadata": {},
       "output_type": "pyout",
       "prompt_number": 41,
       "text": [
        "False"
       ]
      }
     ],
     "prompt_number": 41
    },
    {
     "cell_type": "code",
     "collapsed": false,
     "input": [
      "a = \"a\"\n",
      "b = \"b\"\n",
      "c = \"c\"\n",
      "\n",
      "a != (b or c)"
     ],
     "language": "python",
     "metadata": {},
     "outputs": [
      {
       "metadata": {},
       "output_type": "pyout",
       "prompt_number": 40,
       "text": [
        "True"
       ]
      }
     ],
     "prompt_number": 40
    },
    {
     "cell_type": "code",
     "collapsed": false,
     "input": [
      "a = \"a\"\n",
      "b = \"b\"\n",
      "c = \"c\"\n",
      "\n",
      "a != (b or c)"
     ],
     "language": "python",
     "metadata": {},
     "outputs": [
      {
       "metadata": {},
       "output_type": "pyout",
       "prompt_number": 39,
       "text": [
        "True"
       ]
      }
     ],
     "prompt_number": 39
    },
    {
     "cell_type": "code",
     "collapsed": false,
     "input": [
      "a = \"a\"\n",
      "b = \"b\"\n",
      "c = \"c\"\n",
      "\n",
      "a < (b and c)"
     ],
     "language": "python",
     "metadata": {},
     "outputs": [
      {
       "metadata": {},
       "output_type": "pyout",
       "prompt_number": 38,
       "text": [
        "True"
       ]
      }
     ],
     "prompt_number": 38
    },
    {
     "cell_type": "code",
     "collapsed": false,
     "input": [
      "a = \"a\"\n",
      "b = \"b\"\n",
      "c = \"c\"\n",
      "\n",
      "a > a"
     ],
     "language": "python",
     "metadata": {},
     "outputs": [
      {
       "metadata": {},
       "output_type": "pyout",
       "prompt_number": 37,
       "text": [
        "False"
       ]
      }
     ],
     "prompt_number": 37
    },
    {
     "cell_type": "code",
     "collapsed": false,
     "input": [
      "a = \"a\"\n",
      "b = \"b\"\n",
      "c = \"c\"\n",
      "\n",
      "a > (b or c)"
     ],
     "language": "python",
     "metadata": {},
     "outputs": [
      {
       "metadata": {},
       "output_type": "pyout",
       "prompt_number": 36,
       "text": [
        "False"
       ]
      }
     ],
     "prompt_number": 36
    },
    {
     "cell_type": "code",
     "collapsed": false,
     "input": [
      "a = \"a\"\n",
      "b = \"b\"\n",
      "c = \"c\"\n",
      "\n",
      "a <= a"
     ],
     "language": "python",
     "metadata": {},
     "outputs": [
      {
       "metadata": {},
       "output_type": "pyout",
       "prompt_number": 35,
       "text": [
        "True"
       ]
      }
     ],
     "prompt_number": 35
    },
    {
     "cell_type": "code",
     "collapsed": false,
     "input": [
      "a = \"a\"\n",
      "b = \"b\"\n",
      "c = \"c\"\n",
      "\n",
      "a <= (b and c)"
     ],
     "language": "python",
     "metadata": {},
     "outputs": [
      {
       "metadata": {},
       "output_type": "pyout",
       "prompt_number": 34,
       "text": [
        "True"
       ]
      }
     ],
     "prompt_number": 34
    },
    {
     "cell_type": "code",
     "collapsed": false,
     "input": [
      "a = \"a\"\n",
      "b = \"b\"\n",
      "c = \"c\"\n",
      "\n",
      "a <= a"
     ],
     "language": "python",
     "metadata": {},
     "outputs": [
      {
       "metadata": {},
       "output_type": "pyout",
       "prompt_number": 33,
       "text": [
        "True"
       ]
      }
     ],
     "prompt_number": 33
    },
    {
     "cell_type": "code",
     "collapsed": false,
     "input": [
      "a = \"a\"\n",
      "b = \"b\"\n",
      "c = \"c\"\n",
      "\n",
      "a <= (b and c)"
     ],
     "language": "python",
     "metadata": {},
     "outputs": [
      {
       "metadata": {},
       "output_type": "pyout",
       "prompt_number": 32,
       "text": [
        "True"
       ]
      }
     ],
     "prompt_number": 32
    },
    {
     "cell_type": "markdown",
     "metadata": {},
     "source": [
      "## Exercici 6\n",
      "\n",
      "<span style=\"color:blue\">Modifico la condici\u00f3 dins de l'if de manera que nom\u00e9s imprimeixo els valors seg\u00fcents entre 1 i 50. Ha de complir totes les condicions en una.\n",
      "\n",
      "* <span style=\"color:blue\">M\u00faltiples de 2</span>\n",
      "* <span style=\"color:blue\">M\u00faltiples de 3</span>\n",
      "* <span style=\"color:blue\"> Majors de 10</span>\n",
      "* <span style=\"color:blue\"> No siguin m\u00faltiples de 9</span>\n",
      "\n",
      "<span style=\"color:blue\">Ho faig a partir dels operadors relacionals.\n",
      "\n",
      "1) <span style=\"color:blue\">Per fer m\u00faltiples de 2: </span><span style=\"color:green\">x</span><span style=\"color:purple\">%</span><span style=\"color:green\">2</span><span style=\"color:purple\">==</span><span style=\"color:green\">0</span> </span>\n",
      "\n",
      "2) <span style=\"color:blue\">Per fer m\u00faltiples de 3: </span><span style=\"color:green\">y</span><span style=\"color:purple\">%</span><span style=\"color:green\">3</span><span style=\"color:purple\">==</span><span style=\"color:green\">0</span> </span>\n",
      "\n",
      "3) <span style=\"color:blue\">Per trobar els n\u00fameros majors de 10: </span>z<span style=\"color:purple\">></span><span style=\"color:green\">10</span>\n",
      "\n",
      "4) <span style=\"color:blue\">Per trobar els n\u00fameros no m\u00faltiples de 9 estableixo el mateix que amb els m\u00faltiples de 2 i 3 per\u00f2 amb la condici\u00f3 != (diferent): </span><span style=\"color:green\">a</span><span style=\"color:purple\">%</span><span style=\"color:green\">9</span><span style=\"color:purple\">!=</span><span style=\"color:green\">0</span>"
     ]
    },
    {
     "cell_type": "code",
     "collapsed": false,
     "input": [
      "#Parteixo d'aquest progama i he de modificar la condici\u00f3 de dins de l'if de manera que\n",
      "#nom\u00e9s s'imprimeixin els valors M\u00faltiples de 2 o M\u00faltiples de 3, Majors de 10 i que no siguin m\u00faltiples de 9.\n",
      "\n",
      "for x in range(1,51): #Obervo que el programa agafa valors de x entre 1 i 50\n",
      "    if( x%2==0 ): #I aquests valors compleixen que s\u00f3n m\u00faltiples de 2\n",
      "        print(x, end=\" \") #Despr\u00e9s imprimeix els n\u00fameros sota les conducions anteriors deixant un espai despr\u00e9s de cada cop de imprimir: (End=\" \")\n",
      "        \n",
      "    "
     ],
     "language": "python",
     "metadata": {},
     "outputs": [
      {
       "output_type": "stream",
       "stream": "stdout",
       "text": [
        "2 4 6 8 10 12 14 16 18 20 22 24 26 28 30 32 34 36 38 40 42 44 46 48 50 "
       ]
      }
     ],
     "prompt_number": 18
    },
    {
     "cell_type": "code",
     "collapsed": false,
     "input": [
      "#M\u00faltiples de 2: x.\n",
      "print (\"M\u00faltiples de 2: \")\n",
      "for x in range(1,51):\n",
      "    if( x%2==0 ):\n",
      "        print(x, end=\" \")\n",
      "        \n",
      "#M\u00faltiples de 3: y\n",
      "print (\"\\n\\nM\u00faltiples de 3: \")\n",
      "for y in range(1,51):\n",
      "    if( y%3==0 ):\n",
      "        print(y, end=\" \")\n",
      "\n",
      "#Majors de 10: z\n",
      "print (\"\\n\\nMajors de 10: \")\n",
      "for z in range(1,51):\n",
      "    if( z>10 ):\n",
      "        print(z, end=\" \")\n",
      "\n",
      "#No m\u00faltiples de 9 : a\n",
      "print (\"\\n\\nNo m\u00faltiples de 9: \")\n",
      "for a in range(1,51):\n",
      "    if( a%9!=0 ):\n",
      "        print(a, end=\"  \")"
     ],
     "language": "python",
     "metadata": {},
     "outputs": [
      {
       "output_type": "stream",
       "stream": "stdout",
       "text": [
        "M\u00faltiples de 2: \n",
        "2 4 6 8 10 12 14 16 18 20 22 24 26 28 30 32 34 36 38 40 42 44 46 48 50 \n",
        "\n",
        "M\u00faltiples de 3: \n",
        "3 6 9 12 15 18 21 24 27 30 33 36 39 42 45 48 \n",
        "\n",
        "Majors de 10: \n",
        "11 12 13 14 15 16 17 18 19 20 21 22 23 24 25 26 27 28 29 30 31 32 33 34 35 36 37 38 39 40 41 42 43 44 45 46 47 48 49 50 \n",
        "\n",
        "No m\u00faltiples de 9: \n",
        "1  2  3  4  5  6  7  8  10  11  12  13  14  15  16  17  19  20  21  22  23  24  25  26  28  29  30  31  32  33  34  35  37  38  39  40  41  42  43  44  46  47  48  49  50  "
       ]
      }
     ],
     "prompt_number": 19
    },
    {
     "cell_type": "code",
     "collapsed": false,
     "input": [
      "print (\"Complint totes les condicions: \")\n",
      "for x in range(1,51):\n",
      "    if( (x%2==0 or x%3==0) and (x>10 and x%9!=0)):\n",
      "        print (x, end=\" \")\n",
      "        \n",
      "#Faig que hagi de complir ahora les dues condicions:\n",
      "# La primera, que x sigui m\u00faltiple de 2 o de 3: x%2==0 or x%3==0\n",
      "# La segona, que x sigui major que 10 i alhora no sigui m\u00faltiple de 9; perqu\u00e8 si pos\u00e9s or m'imprimiria els menors de 10 diferent de 9(l'\u00fanic m\u00faltiple menor de 10)"
     ],
     "language": "python",
     "metadata": {},
     "outputs": [
      {
       "output_type": "stream",
       "stream": "stdout",
       "text": [
        "Complint totes les condicions: \n",
        "12 14 15 16 20 21 22 24 26 28 30 32 33 34 38 39 40 42 44 46 48 50 "
       ]
      }
     ],
     "prompt_number": 15
    }
   ],
   "metadata": {}
  }
 ]
}