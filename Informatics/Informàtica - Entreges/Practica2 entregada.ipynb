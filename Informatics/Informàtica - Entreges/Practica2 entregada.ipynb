{
 "metadata": {
  "name": "",
  "signature": "sha256:bb86b3ff97cb32850d3c61c0e0ac6bc8d63e80f33812075353fc33fce84d8196"
 },
 "nbformat": 3,
 "nbformat_minor": 0,
 "worksheets": [
  {
   "cells": [
    {
     "cell_type": "markdown",
     "metadata": {},
     "source": [
      "Autor de la pr\u00e0ctica: <span style=\"color:red; font-family:Georgia; font-size:2em;\">Albert Ripoll</span>"
     ]
    },
    {
     "cell_type": "markdown",
     "metadata": {},
     "source": [
      "#Document en format Markdown"
     ]
    },
    {
     "cell_type": "markdown",
     "metadata": {},
     "source": [
      "<span style=\"color:blue; font-family:Georgia; font-size:1.2em;\">Aquest document \u00e9s l'entrega de la **pr\u00e0ctica 2** d'Inform\u00e0tica.</span>\n",
      "\n",
      "* Qu\u00e8 s'ha de presentar:\n",
      " * Un document que demostri que ser construir un _Notebook_ amb la mateixa complicaci\u00f3 de sintaxi que el seg\u00fcent [document.](http://nbviewer.ipyton.org6768072) ![Aquest document](http://puu.sh/c3c0Y.png)\n",
      "* Com s'ha de presentar\n",
      "\n",
      "| <span style=\"color:red\">Coses a entregar</span> |\n",
      "|:-------:|:-------:|\n",
      "|   **1**   | ![IPN](http://jeffskinnerbox.me/images/logos/thumbnail/ipython_notebook_logo.png) Un fitxer _Notebook_ (l'actual) |\n",
      "| **2** | ![PDF](http://www.nosp.ie/images/pdf_icon.png) Un fitxer en PDF generat a partir d'aquest _Notebook_ |\n",
      "\n",
      "Al final, per\u00f2, s'ha dit que:\n",
      ">No cal que es penji amb pdf\n"
     ]
    },
    {
     "cell_type": "markdown",
     "metadata": {},
     "source": [
      "## Rep\u00e0s de F\u00f3rmules\n",
      "\n",
      "Appa! Se'ns han oblidat algunes f\u00f3rmules de Batxillerat i les volem recordar. Anem a escriure'n algunes.\n",
      "\n",
      "1. <span style=\"color:blue\">Com es resolia una equaci\u00f3 de segon grau? </span>\n",
      "    <span style=\"color:red\"> Es feia amb la f\u00f3rmula seg\u00fcent... \u2192  </span>    $x = \\frac{-b +- \\sqrt {b^2-4ac}}{2a}$\n",
      "2. <span style=\"color:blue\">$e^x$ com es definia?</span>\n",
      "   <span style=\"color:red\">Aix\u00ed:</span>  $$e^x= \\lim_{n \\to \\infty} \\left(1 +\\frac{x}{n}\\right)^n$$\n",
      "   \n",
      "   on $e^x$ mai podia ser $<0$\n",
      "     \n",
      "3. $$e^x = \\sum\\limits_{n=0}^\\infty\\frac{x^n}{n!}$$\n",
      "4. $$f=b_0 +\\frac{a_1}{b_1+\\frac{a_2}{b_2+\\frac{a_3}{b_3+b_4}}} $$\n",
      "5. $$ A =\n",
      "\\begin{pmatrix}\n",
      "a_{11}&a_{12}&a_{13}\\\\\n",
      "a_{21}&a_{22}&a_{23}\\\\\n",
      "a_{31}&a_{32}&a_{33}\\\\\n",
      "\\end{pmatrix}\n",
      "$$\n",
      "6. $$ x+y+z=3 $$\n",
      "7. $$ 2y=x+z $$\n",
      "8. $$ 2x+y=z $$\n",
      "9. $$ f(x)= \\int_{-\\infty}^x e^{{-t}^2}dt $$\n",
      "  "
     ]
    },
    {
     "cell_type": "markdown",
     "metadata": {},
     "source": [
      "<span style=\"font-size:2em;\">Woooooooow!!!</span> Per\u00f2 com hem pogut escriure aquestes f\u00f3rmules tant complicades amb _Markdown_ <span style=\"font-size:2em;\"> ??? </span>\n",
      "\n",
      "Doncs hem usat el llenguate que ens ho permet: ***LaTeX***\n",
      "\n",
      "\u2192 Aix\u00ed hem generat les m\u00faltiples fraccions per exemple:\n",
      "\n",
      "    $$f=b_0 +\\frac{a_1}{b_1+\\frac{a_2}{b_2+\\frac{a_3}{b_3+b_4}}} $$\n",
      "    \n",
      "\u2192 O aix\u00ed la matriu:\n",
      "\n",
      "    $$ A =\n",
      "    \\begin{pmatrix}\n",
      "    a_{11}&a_{12}&a_{13}\\\\\n",
      "    a_{21}&a_{22}&a_{23}\\\\\n",
      "    a_{31}&a_{32}&a_{33}\\\\\n",
      "    \\end{pmatrix}\n",
      "    $$"
     ]
    },
    {
     "cell_type": "markdown",
     "metadata": {},
     "source": [
      "##Opini\u00f3 de l'autor de la pr\u00e0ctica\n",
      "\n",
      "En la pr\u00e0ctica textualment diu que sigui un _Notebook_ amb l'aspecte anterior. Cito:\n",
      " > Exercici a lliurar: Construiu un Notebook que tingui l'aspecte del seg\u00fcent document\n",
      " \n",
      "<span style=\"font-family:Georgia; font-size:1.4em;\">Per\u00f2 JO crec que \u00e9s millor que tingui un aspecte m\u00e9s **bonic i personal** tot usant les mateixes eines sint\u00e0ctiques. </span>"
     ]
    },
    {
     "cell_type": "markdown",
     "metadata": {},
     "source": [
      "## Codi executable\n"
     ]
    },
    {
     "cell_type": "code",
     "collapsed": false,
     "input": [
      "for val in range(1,30,2):\n",
      "    print (val)"
     ],
     "language": "python",
     "metadata": {},
     "outputs": [
      {
       "output_type": "stream",
       "stream": "stdout",
       "text": [
        "1\n",
        "3\n",
        "5\n",
        "7\n",
        "9\n",
        "11\n",
        "13\n",
        "15\n",
        "17\n",
        "19\n",
        "21\n",
        "23\n",
        "25\n",
        "27\n",
        "29\n"
       ]
      }
     ],
     "prompt_number": 1
    },
    {
     "cell_type": "markdown",
     "metadata": {},
     "source": [
      "# Per\u00f2 si la originalitat no satisf\u00e0 al lector aqu\u00ed creo un document id\u00e8ntic en el qu\u00e8 m'havia de basar:"
     ]
    },
    {
     "cell_type": "markdown",
     "metadata": {},
     "source": [
      "##Sessi\u00f3 Introduct\u00f2ria 2: Document en format Markdown\n",
      "\n",
      "Text text text **negreta** text text text _cursiva_ text text text ```codi``` text text text. Text text text **negreta** text text text _cursiva_ text text text ```codi``` text text text. ext text text **negreta** text text text _cursiva_ text text text ```codi``` text text text. Text text text **negreta** text text text _cursiva_ text text text ```codi``` text text text. Text text text **negreta** text text text _cursiva_ text text text ```codi``` text text text. ext text text **negreta** text text text _cursiva_ text text text ```codi``` text text text.\n",
      "\n",
      "> Cita cita cita cita cita cita **negreta** cita cita cita cita cita _cursiva_ cita cita cita cita cita ```codi``` cita cita cita cita cita. Cita cita cita cita cita cita **negreta** cita cita cita cita cita _cursiva_ cita cita cita cita cita ```codi``` cita cita cita cita cita. Cita cita cita cita cita cita **negreta** cita cita cita cita cita _cursiva_ cita cita cita cita cita ```codi``` cita cita cita cita cita.\n",
      "\n",
      "------\n",
      "\n",
      "## T\u00edtol nivell 2\n",
      "### T\u00edtol nivell 3\n",
      "#### T\u00edtol nivell 4\n",
      "\n",
      "-------\n",
      "\n",
      "* llista nivell 1\n",
      "\n",
      " * llista nivell 2\n",
      "\n",
      "  * llista nivell 3\n",
      "\n",
      "\n",
      "1. primer llista numerada\n",
      "\n",
      "2. segon llista numerada\n",
      "\n",
      "------\n",
      "\n",
      "####Imatge web:\n",
      "\n",
      "(la podeu trobar a l'adre\u00e7a `http://www.ub.edu/web/ub/galeries/imatges/logo_home_nou.png`)\n",
      "\n",
      "![Logo-UB](http://www.ub.edu/web/ub/galeries/imatges/logo_home_nou.png)\n",
      "\n",
      "####Enlla\u00e7 a la Web de la [UB](http://www.ub.edu):\n",
      "\n",
      "####Taules `html`:\n",
      "Preced\u00e8ncia dels operadors:\n",
      "\n",
      "| 1er | 2on | 3er |\n",
      "|-----|-----|-----|\n",
      "|Aritm\u00e8tics | Comparaci\u00f3 | Booleans |\n",
      "|+ - * / ** % | == != <= >= | not and or |\n",
      "\n",
      "####Blocs de codi font (no executable):\n",
      "\n",
      "    for val in range(1,10,2):\n",
      "        print(val)\n",
      "        \n",
      "####Equacions `LaTeX`: \n",
      "$$ \\small e^x=\\sum_{n=0}^\\infty\\frac{x^n}{n!} $$\n",
      "\n",
      "$$ e^x=\\lim_{n\\to\\infty} \\left(1+\\frac xn\\right)^n $$\n",
      "\n",
      "$$ x=\\frac{-b\\pm\\sqrt{b^2-4ac}}{2a} $$\n",
      "\n",
      "$$ f=b_o+\\frac{a_1}{b_1+\\frac{a_2}{b_2+\\frac{a_3}{b_3+a_4}}} $$\n",
      "\n",
      "$$ A=\\left( \\begin{array} a_{11}&a_{12}&a_{13}\\\\a_{21}&a_{22}&a_{23}\\\\a_{31}&a_{32}&a_{33} \\end{array} \\right) $$\n",
      "\n",
      "$$ \\begin{array}{rcl} x+y+z&=&3\\\\2y&=&x+z\\\\2x+y&=&z\\end{array} $$\n",
      "\n",
      "$$ \\displaystyle f(x)=\\int_{-\\infty}^x e^{-t^2}dt $$\n",
      "\n",
      "####Codi executable: "
     ]
    },
    {
     "cell_type": "code",
     "collapsed": false,
     "input": [
      "for val in range(1,30,2):\n",
      "    print (val)"
     ],
     "language": "python",
     "metadata": {},
     "outputs": [
      {
       "output_type": "stream",
       "stream": "stdout",
       "text": [
        "1\n",
        "3\n",
        "5\n",
        "7\n",
        "9\n",
        "11\n",
        "13\n",
        "15\n",
        "17\n",
        "19\n",
        "21\n",
        "23\n",
        "25\n",
        "27\n",
        "29\n"
       ]
      }
     ],
     "prompt_number": 2
    }
   ],
   "metadata": {}
  }
 ]
}