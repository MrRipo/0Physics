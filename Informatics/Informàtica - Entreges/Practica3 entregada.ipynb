{
 "metadata": {
  "name": "",
  "signature": "sha256:14a5e0f901936a110c6c37f230bb08a8270618d4e7c94bb3b14e4e36ebe1dd4a"
 },
 "nbformat": 3,
 "nbformat_minor": 0,
 "worksheets": [
  {
   "cells": [
    {
     "cell_type": "markdown",
     "metadata": {},
     "source": [
      "Autor de la pr\u00e0ctica: <span style=\"color:red; font-family:Georgia; font-size:2em;\">Albert Ripoll</span>\n",
      "\n",
      "Les explicacions detallades que es demanen de cada exercici les far\u00e9 en <span style=\"color:blue\">Blau</span> i l'exercici en si estar\u00e0 realitzat en negre.\n",
      "\n",
      "##Exercici 1"
     ]
    },
    {
     "cell_type": "markdown",
     "metadata": {},
     "source": [
      "### N\u00famero de bits de 100 elevat a una repetici\u00f3"
     ]
    },
    {
     "cell_type": "markdown",
     "metadata": {},
     "source": [
      "<span style=\"color:blue\">Primer de tot tenia clar que la variable a definir havia de tenir el valor 100 enregistrat en el tipus de variable d'enter. Per tant el primer que vaig fer va ser escriure </span> `enter =` <span style=\"color:green\">100</span> <span style=\"color:blue\">. Despr\u00e9s vaig escriure</span> `enter = enter`<span style=\"color:purple\">** *</span> <span style=\"color:purple\"> *</span> <span style=\"color:green\">2 </span> <span style=\"color:blue\"> sabent que havia de repetir aquesta operaci\u00f3 diversos cops perqu\u00e8 super\u00e9s el nombre de bits de 32 i el de 64 ja que aix\u00ed demostraria que Python (al contrari que en altres llenguatges com C, C++ o Java) la mida dels enters no est\u00e0 limitada a aquest n\u00famero de bits. En un principi no sabia com realitzar el bucle aix\u00ed que vaig procedir en primer fer-ho per $100^2$. Havia de donar el nombre de bits que tenia $100^2$ \u00e9s a dir els bits que tenia la variable enter (que \u00e9s el mateix). Tamb\u00e9 sabia que la funci\u00f3 que permetia fer-ho era la funci\u00f3</span> enter.bit_length() <span style=\"color:blue\">Al voler que Python em don\u00e9s el resultat havia d'usar la funci\u00f3</span> <span style=\"color:green\"> print </span> <span style=\"color:blue\"> per tant vaig escriure </span> <span style=\"color:green\"> print</span> (<span style=\"color:red\">\"N\u00famero de bits de\"</span>, enter, <span style=\"color:red\">\"\u00e9s: \"</span>, enter.bit_length()) <span style=\"color:blue\"> amb el que m'escrivia:</span> N\u00famero de bits de 10000 \u00e9s:  14\n",
      "\n",
      "<span style=\"color:blue\">Ara nom\u00e9s em quedava definir un bucle que ho repet\u00eds els suficents cops. Vaig buscar per la web informaci\u00f3 sobre com es podia crear un bucle amb Python. Hi havia moltes maneres per\u00f2 la manera que s'havia anomenat a classe i la que vaig trobar m\u00e9s comprensible va ser usant la funci\u00f3 </span> <span style=\"color:green\"> While</span> <span style=\"color:blue\">Vaig definir una variable repeticions amb un n\u00famero i una variable i amb el n\u00famero 1. Aleshores vaig establir la condici\u00f3 que mentres la variable repeticions fos m\u00e9s gran o igual que i, repet\u00eds el proc\u00e9s. Un cop realitzat aix\u00f2 el n\u00famero que li vaig assignar a repeticions que en un principi va ser 3 vaig canviar-lo per 4 al veure que amb 4 repeticions del proc\u00e9s d'elevar l'enter superava el nombre de bits usuals (32 i 64) ja que se n'obtenien 107 </span>\n",
      "\n",
      "<span style=\"color:blue\">La seg\u00fcent pregunta que es feia en l'exercici era si es canviava el tipus de variable. Jo se que no es canvia perqu\u00e8 ja des del principi havia definit</span> enter <span style=\"color:blue\"> com un enter i en cap moment havia realitzat un _cast_ . Per\u00f2 per demostrar-ho he afegit que en cada repetici\u00f3 m'imprimeixi el tipus de variable:</span><span style=\"color:green\"> print</span> (<span style=\"color:red\">\"Tipus de variable: \"</span>, type(enter),\n",
      "\n",
      "<span style=\"color:blue\">Per millorar la presentaci\u00f3 de l'executatge he afegit</span> <span style=\"color:red\">\"\\n\"</span>) <span style=\"color:blue\"> al final d'aquest `print`</span>."
     ]
    },
    {
     "cell_type": "code",
     "collapsed": false,
     "input": [
      "enter = 100\n",
      "repeticions = 4\n",
      "i=1\n",
      "while repeticions >= i:\n",
      "    enter = enter**2\n",
      "    i = i+1\n",
      "    print (\"N\u00famero de bits de\", enter, \"\u00e9s: \", enter.bit_length())\n",
      "    print (\"Tipus de variable: \", type(enter),\"\\n\")"
     ],
     "language": "python",
     "metadata": {},
     "outputs": [
      {
       "output_type": "stream",
       "stream": "stdout",
       "text": [
        "N\u00famero de bits de 10000 \u00e9s:  14\n",
        "Tipus de variable:  <class 'int'> \n",
        "\n",
        "N\u00famero de bits de 100000000 \u00e9s:  27\n",
        "Tipus de variable:  <class 'int'> \n",
        "\n",
        "N\u00famero de bits de 10000000000000000 \u00e9s:  54\n",
        "Tipus de variable:  <class 'int'> \n",
        "\n",
        "N\u00famero de bits de 100000000000000000000000000000000 \u00e9s:  107\n",
        "Tipus de variable:  <class 'int'> \n",
        "\n"
       ]
      }
     ],
     "prompt_number": 32
    },
    {
     "cell_type": "markdown",
     "metadata": {},
     "source": [
      "####En la calculadora de l'ordinador\n",
      "\n",
      "<span style=\"color:blue\">He escrit en la calculadora 100 i he apretat el bot\u00f3 de la calculadora $x^2$ llavors he capturat la finestra de la calculadora amb el programma _Puush_. _Puush_ el que fa es captuar la pantalla i guardar-la en un enlla\u00e7 que caduca al cap d'un mes (\u00e9s a dir que les imatges que he posat de la calculadora que fan refer\u00e8ncia a un link no es podran mostrar d'aqu\u00ed un mes). He anat fent aix\u00f2 amb tots els resultats que m'han anat sortint fins que he arribat a un moment que m'ha sortit el missatge de sobreeiximent. \u00c9s llavors quan per m\u00e9s cops que clicava al bot\u00f3 $x^2$ no canviava la resposta perqu\u00e8 la funci\u00f3 del bot\u00f3 s'havia autoconvertiat a nul\u00b7la. Observant els resultats que m'anaven donant i fixant-me en la coincid\u00e8ncia dels n\u00fameros $1,e+32$ i $1,e+64$, he pogut arribar a la conclusi\u00f3 que he arribat en l'exercici.</span>\n",
      "\n",
      "La calculadora de l'ordinador \u00e9s capa\u00e7 d'enregistrat 32 bits, perqu\u00e8 quan a la calculadora li diem que elevi 10.000.000.000.000.000 al quadrat no ens d\u00f3na el valor exacte amb tots els car\u00e0cters que seria un 1 seguit de 32 zeros sin\u00f3 que ens indica que el valor \u00e9s $1,e+32$. Aix\u00ed ens ho va indicant per $1,e+64$, $1,e+128$, ..., $1,e+8192$. Per\u00f2 quan elevem $1,e+8192$ al quadrat ens surt el missatge de: \"sobreeiximent\" que ens indica el que en angl\u00e8s es diu *Overflow* (desbordament). \u00c9s a dir, que la calculadora no \u00e9s capa\u00e7 de dir-nos un n\u00famero de l'ordre de $1,e+10000$. De fet si provem d'escriure a l'input de la calculadora 1 exp 10000 no ens deixa ja que no emagatzema m\u00e9s car\u00e0cters (quan apreto el 0 despr\u00e9s d'haver apretat en el seg\u00fcent ordre: 1, 0, 0 no suceeix res). Aqu\u00ed est\u00e0 la prova:\n",
      "\n",
      "Si escribim 100 elevat a 2: ![calculadora1](http://puu.sh/c9woj.png)\n",
      "Si tornem a elevar a 2: ![calculadora2](http://puu.sh/c9wpI.png)\n",
      "Si tornem a elevar a 2: ![calculadora3](http://puu.sh/c9wqg.png)\n",
      "Si tornem a elevar a 2: ![calculadora4](http://puu.sh/c9wrM.png)\n",
      "Si tornem a elevar a 2: ![calculadora5](http://puu.sh/c9wsw.png)\n",
      "Si tornem a elevar a 2: ![calculadora6](http://puu.sh/c9wtL.png)\n",
      "I aix\u00ed elevem al quadrat 8 cops m\u00e9s per obtenir el seg\u00fcent resultat:![calculadora7](http://puu.sh/c9wEU.png)\n"
     ]
    },
    {
     "cell_type": "markdown",
     "metadata": {},
     "source": [
      "### Expressar enters en hexadecimal"
     ]
    },
    {
     "cell_type": "markdown",
     "metadata": {},
     "source": [
      "<span style=\"color:blue\">Utilitzant la mateixa base de l'exercici, he esborrat la l\u00ednia de print que em deia el tipus de variable que \u00e9s</span> enter <span style=\"color:blue\">(ja que ja s'ha demostrat que \u00e9s enter)</span> <span style=\"color:blue\">. I he afegit la funci\u00f3</span> <span style=\"color:green\"> format</span> <span style=\"color:blue\">en un print diferent perqu\u00e8 primer m'escrigui l'enter i despr\u00e9s el seu hexadecimal tot lligat amb un string explicatiu: </span> <span style=\"color:green\">print</span> (<span style=\"color:red\">\"L'enter %i en hexadecimal \u00e9s: %s\"</span> <span style=\"color:purple\">%</span>(enter, <span style=\"color:green\">format</span>(enter, <span style=\"color:red\">'x'</span>)))\n",
      "\n",
      "<span style=\"color:blue\">D'aquesta manera Python esciru:</span> L'enter + <span style=\"color:blue\">(El valor de l'enter que t\u00e9 en cada repetici\u00f3; ja que segueix la funci\u00f3 tant per cent en enter fins a</span> <span style=\"color:purple\">%</span>(enter,) + en hexadecimal \u00e9s: + <span style=\"color:blue\">(El valor que t\u00e9 l'enter en hexadecimal en cada repetici\u00f3; ja que segueix la funci\u00f3 tant per cent fins a </span> <span style=\"color:purple\">%</span>(, <span style=\"color:green\">format</span>(enter, <span style=\"color:red\">'x'</span>)) ) <span style=\"color:blue\"> que \u00e9s la funci\u00f3 <span style=\"color:green\">format</span> que el que fa \u00e9s canviar de la primera variable que li posem al primer argument a la segons variable. La primera \u00e9s el mateix enter i la segona \u00e9s l'expressi\u00f3 <span style=\"color:red\">'x'</span> que fa refer\u00e8ncia al valor hexadecimal.</span>"
     ]
    },
    {
     "cell_type": "code",
     "collapsed": false,
     "input": [
      "enter = 100\n",
      "repeticions = 4\n",
      "i=1\n",
      "while repeticions >= i:\n",
      "    enter = enter**2\n",
      "    i = i+1\n",
      "    print (\"L'enter %i en hexadecimal \u00e9s: %s\" %(enter, format(enter, 'x')))"
     ],
     "language": "python",
     "metadata": {},
     "outputs": [
      {
       "output_type": "stream",
       "stream": "stdout",
       "text": [
        "L'enter 10000 en hexadecimal \u00e9s: 2710\n",
        "0x2710\n",
        "L'enter 100000000 en hexadecimal \u00e9s: 5f5e100\n",
        "0x5f5e100\n",
        "L'enter 10000000000000000 en hexadecimal \u00e9s: 2386f26fc10000\n",
        "0x2386f26fc10000\n",
        "L'enter 100000000000000000000000000000000 en hexadecimal \u00e9s: 4ee2d6d415b85acef8100000000\n",
        "0x4ee2d6d415b85acef8100000000\n"
       ]
      }
     ],
     "prompt_number": 6
    },
    {
     "cell_type": "markdown",
     "metadata": {},
     "source": [
      "##Exercici 2\n",
      "\n",
      "<span style=\"color:blue\">Per fer la caluladora primer he definit a =4, b=3 i c=-10 i he importat l'arrel des de la llibreria math ja que era l'\u00fanica operaci\u00f3 que em faltava i que necessitava. Un cop fent aix\u00f2, he anat definint les variables de cada part de l'equaci\u00f3 que resol una equaci\u00f3 de segon grau, o sigui:</span> \n",
      "\n",
      "<span style=\"color:blue\">he definit -b com: menysb; 2a com dosa; ac com aperc; 4ac com quatreperaperc; b\u00b2 com balados; b\u00b2-4ac com baladosmenysquatreaperc etc. Construint-ho d'aquesta manera m'ha perm\u00e9s finalment escriure:</span>\n",
      "\n",
      "<span style=\"color:green\">print</span> (<span style=\"color:red\">\"Soluci\u00f3 1:</span> \", suma/dosa)\n",
      "\n",
      "<span style=\"color:green\">print </span> (<span style=\"color:red\">\"Soluci\u00f3 2:</span> \", resta/dosa)\n",
      "\n",
      "<span style=\"color:blue\">Despr\u00e9s d'haver definit suma com:</span> menysb <span style=\"color:purple\">+</span> arreldebaladosmenysapercperquatre\n",
      "\n",
      "<span style=\"color:blue\">i resta com:</span> menysb <span style=\"color:purple\">-</span> arreldebaladosmenysapercperquatre"
     ]
    },
    {
     "cell_type": "markdown",
     "metadata": {},
     "source": [
      "\n",
      "\n",
      "Calculadora que soluciona l'equaci\u00f3 de segon grau:\n",
      "$ a x^2 + b x + c = 0 $\n",
      "\n",
      "on els valors de a, b i c s\u00f3n:\n",
      "\n",
      "    a=4\n",
      "    b=3\n",
      "    c=-10"
     ]
    },
    {
     "cell_type": "code",
     "collapsed": false,
     "input": [
      "from math import sqrt\n",
      "\n",
      "a = 4\n",
      "b = 3\n",
      "c = -10\n",
      "\n",
      "menysb = (-b)\n",
      "balados = b**2\n",
      "aperc = a*c\n",
      "apercperquatre = 4*aperc\n",
      "baladosmenysapercperquatre = balados - apercperquatre\n",
      "arreldebaladosmenysapercperquatre = sqrt (baladosmenysapercperquatre)\n",
      "dosa = 2*a\n",
      "\n",
      "suma = menysb + arreldebaladosmenysapercperquatre\n",
      "resta = menysb - arreldebaladosmenysapercperquatre\n",
      "\n",
      "print (\"Soluci\u00f3 1: \", suma/dosa)\n",
      "print (\"Soluci\u00f3 2: \", resta/dosa)"
     ],
     "language": "python",
     "metadata": {},
     "outputs": [
      {
       "output_type": "stream",
       "stream": "stdout",
       "text": [
        "Soluci\u00f3 1:  1.25\n",
        "Soluci\u00f3 2:  -2.0\n"
       ]
      }
     ],
     "prompt_number": 7
    },
    {
     "cell_type": "markdown",
     "metadata": {},
     "source": [
      "## Exercici 3\n",
      "\n",
      "<span style=\"color:blue\">Per resoldre aquest exercici simplement he utilitzat els meus coneixaments sobre les portes l\u00f2giques i he usat el format taula.</span>\n",
      "\n",
      "Ompliu les \"Taules de veritat\" de les operacions `and` i `or`\n",
      "\n",
      "| a | b || a `and` b| a `or` b |\n",
      "|:---:|:---:||:---:|:---:|\n",
      "| True | True ||  True  | True  |\n",
      "| True | False || False   |  True |\n",
      "| False | True ||  False  | True  |\n",
      "| False | False || False | False  |"
     ]
    },
    {
     "cell_type": "markdown",
     "metadata": {},
     "source": [
      "## Exercici 4\n",
      "\n",
      "Variables de les que parteixo:\n",
      "\n",
      "    a = True\n",
      "    b = False\n",
      "    c = True\n",
      "\n",
      "Operacions a realitzar:\n",
      "  \n",
      "    o1 = a and b or c\n",
      "    o2 = a and (b or c)\n",
      "    o3 = (a and b) or c\n",
      "    o4 = not (a and b) or c\n",
      "    o5 = not ( (a and b) or c )"
     ]
    },
    {
     "cell_type": "code",
     "collapsed": false,
     "input": [
      "a = True\n",
      "b = False\n",
      "c = True\n",
      "\n",
      "o1 = a and b or c\n",
      "o2 = a and (b or c)\n",
      "o3 = (a and b) or c\n",
      "o4 = not (a and b) or c\n",
      "o5 = not ( (a and b) or c )\n",
      "\n",
      "print(\"o1= \", o1,\"\\no2= \", o2,\"\\no3= \", o3,\"\\no4= \", o4,\"\\no5= \", o5)"
     ],
     "language": "python",
     "metadata": {},
     "outputs": [
      {
       "output_type": "stream",
       "stream": "stdout",
       "text": [
        "o1=  True \n",
        "o2=  True \n",
        "o3=  True \n",
        "o4=  True \n",
        "o5=  False\n"
       ]
      }
     ],
     "prompt_number": 31
    },
    {
     "cell_type": "markdown",
     "metadata": {},
     "source": [
      "**Justificaci\u00f3:** se m'acut dues maneres de justificar les portes l\u00f2giques o taules de la veritat:\n",
      "\n",
      "* Aplicant la l\u00f2gica a les operacions (es pot explicar millor o pitjor per\u00f2 hi ha l\u00f2gica entre les operacions, un bon s\u00edmil per explicar-ho de manera m\u00e9s entenedora seria utilitzant contactes equivalents):\n",
      "\n",
      "o1: Com que c \u00e9s `True` fa que tota la operaci\u00f3 acabi sent `True`.\n",
      "\n",
      "o2: `b or c` \u00e9s `True` ja que c \u00e9s `True`. (La funci\u00f3 `or` diu que si una de les dos \u00e9s veritat el resultat \u00e9s veritat) si unim dos resultats verdaders tamb\u00e9 obtenim un verdader al final.\n",
      "\n",
      "o3: Qualsevol cosa que unim junt a una variable `True` com \u00e9s el cas de la c amb la funci\u00f3 `or` s'obt\u00e9 de resultat True; independent ment del que sigui `(a and b)`.\n",
      "\n",
      "o4: El mateix raonament que a la o3, \u00e9s igual que la funci\u00f3 `(a and b)` estigui negada si despr\u00e9s li sumo una variable c que \u00e9s `True`. El resultat seguir\u00e0 sent `True`.\n",
      "\n",
      "o5: La negaci\u00f3 de la o3 \u00e9s el `False` ja que o3 era `True`."
     ]
    },
    {
     "cell_type": "markdown",
     "metadata": {},
     "source": [
      "* Raonant a partir de saber que `True` \u00e9s 1 i `False` \u00e9s 0 i com s\u00f3n les operacions de les respectives portes l\u00f2giques: `Not`, `Or` i `And`:\n",
      "\n",
      "En binari:\n",
      "\n",
      "\n",
      "``True`` vol dir 1\n",
      "\n",
      "``False`` vol dir 0\n",
      "\n",
      "|  | `Or` | `And` | `Not` \n",
      "|:---:|:---:|:---:|:---:|\n",
      "| Operacions | + |  x  | 1\u21920 i 0\u21921|\n",
      "\n",
      "\n",
      "a = 1\n",
      "\n",
      "b = 0\n",
      "\n",
      "c = 1\n",
      "\n",
      "`o1 = a and b or c = 1 x 0 + 1 = 0 + 1 = 1 = True`\n",
      "\n",
      "`o2 = a and (b or c) = 1 x (0 + 1) = 1 x 1 = 1 = True`\n",
      "\n",
      "`o3 = (a and b) or c = (1 x 0) + 1 = 0 + 1 = 1 = True`\n",
      "\n",
      "`o4 = not (a and b) or c = not [(1 x 0)] + 1 = not[0] + 1 = 1 + 1 = True`\n",
      "\n",
      "`o5 = not ( (a and b) or c ) = not [(1 x 0) + 1] = not(0 + 1) = not (1) = 0 = False`"
     ]
    },
    {
     "cell_type": "markdown",
     "metadata": {},
     "source": [
      "##Exercici 5\n",
      "\n",
      "<span style=\"color:blue\">Provoco l'error i despr\u00e9s el corregeixo. L'error es produeix perqu\u00e8 Python no pot sumar un enter m\u00e9s un `string`, per\u00f2 puc un _cast_ i canviar el mode del `enter` a `string` per a poder concatenar 2 `strings` de tal manera que s'escrigui l'`enter` ent\u00e8s com un car\u00e0cter i no com a un valor.</span>"
     ]
    },
    {
     "cell_type": "code",
     "collapsed": false,
     "input": [
      "a=\"string qualsevol \"\n",
      "b=3,14159265\n",
      "print(a+b)"
     ],
     "language": "python",
     "metadata": {},
     "outputs": [
      {
       "ename": "TypeError",
       "evalue": "Can't convert 'tuple' object to str implicitly",
       "output_type": "pyerr",
       "traceback": [
        "\u001b[1;31m---------------------------------------------------------------------------\u001b[0m\n\u001b[1;31mTypeError\u001b[0m                                 Traceback (most recent call last)",
        "\u001b[1;32m<ipython-input-34-12d843d087c3>\u001b[0m in \u001b[0;36m<module>\u001b[1;34m()\u001b[0m\n\u001b[0;32m      1\u001b[0m \u001b[0ma\u001b[0m\u001b[1;33m=\u001b[0m\u001b[1;34m\"string qualsevol \"\u001b[0m\u001b[1;33m\u001b[0m\u001b[0m\n\u001b[0;32m      2\u001b[0m \u001b[0mb\u001b[0m\u001b[1;33m=\u001b[0m\u001b[1;36m3\u001b[0m\u001b[1;33m,\u001b[0m\u001b[1;36m14159265\u001b[0m\u001b[1;33m\u001b[0m\u001b[0m\n\u001b[1;32m----> 3\u001b[1;33m \u001b[0mprint\u001b[0m\u001b[1;33m(\u001b[0m\u001b[0ma\u001b[0m\u001b[1;33m+\u001b[0m\u001b[0mb\u001b[0m\u001b[1;33m)\u001b[0m\u001b[1;33m\u001b[0m\u001b[0m\n\u001b[0m",
        "\u001b[1;31mTypeError\u001b[0m: Can't convert 'tuple' object to str implicitly"
       ]
      }
     ],
     "prompt_number": 34
    },
    {
     "cell_type": "code",
     "collapsed": false,
     "input": [
      "a=\"string qualsevol \"\n",
      "b=3,14159265\n",
      "\n",
      "print (\"Corregint l'error: \" + a + str(b))"
     ],
     "language": "python",
     "metadata": {},
     "outputs": [
      {
       "output_type": "stream",
       "stream": "stdout",
       "text": [
        "Corregint l'error: string qualsevol (3, 14159265)\n"
       ]
      }
     ],
     "prompt_number": 39
    },
    {
     "cell_type": "markdown",
     "metadata": {},
     "source": [
      "##Exercici 6\n",
      "\n",
      "Calculadora que d\u00f3na solucions complexes a l'equaci\u00f3 de segon grau:\n",
      "$ a x^2 + b x + c = 0 $\n",
      "\n",
      "on els valors de a, b i c s\u00f3n:\n",
      "\n",
      "    a=5\n",
      "    b=1\n",
      "    c=10\n",
      "    \n",
      "<span style=\"color:blue\">Utilitzo el mateix llenguatge creat per la caluladora de reals (exercici2), canvio els valors de a, b, c i escric `from cmath import sqrt` en comptes de `from math import sqrt` per a crear aquesta calculadora.<span>"
     ]
    },
    {
     "cell_type": "code",
     "collapsed": false,
     "input": [
      "from cmath import sqrt\n",
      "\n",
      "a = 5\n",
      "b = 1\n",
      "c = 10\n",
      "\n",
      "menysb = (-b)\n",
      "balados = b**2\n",
      "aperc = a*c\n",
      "apercperquatre = 4*aperc\n",
      "baladosmenysapercperquatre = balados - apercperquatre\n",
      "arreldebaladosmenysapercperquatre = sqrt (baladosmenysapercperquatre)\n",
      "dosa = 2*a\n",
      "\n",
      "suma = menysb + arreldebaladosmenysapercperquatre\n",
      "resta = menysb - arreldebaladosmenysapercperquatre\n",
      "\n",
      "print (\"Soluci\u00f3 1: \", suma/dosa)\n",
      "print (\"Soluci\u00f3 2: \", resta/dosa)"
     ],
     "language": "python",
     "metadata": {},
     "outputs": [
      {
       "output_type": "stream",
       "stream": "stdout",
       "text": [
        "Soluci\u00f3 1:  (-0.1+1.4106735979665885j)\n",
        "Soluci\u00f3 2:  (-0.1-1.4106735979665885j)\n"
       ]
      }
     ],
     "prompt_number": 40
    },
    {
     "cell_type": "markdown",
     "metadata": {},
     "source": [
      "##Exercici 7\n",
      "\n",
      "<span style=\"color:blue\">Utilitzant l'exerici 2, que em calcula les solucions a partir d'unes variables a, b i c definides, el modifico perqu\u00e8 les variables no estiguin definides; sin\u00f3 que hagin de ser introduides per mitj\u00e0 d'un `input`. Aquest imput duu un _cast_ per converir l'`string` s'introdueix en un nombre real (`float`); \u00e9s a dir, el canvi que faig \u00e9s el seg\u00fcent:</span>\n",
      "\n",
      "a = <span style=\"color:green\">float</span>(<span style=\"color:green\">input</span>(<span style=\"color:red\">\"Introduiu el valor de a: \"</span>))\n",
      "\n",
      "b = <span style=\"color:green\">float</span>(<span style=\"color:green\">input</span>(<span style=\"color:red\">\"Introduiu el valor de b: \"</span>))\n",
      "\n",
      "c = <span style=\"color:green\">float</span>(<span style=\"color:green\">input</span>(<span style=\"color:red\">\"Introduiu el valor de c: \"</span>))\n",
      "\n",
      "<span style=\"color:blue\">Aquesta calculadora t\u00e9 un problema per\u00f2, que no he sabut resoldre (perqu\u00e8 resoldre no es pot) encara que si es podria informar al que introdueix les dades. Aquest problema es duu quan s'introdueix un valor que no es pot fer un _cast_ a real. \u00c9s a dir si li diem que el valor de a \u00e9s: \"hola\" Python no sabr\u00e0 convertir a enter a partir del `string` i donar\u00e0 error.</span>\n",
      "\n",
      "<span style=\"color:blue\">Una altra limitaci\u00f3 del programa \u00e9s que no soluciona complexos, per tant si introduim valors a a, b i c que creein que l'arrel sigui negativa per exemple (2,2,2) no pot solucionar l'arrel. Perqu\u00e8 ho pogu\u00e9s fer hauria d'importar l'arrel de la llibreria de complexos per tal que el programa fos capa\u00e7 de calcular-la</span>"
     ]
    },
    {
     "cell_type": "code",
     "collapsed": false,
     "input": [
      "from math import sqrt\n",
      "\n",
      "a = float(input(\"Introduiu el valor de a: \"))\n",
      "b = float(input(\"Introduiu el valor de b: \"))\n",
      "c = float(input(\"Introduiu el valor de c: \"))\n",
      "\n",
      "menysb = (-b)\n",
      "balados = b**2\n",
      "aperc = a*c\n",
      "apercperquatre = 4*aperc\n",
      "baladosmenysapercperquatre = balados - apercperquatre\n",
      "arreldebaladosmenysapercperquatre = sqrt (baladosmenysapercperquatre)\n",
      "dosa = 2*a\n",
      "\n",
      "suma = menysb + arreldebaladosmenysapercperquatre\n",
      "resta = menysb - arreldebaladosmenysapercperquatre\n",
      "\n",
      "print (\"Soluci\u00f3 1: \", suma/dosa)\n",
      "print (\"Soluci\u00f3 2: \", resta/dosa)"
     ],
     "language": "python",
     "metadata": {},
     "outputs": [
      {
       "name": "stdout",
       "output_type": "stream",
       "stream": "stdout",
       "text": [
        "Introduiu el valor de a: 4\n"
       ]
      },
      {
       "name": "stdout",
       "output_type": "stream",
       "stream": "stdout",
       "text": [
        "Introduiu el valor de b: 3\n"
       ]
      },
      {
       "name": "stdout",
       "output_type": "stream",
       "stream": "stdout",
       "text": [
        "Introduiu el valor de c: -10\n"
       ]
      },
      {
       "output_type": "stream",
       "stream": "stdout",
       "text": [
        "Soluci\u00f3 1:  1.25\n",
        "Soluci\u00f3 2:  -2.0\n"
       ]
      }
     ],
     "prompt_number": 10
    }
   ],
   "metadata": {}
  }
 ]
}