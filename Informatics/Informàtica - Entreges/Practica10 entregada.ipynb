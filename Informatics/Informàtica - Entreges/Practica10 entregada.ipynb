{
 "metadata": {
  "name": "",
  "signature": "sha256:73b6da51d9eec298c3b65f1421b9b45ab39bd2985f0f035b9b4b658406d0cf90"
 },
 "nbformat": 3,
 "nbformat_minor": 0,
 "worksheets": [
  {
   "cells": [
    {
     "cell_type": "markdown",
     "metadata": {},
     "source": [
      "Autor de la pr\u00e0ctica: <span style=\"color:red; font-family:Georgia; font-size:2em;\">Albert Ripoll</span>\n",
      "\n",
      "Llegenda de la pr\u00e0ctica:\n",
      "\n",
      "* En negre escric el que se'm demana fer en aquell exercici \n",
      "\n",
      "* En <span style=\"color:blue\">blau</span> escric les explicacions i els comentaris adequats de cada exercici.\n",
      "\n",
      "Objectiu de la pr\u00e0ctica:\n",
      "\n",
      "* L'objectiu d'aquesta pr\u00e0ctica \u00e9s familiaritzar-se amb l'\u00fas de la llibreria sympy. L'aplicarem per a resoldre\n",
      "alguns problemes de l'assignatura d'\u00e0lgebra i per problemes generals de c\u00e0lcul simb\u00f2lic i representaci\u00f3.\n",
      "\n",
      "Comentari previ:\n",
      "\n",
      "* Totes les cel\u00b7les d'un mateix exercici necessiten ser executades correlativament perqu\u00e8 el programa realitzi l'esperat, ja que per exemple la primera cel\u00b7la de totes \u00e9s la que cont\u00e9 l'import que totes les altres necessiten i les definicions de les variables usades per les cel\u00b7les posteriors.\n",
      "\n",
      "Les dues primeres l\u00ednies de codi de cada exercici s\u00f3n les mateixes i, per no repetir les explicacions a cada exericici, aclaro aqu\u00ed l'\u00fas d'aquestes dues l\u00ednies en cada exercici:\n",
      "\n",
      "<span style=\"color:blue\">Nom\u00e9s comen\u00e7ar, importo sympy per usar les funcions que em permet la llibreria durant tot el meu codi. Una d'aquestes funcions \u00e9s que Sympy permet que els *outputs* siguin formatejats en un format m\u00e9s atractiu (format LaTeX). Una de les maneres per fer-ho \u00e9s usan el m\u00e8tode `init_printing()` que habilitar\u00e0 el la impressi\u00f3 en LaTeX autom\u00e0ticament.</span>"
     ]
    },
    {
     "cell_type": "markdown",
     "metadata": {},
     "source": [
      "# Exercici 1\n",
      "\n",
      "Se'm demana provar, a partir de la definici\u00f3 de base, que els vectors $\\vec{a} = (1, 1, 0)$, $\\vec{b} = (1, \udbc0\udc00-1, 0)$ i $\\vec{c} = (1, 1, 1)$ s\u00f3n una base de $R^3$. Se'm indica que el que he de fer \u00e9s comprovar, construint el sistema d'equacions corresponent, que la \u00fanica soluci\u00f3 per a $\\alpha \\vec{a} + \\beta \\vec{b} + \\gamma \\vec{c} = (0, 0, 0)$ \u00e9s $\\alpha = \\beta = \\gamma=0$\n",
      "\n",
      "<span style=\"color:blue\">Defineixot les variables `alpha`, `beta` i `gamma` juntament amb les variables `a`, `b` i `c` per formar l'equaci\u00f3 corresponent i resoldre-la.</span>\n",
      "\n",
      "    import sympy as sp\n",
      "    sp.init_printing()\n",
      "    sp.var(\"alpha\")\n",
      "    sp.var(\"beta\")\n",
      "    sp.var(\"gamma\")\n",
      "    sp.var(\"a\")\n",
      "    sp.var(\"b\")\n",
      "    sp.var(\"c\")\n",
      "    \n",
      "    expr = alpha*a + beta*b + gamma*c\n",
      "    \n",
      "<span style=\"color:blue\">A partir d'aqu\u00ed creo tres expressions on substitueixo els tres valors. El primer de cada vector, el segon de cada vector i el tercer de l'altre vector.</span>\n",
      "\n",
      "<span style=\"color:blue\">Finalment, resolc el sistema de tres equacions utilitzant el m\u00e8tode `.solve()` on el primer argument s\u00f3n els tres sistemes d'equacions units en una llista i el segon argument s\u00f3n les variables a partir de les quals ha de trobar les solucions. Llavors el m\u00e8tode el que fa \u00e9s trobar els valors de alfa, beta i gamma. Aix\u00ed queda comprovat que l'\u00fanica soluci\u00f3 \u00e9s que els escalars que multipliquen els vectors sigui 0 i per tant, queda provat que $\\vec{a}$, $\\vec{b}$ i $\\vec{c}$ s\u00f3n una base de $R^3$</span>"
     ]
    },
    {
     "cell_type": "code",
     "collapsed": false,
     "input": [
      "import sympy as sp\n",
      "sp.init_printing()\n",
      "sp.var(\"alpha\")\n",
      "sp.var(\"beta\")\n",
      "sp.var(\"gamma\")\n",
      "sp.var(\"a\")\n",
      "sp.var(\"b\")\n",
      "sp.var(\"c\")"
     ],
     "language": "python",
     "metadata": {},
     "outputs": [
      {
       "latex": [
        "$$c$$"
       ],
       "metadata": {},
       "output_type": "pyout",
       "png": "[encoded data removed]",
       "prompt_number": 35,
       "text": [
        "c"
       ]
      }
     ],
     "prompt_number": 35
    },
    {
     "cell_type": "code",
     "collapsed": false,
     "input": [
      "expr1 = alpha*a + beta*b + gamma*c\n",
      "expr1 = expr1.subs(a,1)\n",
      "expr1 = expr1.subs(b,1)\n",
      "expr1 = expr1.subs(c,1)\n",
      "expr1"
     ],
     "language": "python",
     "metadata": {},
     "outputs": [
      {
       "latex": [
        "$$\\alpha + \\beta + \\gamma$$"
       ],
       "metadata": {},
       "output_type": "pyout",
       "png": "[encoded data removed]",
       "prompt_number": 36,
       "text": [
        "\u03b1 + \u03b2 + \u03b3"
       ]
      }
     ],
     "prompt_number": 36
    },
    {
     "cell_type": "code",
     "collapsed": false,
     "input": [
      "expr2 = alpha*a + beta*b + gamma*c\n",
      "expr2 = expr2.subs(a,1)\n",
      "expr2 = expr2.subs(b,-1)\n",
      "expr2 = expr2.subs(c,1)\n",
      "expr2"
     ],
     "language": "python",
     "metadata": {},
     "outputs": [
      {
       "latex": [
        "$$\\alpha - \\beta + \\gamma$$"
       ],
       "metadata": {},
       "output_type": "pyout",
       "png": "[encoded data removed]",
       "prompt_number": 37,
       "text": [
        "\u03b1 - \u03b2 + \u03b3"
       ]
      }
     ],
     "prompt_number": 37
    },
    {
     "cell_type": "code",
     "collapsed": false,
     "input": [
      "expr3 = alpha*a + beta*b + gamma*c\n",
      "expr3 = expr3.subs(a,0)\n",
      "expr3 = expr3.subs(b,0)\n",
      "expr3 = expr3.subs(c,1)\n",
      "expr3"
     ],
     "language": "python",
     "metadata": {},
     "outputs": [
      {
       "latex": [
        "$$\\gamma$$"
       ],
       "metadata": {},
       "output_type": "pyout",
       "png": "[encoded data removed]",
       "prompt_number": 38,
       "text": [
        "\u03b3"
       ]
      }
     ],
     "prompt_number": 38
    },
    {
     "cell_type": "code",
     "collapsed": false,
     "input": [
      "sol = sp.solve([expr1, expr2, expr3], [alpha, beta, gamma])\n",
      "sol"
     ],
     "language": "python",
     "metadata": {},
     "outputs": [
      {
       "latex": [
        "$$\\begin{Bmatrix}\\alpha : 0, & \\beta : 0, & \\gamma : 0\\end{Bmatrix}$$"
       ],
       "metadata": {},
       "output_type": "pyout",
       "png": "[encoded data removed]",
       "prompt_number": 39,
       "text": [
        "{\u03b1: 0, \u03b2: 0, \u03b3: 0}"
       ]
      }
     ],
     "prompt_number": 39
    },
    {
     "cell_type": "markdown",
     "metadata": {},
     "source": [
      "# Exercici 2\n",
      "\n",
      "Siguin\n",
      "\n",
      "$$ A =\n",
      "\\begin{pmatrix}\n",
      "1&1&0\\\\\n",
      "0&1&1\\\\\n",
      "0&0&1\\\\\n",
      "\\end{pmatrix}\n",
      "T =\n",
      "\\begin{pmatrix}\n",
      "0&1&0\\\\\n",
      "0&0&1\\\\\n",
      "0&0&0\\\\\n",
      "\\end{pmatrix}\n",
      "$$\n",
      "\n",
      "He de:\n",
      "* Comprovar que el determinant de $T^3$ = 0\n",
      "* Calcular $A^n$ per a $n$ = 2, 3, 4\n",
      "* Comprovar que:\n",
      "\n",
      "$$ A^n =\n",
      "\\begin{pmatrix}\n",
      "1&n&n*(n-1)/2\\\\\n",
      "0&1&n\\\\\n",
      "0&0&1\\\\\n",
      "\\end{pmatrix}\n",
      "$$\n",
      "\n",
      "<span style=\"color:blue\">Comen\u00e7o definint les dues matrius donades, A i T. Ho faig a trav\u00e9s d'escriure cada fila com una llista i passant aquestes llistes a el m\u00e8tode `.Matrix` de _Sympy_ que relaciona les llistes introdu\u00efdes en files d'igual nombre d'elements.</span>"
     ]
    },
    {
     "cell_type": "code",
     "collapsed": false,
     "input": [
      "import sympy as sp\n",
      "sp.init_printing()\n",
      "\n",
      "A = sp.Matrix([[1, 1, 0], [0, 1, 1], [0, 0, 1]])\n",
      "T = sp.Matrix([[0, 1, 0], [0, 0, 1], [0, 0, 0]])\n",
      "A, T"
     ],
     "language": "python",
     "metadata": {},
     "outputs": [
      {
       "latex": [
        "$$\\begin{pmatrix}\\left[\\begin{matrix}1 & 1 & 0\\\\0 & 1 & 1\\\\0 & 0 & 1\\end{matrix}\\right], & \\left[\\begin{matrix}0 & 1 & 0\\\\0 & 0 & 1\\\\0 & 0 & 0\\end{matrix}\\right]\\end{pmatrix}$$"
       ],
       "metadata": {},
       "output_type": "pyout",
       "png": "[encoded data removed]",
       "prompt_number": 20,
       "text": [
        "\u239b\u23a11  1  0\u23a4, \u23a10  1  0\u23a4\u239e\n",
        "\u239c\u23a2       \u23a5  \u23a2       \u23a5\u239f\n",
        "\u239c\u23a20  1  1\u23a5  \u23a20  0  1\u23a5\u239f\n",
        "\u239c\u23a2       \u23a5  \u23a2       \u23a5\u239f\n",
        "\u239d\u23a30  0  1\u23a6  \u23a30  0  0\u23a6\u23a0"
       ]
      }
     ],
     "prompt_number": 20
    },
    {
     "cell_type": "markdown",
     "metadata": {},
     "source": [
      "<span style=\"color:blue\">Segueixo en el que se'm demana; comprovar que el determinant de $T^3$ = 0. Per fer-ho realitzo la operaci\u00f3 d'elevar a tres la matriu (`T**3`) de manera matricial tal i com ho realitza _Sympy_ i no element a element com faria _Numpy_. Exemple de com ho faria _Numpy_:</span>\n",
      "\n",
      "    import numpy as np\n",
      "    matriu1 = np.random.randint(10, size = (3,3))\n",
      "    matriu2=matriu1**3\n",
      "    print(\"Matriu:\\n\", matriu1)\n",
      "    print(\"\\n\\nMatriu a la tres:\\n\",matriu2)\n",
      "\n",
      "<span style=\"color:blue\">Despr\u00e9s d'elevar a 3 T, aplico el m\u00e8tode de _Sympy_ de c\u00e0lcul de determinants i observo el resultat. Efectivament el resultat d\u00f3na 0. </span>\n",
      "\n",
      "<span style=\"color:blue\">Tamb\u00e9 es pot comprovar amb m\u00e9s detall que $T^3$ \u00e9s el c\u00e0lcul matricial de $T$ i que el seu resultat \u00e9s 0 amb el seg\u00fcent codi:</span>\n",
      "\n",
      "    import sympy as sp\n",
      "    T = sp.Matrix([[0, 1, 0], [0, 0, 1], [0, 0, 0]])\n",
      "    T_3 = T**3\n",
      "    print(\"Matriu:\\n\", T)\n",
      "    print(\"\\n\\nMatriu a la tres:\\n\",T_3)"
     ]
    },
    {
     "cell_type": "code",
     "collapsed": false,
     "input": [
      "sp.det(T**3)"
     ],
     "language": "python",
     "metadata": {},
     "outputs": [
      {
       "latex": [
        "$$0$$"
       ],
       "metadata": {},
       "output_type": "pyout",
       "png": "[encoded data removed]",
       "prompt_number": 21,
       "text": [
        "0"
       ]
      }
     ],
     "prompt_number": 21
    },
    {
     "cell_type": "markdown",
     "metadata": {},
     "source": [
      "<span style=\"color:blue\">Ara vaig a calcular el que se'm demana en el segon punt; $A^2$, $A^3$ i $A^4$. Com que ja tinc definida la matriu $A$, nom\u00e9s em cal escriure `A**2`, `A**3` i `A**4` per trobar el c\u00e0lcul exponencial de la matriu.</span> \n",
      "\n",
      "<span style=\"color:blue\">Per tant, definineixo `A_2` com $A^2$, `A_3` com $A^3$ i `A_4` com $A^4$. Despr\u00e9s defineixo `A_n` com la matriu de l'enunciat i la faig imprimir </span>"
     ]
    },
    {
     "cell_type": "code",
     "collapsed": false,
     "input": [
      "A_2=A**2\n",
      "A_3=A**3\n",
      "A_4=A**4\n",
      "\n",
      "A_n=sp.Matrix([[1, sp.var(\"n\"), sp.var(\"n\")*(n-1)/2], [0, 1, sp.var(\"n\")], [0, 0, 1]])\n",
      "A_n"
     ],
     "language": "python",
     "metadata": {},
     "outputs": [
      {
       "latex": [
        "$$\\left[\\begin{matrix}1 & n & \\frac{n}{2} \\left(n - 1\\right)\\\\0 & 1 & n\\\\0 & 0 & 1\\end{matrix}\\right]$$"
       ],
       "metadata": {},
       "output_type": "pyout",
       "png": "[encoded data removed]",
       "prompt_number": 46,
       "text": [
        "\u23a1      n\u22c5(n - 1)\u23a4\n",
        "\u23a21  n  \u2500\u2500\u2500\u2500\u2500\u2500\u2500\u2500\u2500\u23a5\n",
        "\u23a2          2    \u23a5\n",
        "\u23a2               \u23a5\n",
        "\u23a20  1      n    \u23a5\n",
        "\u23a2               \u23a5\n",
        "\u23a30  0      1    \u23a6"
       ]
      }
     ],
     "prompt_number": 46
    },
    {
     "cell_type": "markdown",
     "metadata": {},
     "source": [
      "<span style=\"color:blue\">A partir de les definicions anteriors puc calcular $A^n$ per n=2,3,4 i demostrar que $A^n$ correspon a la matriu donada. La demostraci\u00f3 es basa en veure que obtenim el mateix resultat al substituir n pel nombre 2 que al calcular $A^2$ i conseq\u00fcentment el mateix per 3 i per 4.</span>"
     ]
    },
    {
     "cell_type": "code",
     "collapsed": false,
     "input": [
      "A**2"
     ],
     "language": "python",
     "metadata": {},
     "outputs": [
      {
       "latex": [
        "$$\\left[\\begin{matrix}1 & 2 & 1\\\\0 & 1 & 2\\\\0 & 0 & 1\\end{matrix}\\right]$$"
       ],
       "metadata": {},
       "output_type": "pyout",
       "png": "[encoded data removed]",
       "prompt_number": 40,
       "text": [
        "\u23a11  2  1\u23a4\n",
        "\u23a2       \u23a5\n",
        "\u23a20  1  2\u23a5\n",
        "\u23a2       \u23a5\n",
        "\u23a30  0  1\u23a6"
       ]
      }
     ],
     "prompt_number": 40
    },
    {
     "cell_type": "code",
     "collapsed": false,
     "input": [
      "A_n.subs(n,2)"
     ],
     "language": "python",
     "metadata": {},
     "outputs": [
      {
       "latex": [
        "$$\\left[\\begin{matrix}1 & 2 & 1\\\\0 & 1 & 2\\\\0 & 0 & 1\\end{matrix}\\right]$$"
       ],
       "metadata": {},
       "output_type": "pyout",
       "png": "[encoded data removed]",
       "prompt_number": 47,
       "text": [
        "\u23a11  2  1\u23a4\n",
        "\u23a2       \u23a5\n",
        "\u23a20  1  2\u23a5\n",
        "\u23a2       \u23a5\n",
        "\u23a30  0  1\u23a6"
       ]
      }
     ],
     "prompt_number": 47
    },
    {
     "cell_type": "code",
     "collapsed": false,
     "input": [
      "A**3"
     ],
     "language": "python",
     "metadata": {},
     "outputs": [
      {
       "latex": [
        "$$\\left[\\begin{matrix}1 & 3 & 3\\\\0 & 1 & 3\\\\0 & 0 & 1\\end{matrix}\\right]$$"
       ],
       "metadata": {},
       "output_type": "pyout",
       "png": "[encoded data removed]",
       "prompt_number": 44,
       "text": [
        "\u23a11  3  3\u23a4\n",
        "\u23a2       \u23a5\n",
        "\u23a20  1  3\u23a5\n",
        "\u23a2       \u23a5\n",
        "\u23a30  0  1\u23a6"
       ]
      }
     ],
     "prompt_number": 44
    },
    {
     "cell_type": "code",
     "collapsed": false,
     "input": [
      "A_n.subs(n,3)"
     ],
     "language": "python",
     "metadata": {},
     "outputs": [
      {
       "latex": [
        "$$\\left[\\begin{matrix}1 & 3 & 3\\\\0 & 1 & 3\\\\0 & 0 & 1\\end{matrix}\\right]$$"
       ],
       "metadata": {},
       "output_type": "pyout",
       "png": "[encoded data removed]",
       "prompt_number": 49,
       "text": [
        "\u23a11  3  3\u23a4\n",
        "\u23a2       \u23a5\n",
        "\u23a20  1  3\u23a5\n",
        "\u23a2       \u23a5\n",
        "\u23a30  0  1\u23a6"
       ]
      }
     ],
     "prompt_number": 49
    },
    {
     "cell_type": "code",
     "collapsed": false,
     "input": [
      "A**4"
     ],
     "language": "python",
     "metadata": {},
     "outputs": [
      {
       "latex": [
        "$$\\left[\\begin{matrix}1 & 4 & 6\\\\0 & 1 & 4\\\\0 & 0 & 1\\end{matrix}\\right]$$"
       ],
       "metadata": {},
       "output_type": "pyout",
       "png": "[encoded data removed]",
       "prompt_number": 48,
       "text": [
        "\u23a11  4  6\u23a4\n",
        "\u23a2       \u23a5\n",
        "\u23a20  1  4\u23a5\n",
        "\u23a2       \u23a5\n",
        "\u23a30  0  1\u23a6"
       ]
      }
     ],
     "prompt_number": 48
    },
    {
     "cell_type": "code",
     "collapsed": false,
     "input": [
      "A_n.subs(n,4)"
     ],
     "language": "python",
     "metadata": {},
     "outputs": [
      {
       "latex": [
        "$$\\left[\\begin{matrix}1 & 4 & 6\\\\0 & 1 & 4\\\\0 & 0 & 1\\end{matrix}\\right]$$"
       ],
       "metadata": {},
       "output_type": "pyout",
       "png": "[encoded data removed]",
       "prompt_number": 50,
       "text": [
        "\u23a11  4  6\u23a4\n",
        "\u23a2       \u23a5\n",
        "\u23a20  1  4\u23a5\n",
        "\u23a2       \u23a5\n",
        "\u23a30  0  1\u23a6"
       ]
      }
     ],
     "prompt_number": 50
    },
    {
     "cell_type": "markdown",
     "metadata": {},
     "source": [
      "#Exercici 3\n",
      "\n",
      "He de comprovar que:\n",
      "\n",
      "$$ \n",
      "\\begin{vmatrix}\n",
      "0&1&1&1\\\\\n",
      "1&0&c^2&b^2\\\\\n",
      "1&c^2&0&a^2\\\\\n",
      "1&b^2&a^2&0\\\\\n",
      "\\end{vmatrix}\n",
      "=\n",
      "\\begin{vmatrix}\n",
      "0&a&b&c\\\\\n",
      "a&0&c&b\\\\\n",
      "b&c&0&a\\\\\n",
      "c&b&a&0\\\\\n",
      "\\end{vmatrix}\n",
      "=\n",
      "-(a+b+c)(b+c-a)(c+a-b)(a+b-c)\n",
      "$$\n",
      "\n",
      "<span style=\"color:blue\">Comen\u00e7o per definir les dues matrius, `M1` i `M2` de la primera igualtat. Per crear les matrius ho faig a partir d'una llista de llistes on cada llista correspon a una fila de la matriu.</span>"
     ]
    },
    {
     "cell_type": "code",
     "collapsed": false,
     "input": [
      "import sympy as sp\n",
      "sp.init_printing()\n",
      "\n",
      "a,b,c= sp.var('a,b,c')\n",
      "M1 = sp.Matrix([[0, 1, 1, 1], [1, 0, c**2, b**2], [1, c**2, 0, a**2], [1, b**2, a**2, 0]])\n",
      "M2 = sp.Matrix([[0, a, b, c], [a, 0, c, b], [b, c, 0, a], [c, b, a, 0]])\n",
      "\n",
      "M1, M2"
     ],
     "language": "python",
     "metadata": {},
     "outputs": [
      {
       "latex": [
        "$$\\begin{pmatrix}\\left[\\begin{matrix}0 & 1 & 1 & 1\\\\1 & 0 & c^{2} & b^{2}\\\\1 & c^{2} & 0 & a^{2}\\\\1 & b^{2} & a^{2} & 0\\end{matrix}\\right], & \\left[\\begin{matrix}0 & a & b & c\\\\a & 0 & c & b\\\\b & c & 0 & a\\\\c & b & a & 0\\end{matrix}\\right]\\end{pmatrix}$$"
       ],
       "metadata": {},
       "output_type": "pyout",
       "png": "[encoded data removed]",
       "prompt_number": 24,
       "text": [
        "\u239b\u23a10  1   1   1 \u23a4, \u23a10  a  b  c\u23a4\u239e\n",
        "\u239c\u23a2             \u23a5  \u23a2          \u23a5\u239f\n",
        "\u239c\u23a2        2   2\u23a5  \u23a2a  0  c  b\u23a5\u239f\n",
        "\u239c\u23a21  0   c   b \u23a5  \u23a2          \u23a5\u239f\n",
        "\u239c\u23a2             \u23a5  \u23a2b  c  0  a\u23a5\u239f\n",
        "\u239c\u23a2    2       2\u23a5  \u23a2          \u23a5\u239f\n",
        "\u239c\u23a21  c   0   a \u23a5  \u23a3c  b  a  0\u23a6\u239f\n",
        "\u239c\u23a2             \u23a5              \u239f\n",
        "\u239c\u23a2    2   2    \u23a5              \u239f\n",
        "\u239d\u23a31  b   a   0 \u23a6              \u23a0"
       ]
      }
     ],
     "prompt_number": 24
    },
    {
     "cell_type": "markdown",
     "metadata": {},
     "source": [
      "<span style=\"color:blue\">Per comprovar que $x=y$ puc usar el quart axioma dels nombres reals que diu: $\\forall x,y \\in \\mathbb{R} \u2192 \\exists z \\in \\mathbb{R}  \\quad  | \\quad  x+z=y$ a partir del qual es defineix l'element neutre:</span>\n",
      "\n",
      "<span style=\"color:blue\">Si $x=y \u2192 \\exists z = 0 \\ x-y=z$. D'on al substituir z per 0 tenim: $x-y=0$ on $x$ correspon a `det(M1)` i $y$ correspon a `det(M2)`.</span>\n",
      "\n",
      "<span style=\"color:blue\">En conseq\u00fc\u00e8ncia, en el meu programa, comprovo si la resta dels determinants de les matrius d\u00f3na zero. En aquest cas queda comprovada la primera igualtat.</span>"
     ]
    },
    {
     "cell_type": "code",
     "collapsed": false,
     "input": [
      "sp.det(M1)-sp.det(M2)"
     ],
     "language": "python",
     "metadata": {},
     "outputs": []
    },
    {
     "cell_type": "markdown",
     "metadata": {},
     "source": [
      "<span style=\"color:blue\">Ara ja s\u00e9 que els primers dos determinants s\u00f3n iguals. Em falta comprovar la tercera igualtat. Defineixo la tercera expressi\u00f3 com una matriu d'una fila.</span>"
     ]
    },
    {
     "cell_type": "code",
     "collapsed": false,
     "input": [
      "M3 = sp.Matrix([-(a+b+c)*(b+c-a)*(c+a-b)*(a+b-c)])\n",
      "M3"
     ],
     "language": "python",
     "metadata": {},
     "outputs": []
    },
    {
     "cell_type": "markdown",
     "metadata": {},
     "source": [
      "<span style=\"color:blue\">Un cop definida, l'expandeixo per veure la seva forma original que prov\u00e9 del c\u00e0lcul del determinant abans de \u00e9sser factoritzada.</span>"
     ]
    },
    {
     "cell_type": "code",
     "collapsed": false,
     "input": [
      "sp.expand(M3)"
     ],
     "language": "python",
     "metadata": {},
     "outputs": []
    },
    {
     "cell_type": "markdown",
     "metadata": {},
     "source": [
      "<span style=\"color:blue\">Ara calculo el determinant d'una de les dues matrius (\u00e9s igual quina, perqu\u00e8 ja s\u00e9 que s\u00f3n iguals) i obvservo que el resultat \u00e9s exactament igual que l'expansi\u00f3 de `M3`.</span>"
     ]
    },
    {
     "cell_type": "code",
     "collapsed": false,
     "input": [
      "sp.det(M2)"
     ],
     "language": "python",
     "metadata": {},
     "outputs": []
    },
    {
     "cell_type": "markdown",
     "metadata": {},
     "source": [
      "#Exercici 4\n",
      "\n",
      "Se'm pregunta que trobi quin dels seg\u00fcents polinomis s\u00f3n iguals:\n",
      "\n",
      "* $x^2-1$\n",
      "* $(x+1)(x+1)$\n",
      "* $(x-1)(x+1)$\n",
      "* $x^2+2x+1$\n",
      "\n",
      "Despr\u00e9s he de trobar les arrels dels polinomis anteriors.\n",
      "\n",
      "<span style=\"color:blue\">Per comen\u00e7ar defineixo la \u00fanica inc\u00f2gnita que tinc: $x$ amb `sympy.var(\"x\")`. Seguidament la uso per determinar els polinomis 1, 2, 3 i 4 de l'enunciat.</span>"
     ]
    },
    {
     "cell_type": "code",
     "collapsed": false,
     "input": [
      "import sympy as sp\n",
      "sp.init_printing()\n",
      "\n",
      "x=sp.var(\"x\")\n",
      "p1=x**2-1\n",
      "p2=(x+1)*(x+1)\n",
      "p3=(x-1)*(x+1)\n",
      "p4=x**2+2*x+1"
     ],
     "language": "python",
     "metadata": {},
     "outputs": []
    },
    {
     "cell_type": "markdown",
     "metadata": {},
     "source": [
      "<span style=\"color:blue\">El primer polinomi est\u00e0 expandit i veig que no \u00e9s equivalent al quart polinomi. Per veure si \u00e9s equivalent a un dels altres dos que est\u00e0 factoritzat, el factoritzo (`.factor`) i observo la seva completa equival\u00e8ncia amb el tercer polinomi.</span>"
     ]
    },
    {
     "cell_type": "code",
     "collapsed": false,
     "input": [
      "p1.factor()"
     ],
     "language": "python",
     "metadata": {},
     "outputs": []
    },
    {
     "cell_type": "markdown",
     "metadata": {},
     "source": [
      "<span style=\"color:blue\">El segon polinomi es troba factoritzat i no \u00e9s equivalent ni al primer ni al tercer. Podria correspondre al quart polinomi. Com que el quart polinomi es troba en forma expandida, expandeixo el segon polinomi i llavors observo que s\u00ed; que amb\u00f3s s\u00f3n equivalents.</span>"
     ]
    },
    {
     "cell_type": "code",
     "collapsed": false,
     "input": [
      "p2.expand()"
     ],
     "language": "python",
     "metadata": {},
     "outputs": []
    },
    {
     "cell_type": "markdown",
     "metadata": {},
     "source": [
      "<span style=\"color:blue\">Com que el primer polinomi \u00e9s equivalent al tercer i el segon \u00e9s equivalent al quart, m'\u00e9s suficient en calcular les arrels d'un dels dos polinomis equivalents ja que les arrels de l'altre serien les mateixes. Aix\u00ed doncs, calculo les arrels del segon i tercer polinomi.</span>"
     ]
    },
    {
     "cell_type": "code",
     "collapsed": false,
     "input": [
      "sp.solve(p2, x)"
     ],
     "language": "python",
     "metadata": {},
     "outputs": []
    },
    {
     "cell_type": "code",
     "collapsed": false,
     "input": [
      "sp.solve(p3, x)"
     ],
     "language": "python",
     "metadata": {},
     "outputs": []
    },
    {
     "cell_type": "markdown",
     "metadata": {},
     "source": [
      "#Exercici 5\n",
      "\n",
      "He de resoldre algebr\u00e0icament el seg\u00fcent sistema d'equacions i trobar la soluci\u00f3 per a $a=3$, $b=5$ i $c=4$  :\n",
      "\n",
      "$$ax-y+z = 4$$\n",
      "$$2x+by-3z = 1$$\n",
      "$$7x-y+cz = 14$$\n",
      "\n",
      "<span style=\"color:blue\">El primer pas \u00e9s transformar les equacions per igualar-les a zero.</span>\n",
      "\n",
      "<span style=\"color:blue\">$$ax-y+z = 4 \u2192 ax-y+z-4 = 0$$\n",
      "$$2x+by-3z = 1 \u2192 2x+by-3z-1 = 0$$\n",
      "$$7x-y+cz = 14 \u2192 7x-y+cz-14 = 0$$</span>\n",
      "\n",
      "<span style=\"color:blue\">El segon pas \u00e9s definir les variables a, b, c, x, y, z amb el m\u00e8tode `.var`.</span>\n",
      "\n",
      "<span style=\"color:blue\">El tercer pas \u00e9s escriure les expressions codificades.</span>\n",
      "\n",
      "<span style=\"color:blue\">L'\u00faltim pas \u00e9s aplicar la ressoluci\u00f3 d'aquestes expressions (`sp.solve()`) segons les inc\u00f2gnites x, y i z.</span>\n",
      "\n",
      "<span style=\"color:blue\">D'aquesta manera aconsegueixo resoldre el sistema d'equacions algebr\u00e0icamanent on a, b i c s\u00f3n nombres coneguts i les inc\u00f2gnites s\u00f3n x, y i z. L'*output* retornat ens indica que:</span>\n",
      "\n",
      "* <span style=\"color:blue\">$x = \\cfrac{1}{a}(y-z+4)$</span>\n",
      "\n",
      "* <span style=\"color:blue\">$y = \\cfrac{1}{b}(-2x+3z+1)$</span>\n",
      "\n",
      "* <span style=\"color:blue\">$z = \\cfrac{1}{c}(-7x+y+14)$</span>"
     ]
    },
    {
     "cell_type": "code",
     "collapsed": false,
     "input": [
      "import sympy as sp\n",
      "sp.init_printing()\n",
      "sp.var(\"x\")\n",
      "sp.var(\"y\")\n",
      "sp.var(\"z\")\n",
      "sp.var(\"a\")\n",
      "sp.var(\"b\")\n",
      "sp.var(\"c\")\n",
      "\n",
      "solx = sp.solve([a*x - y + z - 4], x)\n",
      "soly = sp.solve([2*x + b*y - 3*z - 1], y)\n",
      "solz = sp.solve([7*x - y + c*z -14], z)\n",
      "solx,soly,solz"
     ],
     "language": "python",
     "metadata": {},
     "outputs": []
    },
    {
     "cell_type": "markdown",
     "metadata": {},
     "source": [
      "<span style=\"color:blue\">Ara vaig a buscar el resultat num\u00e8ric. Per fer-ho creeo les tres expressions (`expr1`, `expr2`, `expr3`) que ja ten\u00edem (igualades a 0). Per crear-les els hi he d'aplicar el m\u00e8tode sympify ja que aquest em transforma l'expressi\u00f3 escrita de tipus _string_ amb una expressi\u00f3 de tipus _sympy_ amb la qual podem treballar. Un cop creada de manera que puc treballar amb ella, doncs treballo amb ella; substitueixo els valors de a, b i c en cada una de les expressions. Per fer la substituci\u00f3 indico l'expressi\u00f3 a la qual ha de substituir, seguit de `.subs` obro par\u00e8ntesi i escric primer la variable que he de substituir, una coma, i despr\u00e9s el valor d'aquesta i acabar tancant el par\u00e8ntesis. \u00c9s a dir: `expr1.subs(a,3)`. La nova expressi\u00f3 generada despr\u00e9s de la substituci\u00f3 la guardo en la mateixa variable; \u00e9s a dir, la reescric. Aquest proc\u00e9s el realitzo per les tres expressions que tinc i els tres nombres coneguts.</span>\n",
      "\n",
      "<span style=\"color:blue\">Despr\u00e9s de cada substituci\u00f3 escric `expr1`, `expr2` o `expr3` segons el cas perqu\u00e8 el m\u00e8tode `init_printing()` les reconegui i les escrigui. Aix\u00ed veiem com el programma ha susbtituit correctament.</span>"
     ]
    },
    {
     "cell_type": "code",
     "collapsed": false,
     "input": [
      "expr1 = sp.sympify(\"a*x - y + z - 4\")\n",
      "expr1 = expr1.subs(a,3)\n",
      "expr1"
     ],
     "language": "python",
     "metadata": {},
     "outputs": []
    },
    {
     "cell_type": "code",
     "collapsed": false,
     "input": [
      "expr2 = sp.sympify(\"2*x + b*y - 3*z - 1\")\n",
      "expr2 = expr2.subs(b,5)\n",
      "expr2"
     ],
     "language": "python",
     "metadata": {},
     "outputs": []
    },
    {
     "cell_type": "code",
     "collapsed": false,
     "input": [
      "expr3 = sp.sympify(\"7*x - y + c*z -14\")\n",
      "expr3 = expr3.subs(c,4)\n",
      "expr3"
     ],
     "language": "python",
     "metadata": {},
     "outputs": []
    },
    {
     "cell_type": "markdown",
     "metadata": {},
     "source": [
      "<span style=\"color:blue\">Un cop ja tinc les tres expressions definides ja amb la substituci\u00f3 dels nombres a, b i c i per tant ara nom\u00e9s en funci\u00f3 de x, y i z ,  soluciono el sistema. Per solucionar-lo faig servir el m\u00e8tode `sp.solve()` que \u00e9s l'encarregat d'a\u00efllar les variables indicades en el segon argument de les expressions del primer argument per tal de donar una soluci\u00f3 (Simb\u00f2lica o num\u00e8rica si \u00e9s possible). Com que el sistema creat per les tres expressions t\u00e9 tantes equacions com inc\u00f2gnites i el sistema \u00e9s compatible determinat, el programa ens \u00e9s capa\u00e7 de donar la soluci\u00f3 que t\u00e9 el sistema.</span>"
     ]
    },
    {
     "cell_type": "code",
     "collapsed": false,
     "input": [
      "sp.solve([expr1, expr2, expr3], [x, y, z])"
     ],
     "language": "python",
     "metadata": {},
     "outputs": []
    }
   ],
   "metadata": {}
  }
 ]
}