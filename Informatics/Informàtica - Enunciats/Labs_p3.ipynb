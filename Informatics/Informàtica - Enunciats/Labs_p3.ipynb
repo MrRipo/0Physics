{
 "metadata": {
  "name": "",
  "signature": "sha256:69cb6509ee9885b772baf665a725d0b876cd0880566cc41f14648780bdfbe81a"
 },
 "nbformat": 3,
 "nbformat_minor": 0,
 "worksheets": [
  {
   "cells": [
    {
     "cell_type": "markdown",
     "metadata": {},
     "source": [
      "![](files/by-sa.pdf)\n",
      "\n",
      "#Sessi\u00f3 Introduct\u00f2ria 3: Tipus de Dades i Variables #\n",
      "\n",
      "##Objectiu##\n",
      "\n",
      "L'objectiu de la pr\u00e0ctica \u00e9s entendre com python representa les dades i les guarda en mem\u00f2ria i aprendre a usar els diferents tipus de dades b\u00e0sics que python proporciona.\n",
      "\n",
      "Python inclou els seguents tipus de dades b\u00e0sics:\n",
      "\n",
      "1. `int`\n",
      "1. `float`\n",
      "1. `string`\n",
      "1. `boolean`\n",
      "\n",
      "Les caracteristiques d'aquests tipus dades es descriuen a continuaci\u00f3."
     ]
    },
    {
     "cell_type": "markdown",
     "metadata": {},
     "source": [
      "##Representaci\u00f3 d'enters: tipus `int`##\n",
      "\n",
      "Python usa el tipus `int` per representar valors num\u00e8rics que no tenen part decimal i que poden ser positius, zero o negatius (enters). Els valors de tipus `int` en principi s\u00f3n representats en mem\u00f2ria amb 32 bits i codificaci\u00f3 complement a dos (com s'ha comentat a teoria). Tanmateix, en Python (al contrari que en altres llenguatges com C, C++ o Java) la mida dels enters no est\u00e0 limitada a aquest n\u00famero de bits. En llenguatges que si tenen aquesta limitaci\u00f3 un enter representat amb 32 bits nom\u00e9s pot prendre valors en el rang:\n",
      "\n",
      "$$ -2^{31} <= valor <= 2^{31} -1 $$\n",
      "\n",
      "Aix\u00f2 provoca que si tenim un valor en el l\u00edmit d'aquesta representaci\u00f3:\n",
      "\n",
      "$$ variable = 2^{31} -1 = 2.147.483.647 $$\n",
      "\n",
      "i sumem 1, degut al format de representaci\u00f3 en complement a dos el resultat que s'obt\u00e9 \u00e9s:\n",
      "\n",
      "$$ variable = - 2.147.483.648 $$\n",
      "\n",
      "Afegint 1 a un valor positiu obtenim un n\u00famero negatiu! Aquest problema s'anomena *Overflow* (desbordament) de la representaci\u00f3 entera.\n",
      "\n",
      "Afortunadament en Python aquest problema no es dona. Quan en un c\u00e0lcul apareix un resultat que desborda els 32 que per defecte s'usen en la representaci\u00f3 d'un enter Python autom\u00e0ticament assigna un n\u00famero de bits m\u00e9s elevat, tants com calgui per evitar el desbordament.\n",
      "\n",
      "**Nota:** en versions de Python anteriors a la 3 es distingia entre els tipus `int` i `long`, per\u00f2 en Python 3 nom\u00e9s existeix el tipus `int` que t\u00e9 el comportament indicat.\n",
      "\n",
      "###Exemple 1###\n",
      "Comprovem que quan realitzem diverses operacions que porten a un valor superior a $2^{31}$ no observem cap comportament an\u00f2mal:"
     ]
    },
    {
     "cell_type": "code",
     "collapsed": false,
     "input": [
      "\"\"\" Definim la variable valor\n",
      "    del tipus enter i li associem\n",
      "    el valor 100\"\"\"\n",
      "enter = 100\n",
      "\n",
      "# multipliquem increment per increment \n",
      "# i guardem el resultat en increment...\n",
      "enter = enter**2\n",
      "enter = enter**2\n",
      "enter = enter**2\n",
      "\n",
      "print(enter)\n",
      "type(enter)"
     ],
     "language": "python",
     "metadata": {},
     "outputs": [
      {
       "output_type": "stream",
       "stream": "stdout",
       "text": [
        "10000000000000000\n"
       ]
      },
      {
       "metadata": {},
       "output_type": "pyout",
       "prompt_number": 30,
       "text": [
        "int"
       ]
      }
     ],
     "prompt_number": 30
    },
    {
     "cell_type": "markdown",
     "metadata": {},
     "source": [
      "Com veieu, la operaci\u00f3 es repeteix tres vegades, donant com a resulat un nombre superior a $2^{31}$:\n",
      "\n",
      "\n",
      "###Exercici 1###\n",
      "\n",
      "Quants bits usa Python per a representar un enter?\n",
      "\n",
      "> Les variables num\u00e8riques disposen d'un m\u00e8tode associat (__`bit_length()`__) que dona el nombre de bits que s'usa per representar el seu contingut. Per usar-lo, poseu el nom de la variable seg\u00fcit per un `'.'` i el nom del m\u00e8tode: `enter.bit_length()`\n",
      "\n",
      "1. Modifiqueu el programa anterior afegint m\u00e9s operacions i de manera que cada vegada que es repeteix la operaci\u00f3 s'imprimeixi el n\u00famero de bits usats. Observeu com el n\u00famero de bits augmenta significativament. Varia el tipus de la variable? Proveu a fer el mateix amb la calculadora de l'ordinador i comenta que passa.\n",
      "\n",
      "2. Modifiqueu el programa de manera que presenti el valor final tamb\u00e9 format hexadecimal. Demaneu ajuda al professor si no recordeu com es feia aquest canvi. "
     ]
    },
    {
     "cell_type": "markdown",
     "metadata": {},
     "source": [
      "##Representaci\u00f3 de n\u00fameros reals: tipus `float`##\n",
      "\n",
      "Python usa el tipus `float` per representar valors num\u00e8rics amb part entera i part decimal, que poden ser positius, zero o negatius (reals). El format `float` segueix el estandard [IEEE 754](http://grouper.ieee.org/groups/754/). En aquest est\u00e0ndard, tenim un bit associat al signe, una s\u00e8rie de bits associats a l'exponent i la resta forma la mantissa.\n",
      "\n",
      "Aix\u00ed, per a una representaci\u00f3 amb 32 bits el format del tipus de dada seria el seg\u00fcent:\n",
      "\n",
      "| Signe | Exponent | Fracci\u00f3 |\n",
      "|-------|----------|---------|\n",
      "|   0   | 01011100 | 11111100011100001111111 |\n",
      "\n",
      "Equivalent a:\n",
      " \n",
      " $$ 1,11111100011100001111111 * 2^{01011100}* 2^{127} $$\n",
      " \n",
      "El tipus `float` en Python es codifica en 64 bits; aix\u00f2 \u00e9s el qu\u00e8 s'anomena doble precisi\u00f3, per oposici\u00f3 a la precisi\u00f3 simple que correspon a 32 bits. Amb 64 bits es poden representar n\u00fameros reals amb una mantissa (decimals) d'aproximadament 16 xifres i valors aproximadament entre $10^{-323}$ i $10^{308}$.\n",
      "\n",
      "### Exemple ###"
     ]
    },
    {
     "cell_type": "code",
     "collapsed": false,
     "input": [
      "\"\"\" Fem un programa que operi\n",
      "    amb valors reals. \"\"\"\n",
      "a = 198674.340\n",
      "b = 0.000001\n",
      "c = a*b    # multipliquem\n",
      "d = a+b    # sumem\n",
      "e = b/a    # dividim\n",
      "f = a-b    # restem\n",
      "g = a**b   # elevem\n",
      "\n",
      "print(c)\n",
      "print(d)\n",
      "print(e)\n",
      "print(type(c))"
     ],
     "language": "python",
     "metadata": {},
     "outputs": [
      {
       "output_type": "stream",
       "stream": "stdout",
       "text": [
        "0.19867433999999998\n",
        "198674.340001\n",
        "5.033362637570609e-12\n",
        "<class 'float'>\n"
       ]
      }
     ],
     "prompt_number": 31
    },
    {
     "cell_type": "markdown",
     "metadata": {},
     "source": [
      "###Exercici 2###\n",
      "\n",
      "Implementeu usant variables de tipus real la soluci\u00f3 de la seg\u00fcent equaci\u00f3 de segon grau:\n",
      "\n",
      "$$ a x^2 + b x + c = 0 $$\n",
      "\n",
      "on:\n",
      "\n",
      "    a=4\n",
      "    b=3\n",
      "    c=-10\n",
      "\n",
      "\n",
      "> Recorda que per poder calcular l'arrel quadrada heu de cridar la funci\u00f3 __`sqrt`__ de la llibreria __`math`__. Si necesseciteu ajuda consulteu al professor de pr\u00e0ctiques."
     ]
    },
    {
     "cell_type": "markdown",
     "metadata": {},
     "source": [
      "## Representaci\u00f3 de valors l\u00f2gics: tipus `bool` ##\n",
      "\n",
      "Les variables booleanes s\u00f3n aquelles que nom\u00e9s poden prendre dos valors, corresponents a `cert` i `fals`: \n",
      "\n",
      "1. `True`\n",
      "2. `False`\n",
      "\n",
      "Aquestes variables es representen amb el tipus `bool`i se'ls poden aplicar les operacions l\u00f2giques:\n",
      "\n",
      "1. I -> `a and b`\n",
      "2. O -> `a or b`\n",
      "3. Negaci\u00f3 -> `not a`\n",
      "\n",
      "### Exemple ###\n",
      "\n",
      "Raoneu per qu\u00e8 el resultat del programa seg\u00fcent \u00e9s `False`"
     ]
    },
    {
     "cell_type": "code",
     "collapsed": false,
     "input": [
      "\"\"\"Exemple amb booleans...\"\"\"\n",
      "a = True\n",
      "b = False\n",
      "print(type(a))\n",
      "c = a and b\n",
      "print(\"el valor de 'a and b' \u00e9s \", c)"
     ],
     "language": "python",
     "metadata": {},
     "outputs": [
      {
       "output_type": "stream",
       "stream": "stdout",
       "text": [
        "<class 'bool'>\n",
        "el valor de 'a and b' \u00e9s  False\n"
       ]
      }
     ],
     "prompt_number": 32
    },
    {
     "cell_type": "markdown",
     "metadata": {},
     "source": [
      "####Exercici 3####\n",
      "\n",
      "Ompliu les \"Taules de veritat\" de les operacions `and` i `or` (presenteu la taula resulat a l'informe)\n",
      "    \n",
      "|  |  |`and`|`or`|\n",
      "|---|---|-----|----|\n",
      "| True | True |    |   |\n",
      "| True | False |    |   |\n",
      "| False | True |    |   |\n",
      "| False | False |`` ``|`` ``|\n",
      "\n",
      "####Exercici 4####\n",
      "\n",
      "Partint de les seg\u00fcents variables:\n",
      "\n",
      "    a = True\n",
      "    b = False\n",
      "    c = True\n",
      "\n",
      "Comproveu el resultat de les seg\u00fcents operacions\n",
      "  \n",
      "    o1 = a and b or c\n",
      "    o2 = a and (b or c)\n",
      "    o3 = (a and b) or c\n",
      "    o4 = not (a and b) or c\n",
      "    o4 = not ( (a and b) or c )\n",
      "    \n",
      "Raoneu per qu\u00e8 es donen els diferents resultats"
     ]
    },
    {
     "cell_type": "markdown",
     "metadata": {},
     "source": [
      "##Representaci\u00f3 de text: tipus `string`##\n",
      "\n",
      "Una variable del tipus `string` ens permet guardar un text, \u00e9s a dir una cadena (string) de car\u00e0cters. Per exemple:\n",
      "\n",
      ">`'hola que tal'`\n",
      "\n",
      ">`\"hola que tal\"`\n",
      "\n",
      ">`'3'`\n",
      "\n",
      ">`\"4\"`\n",
      "\n",
      ">`'%3\u20ac2@'`\n",
      "\n",
      "**Nota importnat:** noteu que la cadena \"4\" tot i contenir un car\u00e0cter num\u00e8ric, **no** \u00e9s un enter, no es pot usar com un `int`.\n",
      "\n",
      "L'assignaci\u00f3 a una variable d'una cadena es fa de la forma habitual, posant el text entre cometes senzilles o dobles:\n",
      "\n",
      "    unString = 'hola'\n",
      "    unAltreString = 'hola2'\n",
      "    \n",
      "Una cadena pot contenir qualsevol seq\u00fc\u00e8ncia de car\u00e0cters; cal tenir en compte que hi ha algunes combinacions que tenen un significat especial. Algunes d'elles s\u00f3n:\n",
      "\n",
      "    `\\t` introdueix una tabulaci\u00f3\n",
      "\n",
      "    `\\n` introdueix un salt de l\u00ednia\n",
      "\n",
      "    `\\\\` per posar el signe '\\'\n",
      "    \n",
      "### Exemple ###"
     ]
    },
    {
     "cell_type": "code",
     "collapsed": false,
     "input": [
      "# Comproveu la difer\u00e8ncia en la sortida a consola quan usem \\n i \\t\n",
      "print(\"Setze jutges d'un jutjat mengen fetge d'un penjat\")\n",
      "print(\"Setze jutges d'un jutjat \\n mengen fetge d'un penjat\")\n",
      "print(\"Setze jutges d'un jutjat \\t mengen fetge d'un penjat\")\n",
      "\n",
      "# Noteu que podem concatenar textos amb l'operador \"+\"\n",
      "a = \"hola\"\n",
      "b = \" mon\"\n",
      "print(a + b)"
     ],
     "language": "python",
     "metadata": {},
     "outputs": [
      {
       "output_type": "stream",
       "stream": "stdout",
       "text": [
        "Setze jutges d'un jutjat mengen fetge d'un penjat\n",
        "Setze jutges d'un jutjat \n",
        " mengen fetge d'un penjat\n",
        "Setze jutges d'un jutjat \t mengen fetge d'un penjat\n",
        "hola mon\n"
       ]
      }
     ],
     "prompt_number": 43
    },
    {
     "cell_type": "markdown",
     "metadata": {},
     "source": [
      "###Exercici 5###\n",
      "Intenteu concatenar amb l'operador \"+\" variables de tipus `int` o `float` amb una variable `string` i comproveu que d\u00f3na un error:\n",
      "\n",
      "    a=\"hola \"\n",
      "    b=2\n",
      "    print(a+b)\n",
      "    \n",
      "Raoneu per qu\u00e8 es produeix aquest error. La dunci\u00f3 `str()` aplicada a un valor num\u00e8ric el converteix en un `string`. Useu-la per corregir el programa anterior i que imprimeixi \"hola 2\" correctament."
     ]
    },
    {
     "cell_type": "markdown",
     "metadata": {},
     "source": [
      "## Representaci\u00f3 de n\u00fameros complexes: tipus `complex`##\n",
      "\n",
      "Python \u00e9s un dels pocs llenguatges de programaci\u00f3 que permet representar i operar amb n\u00fameros complexes en la sintaxi b\u00e0sica del llenguatge. Igual que en la resta de casos, la definici\u00f3 i l'assignaci\u00f3 \u00e9s senzilla i intuitiva:\n",
      "\n",
      "    a = 3+4j\n",
      "    b = 5+3j\n",
      "    print(type(a))\n",
      "\n",
      "Podem fer servir les operacions que hem treballat en els nombres reals. \n",
      "\n",
      "####Exercici 6####\n",
      "Feu un programa que resolgui la seg\u00fcent equaci\u00f3 de segon grau acceptant solucions complexes: \n",
      "\n",
      "$$ a x^2 + b x + c = 0 $$\n",
      "\n",
      "    a= 5\n",
      "    b= 1\n",
      "    c= 10\n",
      "\n",
      "> Disposeu de la llibreria __`cmath`__ on trobareu la funci\u00f3 per calcular arrels quadrades de n\u00fameros complexes. Demaneu ajuda al professor si no sabeu com usar-la."
     ]
    },
    {
     "cell_type": "markdown",
     "metadata": {},
     "source": [
      "##Canvis de tipus de dades##\n",
      "\n",
      "Quan realitzem operacions en Python a vegades poden ser entre valors de diferents tipus. En aquests casos Python adapta autom\u00e0ticament el tipus per evitar p\u00e8rdues de precisi\u00f3.\n",
      "\n",
      "###Exemple: canvi d'enter a real###"
     ]
    },
    {
     "cell_type": "code",
     "collapsed": false,
     "input": [
      "# Definim inicialment una variable de tipus enter\n",
      "a = 4\n",
      "print(\"Tipus inicial: \", type(a))\n",
      "\n",
      "# Fem una operaci\u00f3 d'aquest valor int amb un valor float. Noteu que el resultat \u00e9s un float.\n",
      "b= a*1.5\n",
      "print(\"Tipus resultat producte: \", type(b))"
     ],
     "language": "python",
     "metadata": {},
     "outputs": [
      {
       "output_type": "stream",
       "stream": "stdout",
       "text": [
        "Tipus inicial:  <class 'int'>\n",
        "Tipus resultat producte:  <class 'float'>\n"
       ]
      }
     ],
     "prompt_number": 3
    },
    {
     "cell_type": "markdown",
     "metadata": {},
     "source": [
      "La conversi\u00f3 d'un tipus de dades a un altre s'anomena *cast*. En al cas anterior aquesta conversi\u00f3 o *cast* ha sigut impl\u00edcita, l'ha fet Python autom\u00e0ticament, per\u00f2 es poden fer de forma expl\u00edcita usant funcions espec\u00edfiques com es veu en els exemples seg\u00fcents:"
     ]
    },
    {
     "cell_type": "code",
     "collapsed": false,
     "input": [
      "# Conversi\u00f3 de float a int\n",
      "print(\"float -> int\")\n",
      "a= 1.0 \n",
      "print(type(a))\n",
      "b= int(a)\n",
      "print(type(b))\n",
      "\n",
      "# Conversi\u00f3 d'int a float\n",
      "print(\"int -> float\")\n",
      "a= 1\n",
      "print(type(a))\n",
      "b= float(a)\n",
      "print(type(b))\n",
      "\n",
      "# Conversi\u00f3 de string a float\n",
      "print(\"string -> float\")\n",
      "a= \"1\"\n",
      "print(type(a))\n",
      "b= float(a)\n",
      "print(type(b))\n"
     ],
     "language": "python",
     "metadata": {},
     "outputs": [
      {
       "output_type": "stream",
       "stream": "stdout",
       "text": [
        "float -> int\n",
        "<class 'float'>\n",
        "<class 'int'>\n",
        "int -> float\n",
        "<class 'int'>\n",
        "<class 'float'>\n",
        "string -> float\n",
        "<class 'str'>\n",
        "<class 'float'>\n"
       ]
      }
     ],
     "prompt_number": 8
    },
    {
     "cell_type": "markdown",
     "metadata": {},
     "source": [
      "####Perills de fer un cast####\n",
      "\n",
      "Quan es fa una conversi\u00f3 cal anar amb compte per qu\u00e8 en alguns casos es poden produ\u00efr errors:\n",
      "\n",
      "1.- Fer un cast on el valor no pugui ser passat al tipus de variable que volem. Exemple:\n",
      "\n",
      "    a = 'hola'\n",
      "    b = float(a)\n",
      "    \n",
      "\n",
      "2.- Fer un cast de un tipus de dada amb m\u00e9s precisi\u00f3 a una amb menys precisi\u00f3. En aquest cas es perdr\u00e0 part de la informaci\u00f3. Exemple:\n",
      "\n",
      "    a = 2.4567545\n",
      "    b = int(a)\n",
      "    "
     ]
    },
    {
     "cell_type": "code",
     "collapsed": false,
     "input": [
      "# Veiem el segon cas...\n",
      "a = 2.4567545\n",
      "b = int(a)\n",
      "\n",
      "# Noteu que s'han perdut els decimals\n",
      "print(b)"
     ],
     "language": "python",
     "metadata": {},
     "outputs": [
      {
       "output_type": "stream",
       "stream": "stdout",
       "text": [
        "2\n"
       ]
      }
     ],
     "prompt_number": 9
    },
    {
     "cell_type": "markdown",
     "metadata": {},
     "source": [
      "Com veieu, la part decimal es perd totalment en aquest cas. \n",
      "\n",
      "###Exercici 7###\n",
      "A partir del programa fet anteriorment on es demanava calcular les arrels d'una equaci\u00f3 de segon ordre, feu una adaptaci\u00f3 del mateix perque el programa demani al usuari els coeficients per tal de fer el c\u00e0lcul, \u00e9s a dir. Si tenim:\n",
      "\n",
      "$$ a x^2 + b x + c = y $$\n",
      "\n",
      "El programa ens demanar\u00e0 entrar les dades a, b i c per tal de calcular el valor de x quan y \u00e9s igual a 0\n",
      "\n",
      "*Indicacions:* \n",
      "\n",
      "* Podeu demanar valors per consola (teclat) usant la seg\u00fcent comanda\n",
      "\n",
      "    valor= input(\"Doneu un valor\")\n",
      "    \n",
      "    \n",
      "* El text que introdu\u00efu per teclat quedar\u00e0 en la variable \"valor\", com una dada de tipus `string`. Per poder usar aquests valors en els c\u00e0lculs num\u00e8rics haureu de convertir-la a tipus `float` fent un cast.\n",
      "\n",
      "* Introduiu els comentaris necessaris per que el programa sigui f\u00e0cilment interpretable"
     ]
    },
    {
     "cell_type": "markdown",
     "metadata": {},
     "source": [
      "## Fitxer a entregar##\n",
      "\n",
      "Entregueu un Notebook amb tots els exercicis realitzats, explicant detalladament que heu fet en cada cas i les q\u00fcestions sol\u00b7lucionades i explicades detalladament. Pujeu el fitxer al Campus Virtual un cop acabada la pr\u00e0ctica."
     ]
    }
   ],
   "metadata": {}
  }
 ]
}