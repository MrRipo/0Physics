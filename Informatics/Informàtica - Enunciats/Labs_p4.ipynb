{
 "metadata": {
  "name": "",
  "signature": "sha256:421f10a3ebd1919ab749083f6152294ca3a92478fda4fcf430c48efc532e9f4a"
 },
 "nbformat": 3,
 "nbformat_minor": 0,
 "worksheets": [
  {
   "cells": [
    {
     "cell_type": "markdown",
     "metadata": {},
     "source": [
      "![](files/by-sa.pdf)\n",
      "\n",
      "#Sessi\u00f3 Introduct\u00f2ria 4: operadors #\n",
      "\n",
      "###Objectiu###\n",
      "\n",
      "L'objectiu de la pr\u00e0ctica \u00e9s con\u00e8ixer els operadors disponibles en Python i entendre quin \u00e9s l'ordre de prefer\u00e8ncia quan s'apliquen. Ja hem usat operadors de forma intu\u00eftiva en pr\u00e0ctiques anteriors, per\u00f2 en aquesta els estudiarem de forma sistem\u00e0tica i aprofundirem en el seu funcionament."
     ]
    },
    {
     "cell_type": "markdown",
     "metadata": {},
     "source": [
      "##Operadors aritm\u00e8tics##\n",
      "\n",
      "Com ja hem vist a teoria els operadors aritm\u00e8tics permeten realitzar c\u00e0lculs entre valors num\u00e8rics que corresponen a les operacions algebr\u00e0iques habituals:\n",
      "\n",
      "* Suma: +\n",
      "* Resta: -\n",
      "* Producte *\n",
      "* Divisi\u00f3: /\n",
      "* Divisi\u00f3 entera: //\n",
      "* Obtenci\u00f3 del reste en una divisi\u00f3 entera: %\n",
      "* Exponenciaci\u00f3: \\*\\*\n",
      "* M\u00f2dul: % (resta de la divisi\u00f3)\n"
     ]
    },
    {
     "cell_type": "markdown",
     "metadata": {},
     "source": [
      "###Variants dels operadors aritm\u00e8tics###\n",
      "\n",
      "L'operador `-` pot usar-se com el qu\u00e8 s'anomena **operador unitari**. En aquest cas s'aplica a un \u00fanic valor per canviar-li el signe. Per exemple:\n",
      "\n",
      "    a= 1\n",
      "    b= -a\n",
      "    print(b)\n",
      "    \n",
      "Noteu que en aquest cas l'operador `-` s'aplica nom\u00e9s a la variable `a` i el resultat \u00e9s que pren el valor d'aquesta variable i el retorna canviat de signe. Aquesta aplicaci\u00f3 de `-` \u00e9s for\u00e7a intu\u00eftiva, per\u00f2 conv\u00e9 remarcar que \u00e9s qualitativament diferent a la operaci\u00f3 entre dos valors.\n",
      "\n",
      "De la mateixa manera l'operador `+` es pot usar com a operador unitari, per\u00f2 rarament (si mai) \u00e9s necessari.\n",
      "\n",
      "Un altre cas de variant d'operador \u00e9s `//` que realitza el qu\u00e8 s'anomena **operaci\u00f3 entera**: fa una divisi\u00f3 i arrodoneix el resultat al valor enter inferior m\u00e9s proper. \n",
      "\n",
      "Comproveu el resultat (tipus i valor) de les operacions seg\u00fcents per veure com funciona:\n",
      "\n",
      "    a= 1//2\n",
      "    b= 1.//2.\n",
      "    c= 5.//3.\n",
      "    d= 15.//3."
     ]
    },
    {
     "cell_type": "markdown",
     "metadata": {},
     "source": [
      "\n",
      "###Combinaci\u00f3 d'operadors###\n",
      "\n",
      "Els operadors es poden combinar i encadenar per formar expressions complexes, com en l'exemple seg\u00fcent:"
     ]
    },
    {
     "cell_type": "code",
     "collapsed": false,
     "input": [
      "x = 3. + 5**2 - 2./3. \n",
      "print(x)"
     ],
     "language": "python",
     "metadata": {},
     "outputs": [
      {
       "output_type": "stream",
       "stream": "stdout",
       "text": [
        "27.333333333333332\n"
       ]
      }
     ],
     "prompt_number": 10
    },
    {
     "cell_type": "markdown",
     "metadata": {},
     "source": [
      "I, evidentment, aquestes expressions es poden formar a partir de variables que continguin valors num\u00e8rics:"
     ]
    },
    {
     "cell_type": "code",
     "collapsed": false,
     "input": [
      "x= 10.\n",
      "y= 20.\n",
      "z= x + y**2 - x*y + 2*x/y\n",
      "print(z)"
     ],
     "language": "python",
     "metadata": {},
     "outputs": [
      {
       "output_type": "stream",
       "stream": "stdout",
       "text": [
        "211.0\n"
       ]
      }
     ],
     "prompt_number": 11
    },
    {
     "cell_type": "markdown",
     "metadata": {},
     "source": [
      "Tamb\u00e9 es poden utilitzar par\u00e8ntesis per agrupar expressions i especificar l'ordre en qu\u00e8 s'executen els c\u00e0lculs:"
     ]
    },
    {
     "cell_type": "code",
     "collapsed": false,
     "input": [
      "x= 10.\n",
      "y= 20.\n",
      "z= x + y/(x+4.) - x**(y+1.)\n",
      "print(z)"
     ],
     "language": "python",
     "metadata": {},
     "outputs": [
      {
       "output_type": "stream",
       "stream": "stdout",
       "text": [
        "-1e+21\n"
       ]
      }
     ],
     "prompt_number": 12
    },
    {
     "cell_type": "markdown",
     "metadata": {},
     "source": [
      "### Preced\u00e8ncia d'operadors###\n",
      "\n",
      "Quan es formen expressions cal tenir en compte el qu\u00e8 s'anomenen **regles de preced\u00e8ncia**. L'expressi\u00f3 no s'avalua necess\u00e0riament de forma seq\u00fcencial d'esquerra a dreta sin\u00f3 que hi ha alguns operadors que s'avaluen abans que d'altres. \n",
      "\n",
      "La prioritat en l'aplicaci\u00f3 (ordre de preced\u00e8ncia) dels operadors \u00e9s la seg\u00fcent:\n",
      "\n",
      "|   |      |               |\n",
      "|---|------|---------------|\n",
      "| 1 | \\*\\* | Exponenciaci\u00f3 |\n",
      "| 2 | + -  | Operadors unitaris |\n",
      "| 3 | * / % // | Producte, divisi\u00f3, m\u00f2dul i divisi\u00f3 entera |\n",
      "| 4 | + -  | Suma i resta |\n",
      "\n",
      "Podeu comprovar els efectes de la preced\u00e8ncia en les expressions seg\u00fcents. Comproveu i raoneu els diferents resultats\n",
      "\n",
      "    o1 = 2.**1./2.\n",
      "    o2 = 2.**(1./2.)\n",
      "    \n",
      "    o3 = 2.*3.-4./2.\n",
      "    o4 = 2.*(3.-4.)/2."
     ]
    },
    {
     "cell_type": "markdown",
     "metadata": {},
     "source": [
      "####Exercici 1####\n",
      "\n",
      "Feu un programa que demani els valors de `x`, `y` i `z` per teclat, tradu\u00efu les formules seg\u00fcents a expressions en Python i imprimiu els resultats corresponents:\n",
      "\n",
      "$$a = \\frac{2x}{y+z}$$\n",
      "\n",
      "$$b = 4^{x+y} - (\\frac{z}{2x})^2 $$\n",
      "\n",
      "$$c = \\frac{2}{1+\\frac{x}{y}} $$\n",
      "\n",
      "$$d = x^{(y+1)^{z+2}} $$\n",
      "\n",
      "Comproveu que els vostres resultats s\u00f3n correctes comprovant-los manualment amb l'ajut d'una calculadora."
     ]
    },
    {
     "cell_type": "markdown",
     "metadata": {},
     "source": [
      "###Operadors aritm\u00e8tics i tipus de dades###\n",
      "\n",
      "Els operadors aritm\u00e8tics poden operar amb tots els t\u00edpus num\u00e8rics de Python: `int`, `float` i `complex`. Les operacions entre valors del mateix tipus d\u00f3nen com a resultat un valor d'aquest  tipus, com podem comprovar en l'exemple seg\u00fcent:"
     ]
    },
    {
     "cell_type": "code",
     "collapsed": false,
     "input": [
      "# Operaci\u00f3 entre int\n",
      "a= 1 + 2\n",
      "print(type(a)) # Resultat int\n",
      "\n",
      "# Operaci\u00f3 entre float\n",
      "b= 1. + 2.\n",
      "print(type(b)) # Resultat float\n",
      "\n",
      "# Operaci\u00f3 entre complex\n",
      "c= 1.+3j  +   2.+4j\n",
      "print(type(c)) # Resultat complex"
     ],
     "language": "python",
     "metadata": {},
     "outputs": [
      {
       "output_type": "stream",
       "stream": "stdout",
       "text": [
        "<class 'int'>\n",
        "<class 'float'>\n",
        "<class 'complex'>\n"
       ]
      }
     ],
     "prompt_number": 13
    },
    {
     "cell_type": "markdown",
     "metadata": {},
     "source": [
      "La divisi\u00f3 \u00e9s una excepci\u00f3 a aquesta regla. En Python 3.x la divisi\u00f3 de dos enters d\u00f3na com a resultat un valor `float` mentre que en versions anteriors de Python el resultat era un `int`.\n",
      "\n",
      "Aquest canvi s'ha introdu\u00eft en Python 3.x per evitar un tipus d'error de programaci\u00f3 molt com\u00fa quan es fan operacions amb enters. Quan el resultat \u00e9s un `int` tenim per exemple:\n",
      "\n",
      "    a= 1\n",
      "    b= 2\n",
      "    print(a/b) #El resultat \u00e9s zero!\n",
      "    \n",
      "El fet que `a/b` doni zero pot facilment portar a error. Per contra, quan el resultat \u00e9s un `float` tenim que:\n",
      "\n",
      "    a= 1\n",
      "    b= 2\n",
      "    print(a/b) #El resultat \u00e9s 0.5\n",
      "\n",
      "Executeu el seg\u00fcent programa en el vostre ordinador i discutiu el resultat:"
     ]
    },
    {
     "cell_type": "code",
     "collapsed": false,
     "input": [
      "# Operaci\u00f3 entre int\n",
      "a= 1 / 2\n",
      "print(a,type(a)) "
     ],
     "language": "python",
     "metadata": {},
     "outputs": [
      {
       "output_type": "stream",
       "stream": "stdout",
       "text": [
        "0.5 <class 'float'>\n"
       ]
      }
     ],
     "prompt_number": 14
    },
    {
     "cell_type": "markdown",
     "metadata": {},
     "source": [
      "Per altra banda, quan es fan operacions entre valors de diferents tipus el resultat ser\u00e0 un valor del tipus amb m\u00e9s precisi\u00f3, de manera que no es perdi informaci\u00f3. .\n",
      "\n",
      "####Exercici 2####\n",
      "\n",
      "Comproveu en un programa el tipus de variable que resulta de les seg\u00fcents operacions. Discutiu els resultats:\n",
      "\n",
      "    enter= 2\n",
      "    real= 3.\n",
      "    complex= 2.+5j\n",
      "    \n",
      "    o1= enter*enter\n",
      "    o2= enter*real\n",
      "    o3= enter*complex\n",
      "    o4= real*real\n",
      "    o5= real*complex\n",
      "    o6= enter/enter\n",
      "    o7= real/real\n",
      "    o8= real/complex\n",
      "    \n",
      "Tanmateix, quan es s'utilizen combinacions complexes d'operacions pot arribar-se a donar el cas que aquesta regla no sigui suficient per garantir que no es perdi precisi\u00f3, i cal anar amb compte"
     ]
    },
    {
     "cell_type": "markdown",
     "metadata": {},
     "source": [
      "##Operadors a nivell de bit##\n",
      "\n",
      "Com ja heu vist a teoria aquestes operacions treballen amb les variables tractant el seu contingut a nivell de bit. \n",
      "\n",
      "* and: &\n",
      "* or: j\n",
      "* xor: ^\n",
      "* not: ~\n",
      "* Despla\u00e7ament esquerra: <<\n",
      "* Despla\u00e7ament dreta: >>\n",
      "\n",
      "Per entendre com funcionen aquests operadors usarem les opcions de format de la funci\u00f3 `print()` per expressar un valor enter en binari. \n",
      "\n",
      "####Exercici 3####\n",
      "Executeu el programa seg\u00fcent per veure com s'expressen els diferents valors en binari. Raoneu el resultat."
     ]
    },
    {
     "cell_type": "code",
     "collapsed": false,
     "input": [
      "a= 1\n",
      "print(\"{:08b}\".format(a))\n",
      "a= a*2\n",
      "print(\"{:08b}\".format(a))\n",
      "a= a*2\n",
      "print(\"{:08b}\".format(a))\n",
      "a= a*2\n",
      "print(\"{:08b}\".format(a))\n",
      "\n",
      "b= 174\n",
      "print(\"{:08b}\".format(b))"
     ],
     "language": "python",
     "metadata": {},
     "outputs": [
      {
       "output_type": "stream",
       "stream": "stdout",
       "text": [
        "00000001\n",
        "00000010\n",
        "00000100\n",
        "00001000\n",
        "10101110\n"
       ]
      }
     ],
     "prompt_number": 15
    },
    {
     "cell_type": "markdown",
     "metadata": {},
     "source": [
      "Ara veurem l'efecte dels operadors a nivell de bit. \n",
      "\n",
      "Els quatre primers operadors  `&`, `|`,  `^` i  `~`   s'apliquen a dos valors enters a nivell dels bits que el composen: el primer bit amb el primer, el segon amb el segon, etc. \n",
      "\n",
      "Cada operador actua d'una forma espec\u00edfica amb els bits d'acord amb les taules que s'han donat a teoria. Per exemple:\n",
      "\n",
      "| Operador `and`| Resultat |\n",
      "|:-------:|:-----:|\n",
      "| 0 & 0 |  0 |\n",
      "| 0 & 1 |  0 |\n",
      "| 1 & 0 |  0 |\n",
      "| 1 & 1 |  1 |\n",
      "\n",
      "Ara podem veure a la pr\u00e0ctica com aquest operador opera entre els bits de dos valors en el codi seg\u00fcent. Noteu i raoneu el resultat."
     ]
    },
    {
     "cell_type": "code",
     "collapsed": false,
     "input": [
      "a= 133\n",
      "b= 210\n",
      "c= a & b\n",
      "\n",
      "print(\"{:08b}\".format(a))\n",
      "print(\"{:08b}\".format(b))\n",
      "print(\"{:08b}\".format(c))"
     ],
     "language": "python",
     "metadata": {},
     "outputs": [
      {
       "output_type": "stream",
       "stream": "stdout",
       "text": [
        "10000101\n",
        "11010010\n",
        "10000000\n"
       ]
      }
     ],
     "prompt_number": 16
    },
    {
     "cell_type": "markdown",
     "metadata": {},
     "source": [
      "Per altra banda, els operadors `<<` i `>>` s'apliquen a un \u00fanic valor despla\u00e7ant els seus bits a esquerra o dreta; cal indicar quantes vegades s'aplica el despla\u00e7ament i els bits despla\u00e7ats m\u00e9s enll\u00e0 del l\u00edmit dret es perden.\n",
      "\n",
      "####Exercici 4####\n",
      "\n",
      "Feu un programa que imprimeixi el resultat en bits de les seg\u00fcents operacions. Interpreteu i raoneu el resultat a partir de les taules dels operadors que heu vist a teoria:\n",
      "\n",
      "    o1= a & b\n",
      "    o2= a | b\n",
      "    o3= a ^ b\n",
      "    o4= ~b\n",
      "    o5= a << 2\n",
      "    o6= a >> 2\n",
      "    o7= a >> 8\n",
      "    \n",
      "Comproveu tamb\u00e9 com Python incrementa el n\u00famero de bits quan \u00e9s necessari:\n",
      "\n",
      "    o8= a<<64\n",
      "    print(o8.bit_length())\n",
      "    print(\"{:064b}\".format(o8))\n",
      "    \n",
      "Considereu els c\u00e0lculs seg\u00fcents\n",
      "\n",
      "    a= 2\n",
      "    print(a*2)\n",
      "    print(a<<1)\n",
      "    \n",
      "Per qu\u00e8 els resultats s\u00f3n iguals?"
     ]
    },
    {
     "cell_type": "markdown",
     "metadata": {},
     "source": [
      "##Operadors amb cadenes de car\u00e0cter##\n",
      "\n",
      "Com ja heu vist a teoria, en general els operadors aritm\u00e8tics no es poden aplicar per fer operacions amb dades de tipus `str` (cadenes de text), encara que el text contingut en les cadenes representi una xifra. Podeu comprovar que el programa seg\u00fcent d\u00f3na un error:"
     ]
    },
    {
     "cell_type": "code",
     "collapsed": false,
     "input": [
      "cadena = '15'\n",
      "numero = 10\n",
      "\n",
      "print(cadena+numero)"
     ],
     "language": "python",
     "metadata": {},
     "outputs": [
      {
       "ename": "TypeError",
       "evalue": "Can't convert 'int' object to str implicitly",
       "output_type": "pyerr",
       "traceback": [
        "\u001b[1;31m---------------------------------------------------------------------------\u001b[0m\n\u001b[1;31mTypeError\u001b[0m                                 Traceback (most recent call last)",
        "\u001b[1;32m<ipython-input-17-0d231b30cb1b>\u001b[0m in \u001b[0;36m<module>\u001b[1;34m()\u001b[0m\n\u001b[0;32m      2\u001b[0m \u001b[0mnumero\u001b[0m \u001b[1;33m=\u001b[0m \u001b[1;36m10\u001b[0m\u001b[1;33m\u001b[0m\u001b[0m\n\u001b[0;32m      3\u001b[0m \u001b[1;33m\u001b[0m\u001b[0m\n\u001b[1;32m----> 4\u001b[1;33m \u001b[0mprint\u001b[0m\u001b[1;33m(\u001b[0m\u001b[0mcadena\u001b[0m\u001b[1;33m+\u001b[0m\u001b[0mnumero\u001b[0m\u001b[1;33m)\u001b[0m\u001b[1;33m\u001b[0m\u001b[0m\n\u001b[0m",
        "\u001b[1;31mTypeError\u001b[0m: Can't convert 'int' object to str implicitly"
       ]
      }
     ],
     "prompt_number": 17
    },
    {
     "cell_type": "markdown",
     "metadata": {},
     "source": [
      "Veiem que per molt que la cadena contingui els car\u00e0cters que representen el n\u00famero 15 Python no pot fer la operaci\u00f3 de suma amb un enter. \n",
      "\n",
      "Hi ha, tanmateix, dos casos especials en que els operadors `+` i `*` es poden aplicar a dades de tipus `str`:\n",
      "\n",
      "* Concatenaci\u00f3 de cadenes `+`: l'operador combina dues cadenes de text en una\n",
      "* Replicaci\u00f3 de cadenes `*`: l'operador replica una cadena tantes vegades com indica un enter\n",
      "\n",
      "Comproveu el resultat de les operacions seg\u00fcents:\n",
      "\n",
      "    cadena1= 'Hola'\n",
      "    cadena2= ' m\u00f3n'\n",
      "    enter = 3\n",
      "    \n",
      "    print(cadena1+cadena2)\n",
      "    print(cadena1*enter)"
     ]
    },
    {
     "cell_type": "markdown",
     "metadata": {},
     "source": [
      "##Operadors relacionals##\n",
      "\n",
      "Els operadors relacionals permeten comparar dos valors. El resultat \u00e9s un valor boole\u00e0, `True` o `False` segons la taula seg\u00fcent:\n",
      "\n",
      "| Operador | `True` | `False` |\n",
      "|----------|--------|--------|\n",
      "| x == y   | Si el valor de `x` \u00e9s igual al valor de `y` | Si els valors s\u00f3n diferents |\n",
      "| x != y   | Si el valor de `x` i el valor de `y` s\u00f3n diferents | Si s\u00f3n iguals |\n",
      "| x > y    | Si el valor de `x` \u00e9s m\u00e9s gran que el valor de `y` | Si el valor de `x` \u00e9s m\u00e9s petit o igual al valor de `y`|\n",
      "| x < y    | Si el valor de `x` \u00e9s m\u00e9s petit que el valor de `y` | Si el valor de `x` \u00e9s m\u00e9s gran o igual al valor de `y`|\n",
      "| x >= y   | Si el valor de `x` \u00e9s m\u00e9s gran o igual que el valor de `y` | Si el valor de `x` \u00e9s m\u00e9s petit que valor de `y`|\n",
      "| x <= y   | Si el valor de `x` \u00e9s m\u00e9s petit o igual que el valor de `y` | Si el valor de `x` \u00e9s m\u00e9s gran que valor de `y`|\n",
      "\n",
      "**Important:** aquests operadors no nom\u00e9s es poden aplicar a comparacions entre valors num\u00e8rics, tamb\u00e9 es poden aplicar a cadenes de text. En aquest cas la comparaci\u00f3 es fa en funci\u00f3 de l'ordre alfab\u00e8tic. No es poden fer comparacions entre valors num\u00e8rics i cadenes de tex\n",
      "\n",
      "####Exercici 5####\n",
      "\n",
      "Comproveu la taula anterior mitjan\u00e7ant un programa que faci comparacions de valors enters. Comproveu tamb\u00e9 com funcionen les comparacions entre cadenes de text i raoneu el resultat."
     ]
    },
    {
     "cell_type": "markdown",
     "metadata": {},
     "source": [
      "##Operadors booleans##\n",
      "\n",
      "Aquests operadors, com el seu nom indica, permeten fer operacions entre valors booleans. Ja els hem tractat a teoria i a la pr\u00e0ctica 3 i s\u00f3n:\n",
      "\n",
      "1. I -> `a and b`\n",
      "2. O -> `a or b`\n",
      "3. Negaci\u00f3 -> `not a`\n",
      "\n",
      "El seu \u00fas m\u00e9s habitual \u00e9s per combinar els resultats dels operadors relacionals per poder formular condicions complexes, i el seu resultat es un valor boole\u00e0, `True` o `False`. Per exemple:\n",
      "\n",
      "    x>z and y>z\n",
      "    \n",
      "donar\u00e0 com a resultat `True` si el valor `z` \u00e9s a la vegada m\u00e9s petit que el valor de `x` i de `y`. Altrament donar\u00e0 `False`. Es poden usar par\u00e8ntesis per constru\u00efr les expressions de forma adeq\u00fcada, com per exemple:\n",
      "\n",
      "    ( x>2 or y>2 ) and z!=3\n",
      "\n",
      "\n",
      "Aquestes combinacions s'utilitzen en les estructures de control de flux (`if`, `while`) que veureu m\u00e9s endavant en el curs; comen\u00e7arem a veure un exemple en l'exercici seg\u00fcent.\n",
      "\n",
      "####Exercici 6####\n",
      "\n",
      "El programa seg\u00fcent imprimeix els enters entre 1 i 50:"
     ]
    },
    {
     "cell_type": "code",
     "collapsed": false,
     "input": [
      "for x in range(1,51):\n",
      "    print(x, end=\" \")"
     ],
     "language": "python",
     "metadata": {},
     "outputs": [
      {
       "output_type": "stream",
       "stream": "stdout",
       "text": [
        "1 2 3 4 5 6 7 8 9 10 11 12 13 14 15 16 17 18 19 20 21 22 23 24 25 26 27 28 29 30 31 32 33 34 35 36 37 38 39 40 41 42 43 44 45 46 47 48 49 50 "
       ]
      }
     ],
     "prompt_number": 27
    },
    {
     "cell_type": "markdown",
     "metadata": {},
     "source": [
      "El podem modificar amb la sent\u00e8ncia `if` per qu\u00e8 nom\u00e9s imprimeixi els n\u00fameros parells. Noteu que aix\u00f2 s'aconsegueix amb la condici\u00f3 `x%2==0` dins de `if`."
     ]
    },
    {
     "cell_type": "code",
     "collapsed": false,
     "input": [
      "for x in range(1,51):\n",
      "    if( x%2==0 ):\n",
      "        print(x, end=\" \")"
     ],
     "language": "python",
     "metadata": {},
     "outputs": [
      {
       "output_type": "stream",
       "stream": "stdout",
       "text": [
        "2 4 6 8 10 12 14 16 18 20 22 24 26 28 30 32 34 36 38 40 42 44 46 48 50 "
       ]
      }
     ],
     "prompt_number": 28
    },
    {
     "cell_type": "markdown",
     "metadata": {},
     "source": [
      "Modifiqueu la condici\u00f3 dins de l'if de manera que nom\u00e9s s'imprimeixin els valors que acompleixin les condicions seg\u00fcents:\n",
      "\n",
      "* M\u00faltiples de 2 o M\u00faltiples de 3\n",
      "* Majors de 10\n",
      "* No siguin m\u00faltiples de 9"
     ]
    },
    {
     "cell_type": "code",
     "collapsed": false,
     "input": [],
     "language": "python",
     "metadata": {},
     "outputs": []
    }
   ],
   "metadata": {}
  }
 ]
}